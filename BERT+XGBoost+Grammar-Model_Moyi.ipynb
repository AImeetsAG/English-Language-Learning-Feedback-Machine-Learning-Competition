{
 "cells": [
  {
   "cell_type": "markdown",
   "id": "eec15f0f",
   "metadata": {},
   "source": [
    "Model taking BERT Token to feed into XGBoost Regressor with the Grammar column training replaced by the Grammar model (XGBoost on preprocessed grammar data using BERT)"
   ]
  },
  {
   "cell_type": "markdown",
   "id": "d9554677",
   "metadata": {
    "id": "g3SSeRitfn20"
   },
   "source": [
    "# Import Packages"
   ]
  },
  {
   "cell_type": "code",
   "execution_count": 1,
   "id": "35fcf249",
   "metadata": {
    "executionInfo": {
     "elapsed": 5367,
     "status": "ok",
     "timestamp": 1668970603620,
     "user": {
      "displayName": "Moyi Tian",
      "userId": "16731155409516969374"
     },
     "user_tz": 300
    },
    "id": "7UM21MsDcDbR"
   },
   "outputs": [],
   "source": [
    "import pandas as pd\n",
    "import numpy as np"
   ]
  },
  {
   "cell_type": "markdown",
   "id": "f2b8f191",
   "metadata": {
    "id": "LT8LUPEFfvp6"
   },
   "source": [
    "# Import Data"
   ]
  },
  {
   "cell_type": "code",
   "execution_count": 2,
   "id": "2ce47012",
   "metadata": {
    "executionInfo": {
     "elapsed": 1194,
     "status": "ok",
     "timestamp": 1668970630031,
     "user": {
      "displayName": "Moyi Tian",
      "userId": "16731155409516969374"
     },
     "user_tz": 300
    },
    "id": "xwuIE_PIcb2X"
   },
   "outputs": [],
   "source": [
    "train_dataset = pd.read_csv(\"./data/train.csv\")"
   ]
  },
  {
   "cell_type": "code",
   "execution_count": 3,
   "id": "8b9b90ae",
   "metadata": {
    "executionInfo": {
     "elapsed": 16,
     "status": "ok",
     "timestamp": 1668970630033,
     "user": {
      "displayName": "Moyi Tian",
      "userId": "16731155409516969374"
     },
     "user_tz": 300
    },
    "id": "7E0tHOMPcfkG"
   },
   "outputs": [],
   "source": [
    "cohesion = train_dataset['cohesion']\n",
    "syntax = train_dataset['syntax']\n",
    "vocabulary = train_dataset['vocabulary']\n",
    "phraseology = train_dataset['phraseology']\n",
    "grammar = train_dataset['grammar']\n",
    "conventions = train_dataset['conventions']"
   ]
  },
  {
   "cell_type": "code",
   "execution_count": 4,
   "id": "123206be",
   "metadata": {
    "executionInfo": {
     "elapsed": 116,
     "status": "ok",
     "timestamp": 1668971677383,
     "user": {
      "displayName": "Moyi Tian",
      "userId": "16731155409516969374"
     },
     "user_tz": 300
    },
    "id": "RuhNPcnFdppL"
   },
   "outputs": [],
   "source": [
    "syntax = np.asarray(syntax)\n",
    "cohesion = np.asarray(cohesion)\n",
    "vocabulary = np.asarray(vocabulary)\n",
    "phraseology = np.asarray(phraseology)\n",
    "grammar = np.asarray(grammar)\n",
    "conventions = np.asarray(conventions)"
   ]
  },
  {
   "cell_type": "code",
   "execution_count": 5,
   "id": "6cc4da3a",
   "metadata": {
    "executionInfo": {
     "elapsed": 118,
     "status": "ok",
     "timestamp": 1668974159663,
     "user": {
      "displayName": "Moyi Tian",
      "userId": "16731155409516969374"
     },
     "user_tz": 300
    },
    "id": "aNp5blOim7YZ"
   },
   "outputs": [],
   "source": [
    "train_token = np.load(\"./data/train_BertToken.npy\")"
   ]
  },
  {
   "cell_type": "code",
   "execution_count": 6,
   "id": "02c10376",
   "metadata": {
    "executionInfo": {
     "elapsed": 128,
     "status": "ok",
     "timestamp": 1668978069184,
     "user": {
      "displayName": "Moyi Tian",
      "userId": "16731155409516969374"
     },
     "user_tz": 300
    },
    "id": "EXplRVBytmPx"
   },
   "outputs": [],
   "source": [
    "y_train = np.transpose(np.asarray([cohesion, syntax, vocabulary, phraseology, conventions]))"
   ]
  },
  {
   "cell_type": "markdown",
   "id": "a378345e",
   "metadata": {
    "id": "oPdcDWUyEyDY"
   },
   "source": [
    "## MCRMSE of the Model"
   ]
  },
  {
   "cell_type": "code",
   "execution_count": 7,
   "id": "35748c02",
   "metadata": {},
   "outputs": [
    {
     "name": "stderr",
     "output_type": "stream",
     "text": [
      "<frozen importlib._bootstrap>:219: RuntimeWarning: scipy._lib.messagestream.MessageStream size changed, may indicate binary incompatibility. Expected 56 from C header, got 64 from PyObject\n"
     ]
    }
   ],
   "source": [
    "from sklearn.metrics import mean_squared_error as MSE\n",
    "from sklearn.multioutput import MultiOutputRegressor"
   ]
  },
  {
   "cell_type": "code",
   "execution_count": 8,
   "id": "97170ede",
   "metadata": {
    "scrolled": true
   },
   "outputs": [],
   "source": [
    "from sklearn.model_selection import train_test_split"
   ]
  },
  {
   "cell_type": "code",
   "execution_count": 9,
   "id": "8200f3a8",
   "metadata": {
    "executionInfo": {
     "elapsed": 1,
     "status": "ok",
     "timestamp": 1668978062415,
     "user": {
      "displayName": "Moyi Tian",
      "userId": "16731155409516969374"
     },
     "user_tz": 300
    },
    "id": "isZBqQGfjr4s"
   },
   "outputs": [],
   "source": [
    "import xgboost as xgb"
   ]
  },
  {
   "cell_type": "markdown",
   "id": "19b5a85d",
   "metadata": {},
   "source": [
    "## Training on cohesion, syntax, vocabulary, phraseology, conventions"
   ]
  },
  {
   "cell_type": "code",
   "execution_count": 10,
   "id": "bb7d1a91",
   "metadata": {},
   "outputs": [],
   "source": [
    "train_train, train_test, y_train, y_test = train_test_split(train_token, y_train,\n",
    "                                                       shuffle = True,\n",
    "                                                       random_state = 440,\n",
    "                                                       test_size = .2)"
   ]
  },
  {
   "cell_type": "code",
   "execution_count": 11,
   "id": "46c89986",
   "metadata": {},
   "outputs": [],
   "source": [
    "xgb_estimator = xgb.XGBRegressor(n_estimators=100,\n",
    "                                max_depth = 2,\n",
    "                                objective='reg:squarederror')\n",
    "model = MultiOutputRegressor(xgb_estimator, n_jobs=3)\n",
    "\n",
    "model.fit(train_train, y_train)\n",
    "predicted = model.predict(train_test)\n",
    "\n",
    "bsl = np.ones((len(y_test),1))*np.mean(y_train, axis=0)\n",
    "\n",
    "rmses = MSE(y_test, predicted, squared=False, multioutput='raw_values')\n",
    "\n",
    "baseline = MSE(y_test, bsl, squared=False, multioutput='raw_values')"
   ]
  },
  {
   "cell_type": "code",
   "execution_count": 12,
   "id": "858b30e0",
   "metadata": {},
   "outputs": [
    {
     "name": "stdout",
     "output_type": "stream",
     "text": [
      "MCRMSE for XGBoost on cohesion, syntax, vocabulary, phraseology, conventions is 0.6395944512416154\n"
     ]
    }
   ],
   "source": [
    "print('MCRMSE for XGBoost on cohesion, syntax, vocabulary, phraseology, conventions is', rmses.mean())"
   ]
  },
  {
   "cell_type": "code",
   "execution_count": 13,
   "id": "92198c73",
   "metadata": {},
   "outputs": [
    {
     "name": "stdout",
     "output_type": "stream",
     "text": [
      "MCRMSE for Baseline on cohesion, syntax, vocabulary, phraseology, conventions is 0.6515055628623492\n"
     ]
    }
   ],
   "source": [
    "print('MCRMSE for Baseline on cohesion, syntax, vocabulary, phraseology, conventions is', baseline.mean())"
   ]
  },
  {
   "cell_type": "markdown",
   "id": "83bf0ecf",
   "metadata": {},
   "source": [
    "## Training on grammar using preprocessed grammar data"
   ]
  },
  {
   "cell_type": "code",
   "execution_count": 14,
   "id": "b5e86172",
   "metadata": {},
   "outputs": [],
   "source": [
    "train_grammar = pd.read_csv('./Grammar/grammar_train_comb.csv', index_col=0)"
   ]
  },
  {
   "cell_type": "code",
   "execution_count": 15,
   "id": "daf1f8bb",
   "metadata": {},
   "outputs": [],
   "source": [
    "data_arr = np.asarray(train_grammar[['ratio_grammar_correct_sentences','sentence_number']])"
   ]
  },
  {
   "cell_type": "code",
   "execution_count": 16,
   "id": "009d6603",
   "metadata": {},
   "outputs": [],
   "source": [
    "target_arr = np.asarray(train_grammar['grammar_score'])"
   ]
  },
  {
   "cell_type": "code",
   "execution_count": 17,
   "id": "ccdb1ab9",
   "metadata": {},
   "outputs": [],
   "source": [
    "target_arr = np.reshape(target_arr, (target_arr.shape[0], 1))"
   ]
  },
  {
   "cell_type": "code",
   "execution_count": 18,
   "id": "99f4d78b",
   "metadata": {},
   "outputs": [],
   "source": [
    "grammar_train, grammar_test, grammar_y_train, grammar_y_test = train_test_split(data_arr, target_arr,\n",
    "                                                       shuffle = True,\n",
    "                                                       random_state = 440,\n",
    "                                                       test_size = .2)"
   ]
  },
  {
   "cell_type": "code",
   "execution_count": 19,
   "id": "d6ed9f8d",
   "metadata": {},
   "outputs": [],
   "source": [
    "model = xgb.XGBRegressor(n_estimators=100,\n",
    "                            max_depth = 2,\n",
    "                            objective='reg:squarederror')\n",
    "\n",
    "model.fit(grammar_train, grammar_y_train)\n",
    "predicted = model.predict(grammar_test)\n",
    "\n",
    "bsl = np.ones((len(grammar_y_test),1))*np.mean(grammar_y_train)\n",
    "\n",
    "rmse_grammar = MSE(grammar_y_test, predicted, squared=False, multioutput='raw_values')\n",
    "\n",
    "baseline_grammar = MSE(grammar_y_test, bsl, squared=False, multioutput='raw_values')"
   ]
  },
  {
   "cell_type": "code",
   "execution_count": 20,
   "id": "aa6f0682",
   "metadata": {},
   "outputs": [
    {
     "name": "stdout",
     "output_type": "stream",
     "text": [
      "RMSE for XGBoost on Grammar is 0.5185646392718115\n"
     ]
    }
   ],
   "source": [
    "print('RMSE for XGBoost on Grammar is', rmse_grammar[0])"
   ]
  },
  {
   "cell_type": "code",
   "execution_count": 21,
   "id": "d642f607",
   "metadata": {},
   "outputs": [
    {
     "name": "stdout",
     "output_type": "stream",
     "text": [
      "RMSE for Baseline on Grammar is 0.6938332271124678\n"
     ]
    }
   ],
   "source": [
    "print('RMSE for Baseline on Grammar is', baseline_grammar[0])"
   ]
  },
  {
   "cell_type": "markdown",
   "id": "41a20a6e",
   "metadata": {},
   "source": [
    "## Calculate final MCRMSE"
   ]
  },
  {
   "cell_type": "code",
   "execution_count": 22,
   "id": "befa6928",
   "metadata": {},
   "outputs": [
    {
     "name": "stdout",
     "output_type": "stream",
     "text": [
      "MCRMSE for 6 columns is 0.6194228159133147\n"
     ]
    }
   ],
   "source": [
    "print('MCRMSE for 6 columns is', np.concatenate((rmses,rmse_grammar)).mean())"
   ]
  },
  {
   "cell_type": "code",
   "execution_count": 23,
   "id": "602b5a59",
   "metadata": {},
   "outputs": [
    {
     "name": "stdout",
     "output_type": "stream",
     "text": [
      "MCRMSE of Baseline is 0.6585601735707022\n"
     ]
    }
   ],
   "source": [
    "print('MCRMSE of Baseline is', np.concatenate((baseline,baseline_grammar)).mean())"
   ]
  },
  {
   "cell_type": "code",
   "execution_count": null,
   "id": "ee7921c0",
   "metadata": {},
   "outputs": [],
   "source": []
  }
 ],
 "metadata": {
  "kernelspec": {
   "display_name": "Python 3 (ipykernel)",
   "language": "python",
   "name": "python3"
  },
  "language_info": {
   "codemirror_mode": {
    "name": "ipython",
    "version": 3
   },
   "file_extension": ".py",
   "mimetype": "text/x-python",
   "name": "python",
   "nbconvert_exporter": "python",
   "pygments_lexer": "ipython3",
   "version": "3.8.5"
  }
 },
 "nbformat": 4,
 "nbformat_minor": 5
}
