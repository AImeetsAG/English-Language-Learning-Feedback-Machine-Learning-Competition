{
 "cells": [
  {
   "cell_type": "code",
   "execution_count": 520,
   "id": "30d1de3f",
   "metadata": {},
   "outputs": [],
   "source": [
    "import numpy as np\n",
    "import pandas as pd\n",
    "import matplotlib.pyplot as plt\n",
    "import nltk\n",
    "import tensorflow as tf\n",
    "from nltk import word_tokenize, RegexpTokenizer\n",
    "import gensim.downloader as api\n",
    "import matplotlib.pyplot as plt"
   ]
  },
  {
   "cell_type": "code",
   "execution_count": 521,
   "id": "49872422",
   "metadata": {},
   "outputs": [],
   "source": [
    "data = pd.read_csv('./data/train.csv')"
   ]
  },
  {
   "cell_type": "code",
   "execution_count": 522,
   "id": "04a5746b",
   "metadata": {},
   "outputs": [],
   "source": [
    "import pandas as pd\n",
    "import numpy as np\n",
    "import os\n",
    "import string\n",
    "import tensorflow as tf\n",
    "import matplotlib.pyplot as plt\n",
    "import nltk\n",
    "from nltk.corpus import stopwords"
   ]
  },
  {
   "cell_type": "code",
   "execution_count": 523,
   "id": "6aa368f3",
   "metadata": {},
   "outputs": [
    {
     "data": {
      "text/plain": [
       "<bound method NDFrame.head of            text_id                                          full_text  \\\n",
       "0     0016926B079C  I think that students would benefit from learn...   \n",
       "1     0022683E9EA5  When a problem is a change you have to let it ...   \n",
       "2     00299B378633  Dear, Principal\\n\\nIf u change the school poli...   \n",
       "3     003885A45F42  The best time in life is when you become yours...   \n",
       "4     0049B1DF5CCC  Small act of kindness can impact in other peop...   \n",
       "...            ...                                                ...   \n",
       "3906  FFD29828A873  I believe using cellphones in class for educat...   \n",
       "3907  FFD9A83B0849  Working alone, students do not have to argue w...   \n",
       "3908  FFDC4011AC9C  \"A problem is a chance for you to do your best...   \n",
       "3909  FFE16D704B16  Many people disagree with Albert Schweitzer's ...   \n",
       "3910  FFED00D6E0BD  Do you think that failure is the main thing fo...   \n",
       "\n",
       "      cohesion  syntax  vocabulary  phraseology  grammar  conventions  \n",
       "0          5.0     5.0         4.0          4.0      6.0          4.0  \n",
       "1          3.0     3.0         4.0          2.0      2.0          3.0  \n",
       "2          4.0     5.0         4.0          4.0      4.0          3.0  \n",
       "3          7.0     7.0         7.0          7.0      6.0          8.0  \n",
       "4          3.0     4.0         4.0          4.0      3.0          3.0  \n",
       "...        ...     ...         ...          ...      ...          ...  \n",
       "3906       3.0     4.0         4.0          5.0      3.0          3.0  \n",
       "3907       6.0     6.0         6.0          6.0      5.0          4.0  \n",
       "3908       3.0     4.0         4.0          4.0      5.0          4.0  \n",
       "3909       6.0     7.0         7.0          6.0      7.0          7.0  \n",
       "3910       5.0     3.0         5.0          4.0      4.0          5.0  \n",
       "\n",
       "[3911 rows x 8 columns]>"
      ]
     },
     "execution_count": 523,
     "metadata": {},
     "output_type": "execute_result"
    }
   ],
   "source": [
    "data.iloc[:,2:] = data.iloc[:,2:]*2-2\n",
    "data_train = data.iloc[:3300,:]\n",
    "data_val = data.iloc[3300:,:]\n",
    "data.head"
   ]
  },
  {
   "cell_type": "code",
   "execution_count": 524,
   "id": "8f97a393",
   "metadata": {},
   "outputs": [
    {
     "data": {
      "text/plain": [
       "4.0    1503\n",
       "5.0    1007\n",
       "6.0     577\n",
       "3.0     528\n",
       "2.0     124\n",
       "7.0     115\n",
       "8.0      41\n",
       "1.0      14\n",
       "0.0       2\n",
       "Name: vocabulary, dtype: int64"
      ]
     },
     "execution_count": 524,
     "metadata": {},
     "output_type": "execute_result"
    }
   ],
   "source": [
    "data.vocabulary.value_counts()"
   ]
  },
  {
   "cell_type": "code",
   "execution_count": 525,
   "id": "a423220a",
   "metadata": {},
   "outputs": [],
   "source": [
    "full_text = data_train['full_text']\n",
    "cohesion = data_train['cohesion']\n",
    "syntax = data_train['syntax']\n",
    "vocabulary = data_train['vocabulary']\n",
    "phraseology = data_train['phraseology']\n",
    "grammar = data_train['grammar']\n",
    "conventions = data_train['conventions']"
   ]
  },
  {
   "cell_type": "code",
   "execution_count": 526,
   "id": "f1d35b04",
   "metadata": {},
   "outputs": [],
   "source": [
    "full_text_val = data_val['full_text']\n",
    "cohesion_val = data_val['cohesion']\n",
    "syntax_val = data_val['syntax']\n",
    "vocabulary_val = data_val['vocabulary']\n",
    "phraseology_val = data_val['phraseology']\n",
    "grammar_val = data_val['grammar']\n",
    "conventions_val = data_val['conventions']"
   ]
  },
  {
   "cell_type": "code",
   "execution_count": 527,
   "id": "04fe0b96",
   "metadata": {},
   "outputs": [
    {
     "name": "stderr",
     "output_type": "stream",
     "text": [
      "[nltk_data] Downloading package stopwords to /Users/arpan/nltk_data...\n",
      "[nltk_data]   Package stopwords is already up-to-date!\n"
     ]
    }
   ],
   "source": [
    "nltk.download('stopwords')\n",
    "stop_words = stopwords.words('english')"
   ]
  },
  {
   "cell_type": "code",
   "execution_count": 528,
   "id": "55c98219",
   "metadata": {},
   "outputs": [],
   "source": [
    "def CleanText(sentences):\n",
    "    sentences = sentences.apply(lambda sequence : \n",
    "                                [ltrs.lower() for ltrs in sequence if ltrs not in string.punctuation])\n",
    "    sentences = sentences.apply(lambda wrd: ''.join(wrd))\n",
    "    sentences = sentences.apply(lambda sequence: \n",
    "                                [word for word in sequence.split() if word not in stop_words])\n",
    "    sentences = sentences.apply(lambda wrd: ' '.join(wrd))\n",
    "    return sentences\n",
    "\n",
    "def CleanFeatures(sentences):\n",
    "    sentences = sentences.apply(lambda sequence:\n",
    "                                            [ltrs.lower() for ltrs in sequence if ltrs not in string.punctuation])\n",
    "    sentences = sentences.apply(lambda wrd: ''.join(wrd))\n",
    "    sentences = sentences.apply(lambda sequence:\n",
    "                                            [word for word in sequence.split() if word not in stop_words])\n",
    "    sentences = sentences.apply(lambda wrd: ' '.join(wrd))\n",
    "    return sentences\n"
   ]
  },
  {
   "cell_type": "code",
   "execution_count": 529,
   "id": "5af213cc",
   "metadata": {},
   "outputs": [],
   "source": [
    "#clean_text = CleanFeatures(full_text)\n",
    "clean_text = full_text"
   ]
  },
  {
   "cell_type": "code",
   "execution_count": 530,
   "id": "852fafad",
   "metadata": {},
   "outputs": [],
   "source": [
    "from transformers import AutoTokenizer"
   ]
  },
  {
   "cell_type": "code",
   "execution_count": 531,
   "id": "e43725f0",
   "metadata": {},
   "outputs": [
    {
     "data": {
      "text/plain": [
       "512"
      ]
     },
     "execution_count": 531,
     "metadata": {},
     "output_type": "execute_result"
    }
   ],
   "source": [
    "list_words = [len(text.split()) for text in clean_text]\n",
    "#seq_len = max(list_words)\n",
    "seq_len = 512\n",
    "seq_len"
   ]
  },
  {
   "cell_type": "code",
   "execution_count": 532,
   "id": "ade24acd",
   "metadata": {},
   "outputs": [],
   "source": [
    "tokenizer = AutoTokenizer.from_pretrained('bert-base-cased')"
   ]
  },
  {
   "cell_type": "code",
   "execution_count": 533,
   "id": "6bd9d6cd",
   "metadata": {},
   "outputs": [],
   "source": [
    "input_ids = []\n",
    "attention_mask = []\n",
    "for text in clean_text:\n",
    "    tokens = tokenizer.encode_plus(text, max_length=seq_len, padding='max_length',\n",
    "                         truncation=True, return_token_type_ids= True,\n",
    "                         return_tensors = 'np')\n",
    "    input_ids.append(tokens['input_ids'])\n",
    "    attention_mask.append(tokens['attention_mask'])"
   ]
  },
  {
   "cell_type": "code",
   "execution_count": 534,
   "id": "fda3ab74",
   "metadata": {},
   "outputs": [],
   "source": [
    "input_ids_val = []\n",
    "attention_mask_val = []\n",
    "for text in full_text_val:\n",
    "    tokens = tokenizer.encode_plus(text, max_length=seq_len, padding='max_length',\n",
    "                         truncation=True, return_token_type_ids= True,\n",
    "                         return_tensors = 'np')\n",
    "    input_ids_val.append(tokens['input_ids'])\n",
    "    attention_mask_val.append(tokens['attention_mask'])"
   ]
  },
  {
   "cell_type": "code",
   "execution_count": 535,
   "id": "23dc60d0",
   "metadata": {},
   "outputs": [
    {
     "data": {
      "text/plain": [
       "(3300, 1, 512)"
      ]
     },
     "execution_count": 535,
     "metadata": {},
     "output_type": "execute_result"
    }
   ],
   "source": [
    "input_ids = np.asarray(input_ids)\n",
    "attention_mask = np.asarray(attention_mask)\n",
    "input_ids.shape"
   ]
  },
  {
   "cell_type": "code",
   "execution_count": 536,
   "id": "e75b2036",
   "metadata": {},
   "outputs": [
    {
     "data": {
      "text/plain": [
       "(611, 1, 512)"
      ]
     },
     "execution_count": 536,
     "metadata": {},
     "output_type": "execute_result"
    }
   ],
   "source": [
    "input_ids_val = np.asarray(input_ids_val)\n",
    "attention_mask_val = np.asarray(attention_mask_val)\n",
    "input_ids_val.shape"
   ]
  },
  {
   "cell_type": "code",
   "execution_count": 537,
   "id": "8841132f",
   "metadata": {},
   "outputs": [
    {
     "name": "stdout",
     "output_type": "stream",
     "text": [
      "(3300, 512)\n",
      "(3300, 512)\n"
     ]
    }
   ],
   "source": [
    "input_ids = np.reshape(input_ids, (input_ids.shape[0], input_ids.shape[2]))\n",
    "attention_mask = np.reshape(attention_mask, (attention_mask.shape[0], attention_mask.shape[2]))\n",
    "print(input_ids.shape)\n",
    "print(attention_mask.shape)"
   ]
  },
  {
   "cell_type": "code",
   "execution_count": 538,
   "id": "5400205f",
   "metadata": {},
   "outputs": [
    {
     "name": "stdout",
     "output_type": "stream",
     "text": [
      "(611, 512)\n",
      "(611, 512)\n"
     ]
    }
   ],
   "source": [
    "input_ids_val = np.reshape(input_ids_val, (input_ids_val.shape[0], input_ids_val.shape[2]))\n",
    "attention_mask_val = np.reshape(attention_mask_val, (attention_mask_val.shape[0], attention_mask_val.shape[2]))\n",
    "print(input_ids_val.shape)\n",
    "print(attention_mask_val.shape)"
   ]
  },
  {
   "cell_type": "code",
   "execution_count": 539,
   "id": "806c2e6c",
   "metadata": {},
   "outputs": [],
   "source": [
    "syntax = np.asarray(syntax)\n",
    "cohesion = np.asarray(cohesion)\n",
    "vocabulary = np.asarray(vocabulary)\n",
    "phraseology = np.asarray(phraseology)\n",
    "grammar = np.asarray(grammar)\n",
    "conventions = np.asarray(conventions)"
   ]
  },
  {
   "cell_type": "code",
   "execution_count": 540,
   "id": "64a373d5",
   "metadata": {},
   "outputs": [],
   "source": [
    "syntax_val = np.asarray(syntax_val)\n",
    "cohesion_val = np.asarray(cohesion_val)\n",
    "vocabulary_val = np.asarray(vocabulary_val)\n",
    "phraseology_val = np.asarray(phraseology_val)\n",
    "grammar_val = np.asarray(grammar_val)\n",
    "conventions_val = np.asarray(conventions_val)"
   ]
  },
  {
   "cell_type": "markdown",
   "id": "7e961a4d",
   "metadata": {},
   "source": [
    "## Bert Model"
   ]
  },
  {
   "cell_type": "code",
   "execution_count": 409,
   "id": "61e5c59b",
   "metadata": {},
   "outputs": [
    {
     "name": "stderr",
     "output_type": "stream",
     "text": [
      "Some layers from the model checkpoint at bert-base-cased were not used when initializing TFBertModel: ['mlm___cls', 'nsp___cls']\n",
      "- This IS expected if you are initializing TFBertModel from the checkpoint of a model trained on another task or with another architecture (e.g. initializing a BertForSequenceClassification model from a BertForPreTraining model).\n",
      "- This IS NOT expected if you are initializing TFBertModel from the checkpoint of a model that you expect to be exactly identical (initializing a BertForSequenceClassification model from a BertForSequenceClassification model).\n",
      "All the layers of TFBertModel were initialized from the model checkpoint at bert-base-cased.\n",
      "If your task is similar to the task the model of the checkpoint was trained on, you can already use TFBertModel for predictions without further training.\n"
     ]
    }
   ],
   "source": [
    "from transformers import TFBertModel\n",
    "bert = TFBertModel.from_pretrained('bert-base-cased')"
   ]
  },
  {
   "cell_type": "code",
   "execution_count": 410,
   "id": "f7cc781e",
   "metadata": {},
   "outputs": [],
   "source": [
    "from keras.layers import LSTM, Lambda\n",
    "from keras.layers import add, maximum, subtract, minimum"
   ]
  },
  {
   "cell_type": "code",
   "execution_count": 411,
   "id": "4d7532e8",
   "metadata": {},
   "outputs": [],
   "source": [
    "def resnet(inputs, units):\n",
    "    x = tf.keras.layers.LSTM(units,return_sequences = True, dropout=0.15)(inputs)\n",
    "    return x"
   ]
  },
  {
   "cell_type": "code",
   "execution_count": 557,
   "id": "34313c21",
   "metadata": {},
   "outputs": [],
   "source": [
    "units = 8\n",
    "input_ids_m = tf.keras.layers.Input(shape = (seq_len, ), dtype = 'int32')\n",
    "attention_mask_n = tf.keras.layers.Input(shape = (seq_len, ),  dtype = 'int32')\n",
    "bert_m = bert(input_ids_m, attention_mask = attention_mask_n)[0]\n",
    "x = resnet(bert_m, units)\n",
    "for stack in range(4):\n",
    "    for block in range(1):\n",
    "        y = resnet(x, units)\n",
    "        if stack > 0 and block == 0:\n",
    "            x = tf.keras.layers.LSTM(units, return_sequences = True, dropout=0.15, recurrent_dropout=0.15)(x)\n",
    "        x = minimum([x, y])\n",
    "    units *=2\n",
    "x1 = tf.keras.layers.GlobalAveragePooling1D()(x)\n",
    "x2 = tf.keras.layers.GlobalMaxPool1D()(x)\n",
    "x = tf.keras.layers.concatenate([x1, x2], name=\"our_param\")\n",
    "y1 = tf.keras.layers.Dense(1,  name='syntax',activation = 'relu')(x)\n",
    "y2 = tf.keras.layers.Dense(1, name='cohesion',activation = 'relu')(x)\n",
    "y3 = tf.keras.layers.Dense(1, name='vocabulary',activation = 'relu')(x)\n",
    "y4 = tf.keras.layers.Dense(1, name='phraseology',activation = 'relu')(x)\n",
    "y5 = tf.keras.layers.Dense(1, name='grammar',activation = 'relu')(x)\n",
    "y6 = tf.keras.layers.Dense(1, name='conventions', activation='relu')(x)\n",
    "m = tf.keras.models.Model(inputs = [input_ids_m, attention_mask_n], \n",
    "                          outputs = [y1,y2,y3,y4,y5,y6])"
   ]
  },
  {
   "cell_type": "code",
   "execution_count": 558,
   "id": "0a627ef3",
   "metadata": {},
   "outputs": [
    {
     "name": "stdout",
     "output_type": "stream",
     "text": [
      "Model: \"model_23\"\n",
      "__________________________________________________________________________________________________\n",
      " Layer (type)                   Output Shape         Param #     Connected to                     \n",
      "==================================================================================================\n",
      " input_57 (InputLayer)          [(None, 512)]        0           []                               \n",
      "                                                                                                  \n",
      " input_58 (InputLayer)          [(None, 512)]        0           []                               \n",
      "                                                                                                  \n",
      " tf_bert_model_8 (TFBertModel)  TFBaseModelOutputWi  108310272   ['input_57[0][0]',               \n",
      "                                thPoolingAndCrossAt               'input_58[0][0]']               \n",
      "                                tentions(last_hidde                                               \n",
      "                                n_state=(None, 512,                                               \n",
      "                                 768),                                                            \n",
      "                                 pooler_output=(Non                                               \n",
      "                                e, 768),                                                          \n",
      "                                 past_key_values=No                                               \n",
      "                                ne, hidden_states=N                                               \n",
      "                                one, attentions=Non                                               \n",
      "                                e, cross_attentions                                               \n",
      "                                =None)                                                            \n",
      "                                                                                                  \n",
      " lstm_170 (LSTM)                (None, 512, 8)       24864       ['tf_bert_model_8[4][0]']        \n",
      "                                                                                                  \n",
      " lstm_171 (LSTM)                (None, 512, 8)       544         ['lstm_170[0][0]']               \n",
      "                                                                                                  \n",
      " minimum_85 (Minimum)           (None, 512, 8)       0           ['lstm_170[0][0]',               \n",
      "                                                                  'lstm_171[0][0]']               \n",
      "                                                                                                  \n",
      " lstm_173 (LSTM)                (None, 512, 16)      1600        ['minimum_85[0][0]']             \n",
      "                                                                                                  \n",
      " lstm_172 (LSTM)                (None, 512, 16)      1600        ['minimum_85[0][0]']             \n",
      "                                                                                                  \n",
      " minimum_86 (Minimum)           (None, 512, 16)      0           ['lstm_173[0][0]',               \n",
      "                                                                  'lstm_172[0][0]']               \n",
      "                                                                                                  \n",
      " lstm_175 (LSTM)                (None, 512, 32)      6272        ['minimum_86[0][0]']             \n",
      "                                                                                                  \n",
      " lstm_174 (LSTM)                (None, 512, 32)      6272        ['minimum_86[0][0]']             \n",
      "                                                                                                  \n",
      " minimum_87 (Minimum)           (None, 512, 32)      0           ['lstm_175[0][0]',               \n",
      "                                                                  'lstm_174[0][0]']               \n",
      "                                                                                                  \n",
      " lstm_177 (LSTM)                (None, 512, 64)      24832       ['minimum_87[0][0]']             \n",
      "                                                                                                  \n",
      " lstm_176 (LSTM)                (None, 512, 64)      24832       ['minimum_87[0][0]']             \n",
      "                                                                                                  \n",
      " minimum_88 (Minimum)           (None, 512, 64)      0           ['lstm_177[0][0]',               \n",
      "                                                                  'lstm_176[0][0]']               \n",
      "                                                                                                  \n",
      " global_average_pooling1d_28 (G  (None, 64)          0           ['minimum_88[0][0]']             \n",
      " lobalAveragePooling1D)                                                                           \n",
      "                                                                                                  \n",
      " global_max_pooling1d_28 (Globa  (None, 64)          0           ['minimum_88[0][0]']             \n",
      " lMaxPooling1D)                                                                                   \n",
      "                                                                                                  \n",
      " our_param (Concatenate)        (None, 128)          0           ['global_average_pooling1d_28[0][\n",
      "                                                                 0]',                             \n",
      "                                                                  'global_max_pooling1d_28[0][0]']\n",
      "                                                                                                  \n",
      " syntax (Dense)                 (None, 1)            129         ['our_param[0][0]']              \n",
      "                                                                                                  \n",
      " cohesion (Dense)               (None, 1)            129         ['our_param[0][0]']              \n",
      "                                                                                                  \n",
      " vocabulary (Dense)             (None, 1)            129         ['our_param[0][0]']              \n",
      "                                                                                                  \n",
      " phraseology (Dense)            (None, 1)            129         ['our_param[0][0]']              \n",
      "                                                                                                  \n",
      " grammar (Dense)                (None, 1)            129         ['our_param[0][0]']              \n",
      "                                                                                                  \n",
      " conventions (Dense)            (None, 1)            129         ['our_param[0][0]']              \n",
      "                                                                                                  \n",
      "==================================================================================================\n",
      "Total params: 108,401,862\n",
      "Trainable params: 91,590\n",
      "Non-trainable params: 108,310,272\n",
      "__________________________________________________________________________________________________\n"
     ]
    }
   ],
   "source": [
    "m.layers[2].trainable = False\n",
    "m.summary()"
   ]
  },
  {
   "cell_type": "code",
   "execution_count": 559,
   "id": "e2b31323",
   "metadata": {},
   "outputs": [
    {
     "name": "stdout",
     "output_type": "stream",
     "text": [
      "You must install pydot (`pip install pydot`) and install graphviz (see instructions at https://graphviz.gitlab.io/download/) for plot_model to work.\n"
     ]
    }
   ],
   "source": [
    "tf.keras.utils.plot_model(m, show_shapes=True, \n",
    "                          show_dtype=False, \n",
    "                          show_layer_names=True, \n",
    "                          expand_nested=True,\n",
    "                          show_layer_activations=True)"
   ]
  },
  {
   "cell_type": "code",
   "execution_count": 560,
   "id": "d4a79e15",
   "metadata": {},
   "outputs": [],
   "source": [
    "m.compile(loss=\"mse\", optimizer= \"adam\", metrics=[tf.keras.metrics.RootMeanSquaredError()])"
   ]
  },
  {
   "cell_type": "code",
   "execution_count": 561,
   "id": "d72e4bd7",
   "metadata": {},
   "outputs": [],
   "source": [
    "mu = data.iloc[:,2:].mean()\n",
    "std = data.iloc[:,2:].std(axis = 0)\n",
    "\n",
    "data_norm = (data.iloc[:,2:]-mu)/std\n",
    "data_norm_train = data_norm.iloc[:3300, :]\n",
    "data_norm_val = data_norm.iloc[3300:, :]\n",
    "\n",
    "syntax_train = data_norm_train.syntax.values\n",
    "cohesion_trian = data_norm_train.cohesion.values\n",
    "vocabulary_train = data_norm_train.vocabulary.values\n",
    "phraseology_train = data_norm_train.phraseology.values\n",
    "grammar_train = data_norm_train.grammar.values\n",
    "conventions_train = data_norm_train.conventions.values\n",
    "\n",
    "syntax_val = data_norm_val.syntax.values\n",
    "cohesion_val = data_norm_val.cohesion.values\n",
    "vocabulary_val = data_norm_val.vocabulary.values\n",
    "phraseology_val = data_norm_val.phraseology.values\n",
    "grammar_val = data_norm_val.grammar.values\n",
    "conventions_val = data_norm_val.conventions.values\n",
    "\n",
    "y_train = [syntax_train, cohesion_trian, vocabulary_train, phraseology_train, grammar_train, conventions_train]\n",
    "y_val = [syntax_val, cohesion_val, vocabulary_val, phraseology_val, grammar_val, conventions_val]"
   ]
  },
  {
   "cell_type": "code",
   "execution_count": 563,
   "id": "d41962c3",
   "metadata": {},
   "outputs": [
    {
     "name": "stdout",
     "output_type": "stream",
     "text": [
      "351/351 [==============================] - 1688s 5s/step - loss: 5.0781 - syntax_loss: 0.7652 - cohesion_loss: 1.0029 - vocabulary_loss: 1.0108 - phraseology_loss: 0.7840 - grammar_loss: 0.7566 - conventions_loss: 0.7586 - syntax_root_mean_squared_error: 0.8748 - cohesion_root_mean_squared_error: 1.0014 - vocabulary_root_mean_squared_error: 1.0054 - phraseology_root_mean_squared_error: 0.8854 - grammar_root_mean_squared_error: 0.8698 - conventions_root_mean_squared_error: 0.8710 - val_loss: 4.9554 - val_syntax_loss: 0.7311 - val_cohesion_loss: 0.9699 - val_vocabulary_loss: 0.9509 - val_phraseology_loss: 0.7229 - val_grammar_loss: 0.7875 - val_conventions_loss: 0.7931 - val_syntax_root_mean_squared_error: 0.8551 - val_cohesion_root_mean_squared_error: 0.9849 - val_vocabulary_root_mean_squared_error: 0.9751 - val_phraseology_root_mean_squared_error: 0.8502 - val_grammar_root_mean_squared_error: 0.8874 - val_conventions_root_mean_squared_error: 0.8906\n"
     ]
    }
   ],
   "source": [
    "history_training = m.fit([input_ids, attention_mask],\n",
    "                         y = y_train,\n",
    "                         batch_size= 8,\n",
    "                         validation_split = 0.15, \n",
    "                         epochs= 1)"
   ]
  },
  {
   "cell_type": "code",
   "execution_count": 564,
   "id": "fb8a1ade",
   "metadata": {},
   "outputs": [],
   "source": [
    "m.save_weights('bert_model_weights_dense.h5')"
   ]
  },
  {
   "cell_type": "code",
   "execution_count": 565,
   "id": "00c0436f",
   "metadata": {},
   "outputs": [
    {
     "name": "stdout",
     "output_type": "stream",
     "text": [
      "20/20 [==============================] - 248s 12s/step\n"
     ]
    }
   ],
   "source": [
    "pred = m.predict([input_ids_val, attention_mask_val])"
   ]
  },
  {
   "cell_type": "code",
   "execution_count": 572,
   "id": "e7068769",
   "metadata": {},
   "outputs": [
    {
     "data": {
      "text/plain": [
       "(611, 6)"
      ]
     },
     "execution_count": 572,
     "metadata": {},
     "output_type": "execute_result"
    }
   ],
   "source": [
    "pred = np.asanyarray(pred)\n",
    "pred = pred.reshape((pred.shape[0],pred.shape[1]))\n",
    "pred = pred.transpose()\n",
    "pred.shape"
   ]
  },
  {
   "cell_type": "code",
   "execution_count": 578,
   "id": "ce831753",
   "metadata": {},
   "outputs": [
    {
     "data": {
      "text/plain": [
       "0.9391402359734219"
      ]
     },
     "execution_count": 578,
     "metadata": {},
     "output_type": "execute_result"
    }
   ],
   "source": [
    "from sklearn.metrics import mean_squared_error\n",
    "y_val = np.asanyarray(y_val).transpose()\n",
    "np.sqrt(mean_squared_error(y_val, pred))"
   ]
  },
  {
   "cell_type": "code",
   "execution_count": 510,
   "id": "bcf4a859",
   "metadata": {},
   "outputs": [
    {
     "data": {
      "image/png": "[encoded data removed]",
      "text/plain": [
       "<Figure size 640x480 with 1 Axes>"
      ]
     },
     "metadata": {},
     "output_type": "display_data"
    }
   ],
   "source": [
    "syntax_values = pd.DataFrame(data.iloc[:,2:].syntax.value_counts())\n",
    "syntax_values.reset_index(inplace= True)\n",
    "syntax_values.columns = ['score', 'counts']\n",
    "syntax_values.sort_values('score', inplace=True)\n",
    "ax = syntax_values.plot(x = 'score', y = 'counts', kind = 'bar', title= 'Syntax Score Frequency')\n",
    "\n",
    "for i in range(syntax_values.shape[0]):\n",
    "    x = syntax_values.iloc[i,0]\n",
    "    y = syntax_values.iloc[i,1]\n",
    "    ax.annotate(str(y), xy= (x,y+20), ha = 'center')\n",
    "plt.show()"
   ]
  },
  {
   "cell_type": "code",
   "execution_count": 511,
   "id": "e83d8903",
   "metadata": {},
   "outputs": [
    {
     "data": {
      "image/png": "[encoded data removed]",
      "text/plain": [
       "<Figure size 640x480 with 1 Axes>"
      ]
     },
     "metadata": {},
     "output_type": "display_data"
    }
   ],
   "source": [
    "cohesion_values = pd.DataFrame(data.iloc[:,2:].cohesion.value_counts())\n",
    "cohesion_values.reset_index(inplace= True)\n",
    "cohesion_values.columns = ['score', 'counts']\n",
    "cohesion_values.sort_values('score', inplace=True)\n",
    "ax = cohesion_values.plot(x = 'score', y = 'counts', kind = 'bar', title= 'Cohesion Score Frequency')\n",
    "\n",
    "for i in range(cohesion_values.shape[0]):\n",
    "    x = cohesion_values.iloc[i,0]\n",
    "    y = cohesion_values.iloc[i,1]\n",
    "    ax.annotate(str(y), xy= (x,y+20), ha = 'center')\n",
    "plt.show()"
   ]
  },
  {
   "cell_type": "code",
   "execution_count": 513,
   "id": "6414f531",
   "metadata": {},
   "outputs": [
    {
     "data": {
      "image/png": "[encoded data removed]",
      "text/plain": [
       "<Figure size 640x480 with 1 Axes>"
      ]
     },
     "metadata": {},
     "output_type": "display_data"
    }
   ],
   "source": [
    "vocabulary_values = pd.DataFrame(data.iloc[:,2:].vocabulary.value_counts())\n",
    "vocabulary_values.reset_index(inplace= True)\n",
    "vocabulary_values.columns = ['score', 'counts']\n",
    "vocabulary_values.sort_values('score', inplace=True)\n",
    "ax = vocabulary_values.plot(x = 'score', y = 'counts', kind = 'bar', title= 'Vocabulary Score Frequency')\n",
    "\n",
    "for i in range(vocabulary_values.shape[0]):\n",
    "    x = vocabulary_values.iloc[i,0]\n",
    "    y = vocabulary_values.iloc[i,1]\n",
    "    ax.annotate(str(y), xy= (x,y+20), ha = 'center')\n",
    "plt.show()"
   ]
  },
  {
   "cell_type": "code",
   "execution_count": 413,
   "id": "c35f62bb",
   "metadata": {},
   "outputs": [],
   "source": [
    "test_model.layers[2].trainable = False"
   ]
  },
  {
   "cell_type": "code",
   "execution_count": 414,
   "id": "16b684b8",
   "metadata": {},
   "outputs": [
    {
     "name": "stdout",
     "output_type": "stream",
     "text": [
      "Model: \"model_19\"\n",
      "__________________________________________________________________________________________________\n",
      " Layer (type)                   Output Shape         Param #     Connected to                     \n",
      "==================================================================================================\n",
      " input_49 (InputLayer)          [(None, 512)]        0           []                               \n",
      "                                                                                                  \n",
      " input_50 (InputLayer)          [(None, 512)]        0           []                               \n",
      "                                                                                                  \n",
      " tf_bert_model_8 (TFBertModel)  TFBaseModelOutputWi  108310272   ['input_49[0][0]',               \n",
      "                                thPoolingAndCrossAt               'input_50[0][0]']               \n",
      "                                tentions(last_hidde                                               \n",
      "                                n_state=(None, 512,                                               \n",
      "                                 768),                                                            \n",
      "                                 pooler_output=(Non                                               \n",
      "                                e, 768),                                                          \n",
      "                                 past_key_values=No                                               \n",
      "                                ne, hidden_states=N                                               \n",
      "                                one, attentions=Non                                               \n",
      "                                e, cross_attentions                                               \n",
      "                                =None)                                                            \n",
      "                                                                                                  \n",
      " lstm_144 (LSTM)                (None, 512, 16)      50240       ['tf_bert_model_8[0][0]']        \n",
      "                                                                                                  \n",
      " lstm_145 (LSTM)                (None, 512, 16)      2112        ['lstm_144[0][0]']               \n",
      "                                                                                                  \n",
      " minimum_72 (Minimum)           (None, 512, 16)      0           ['lstm_144[0][0]',               \n",
      "                                                                  'lstm_145[0][0]']               \n",
      "                                                                                                  \n",
      " lstm_147 (LSTM)                (None, 512, 32)      6272        ['minimum_72[0][0]']             \n",
      "                                                                                                  \n",
      " lstm_146 (LSTM)                (None, 512, 32)      6272        ['minimum_72[0][0]']             \n",
      "                                                                                                  \n",
      " minimum_73 (Minimum)           (None, 512, 32)      0           ['lstm_147[0][0]',               \n",
      "                                                                  'lstm_146[0][0]']               \n",
      "                                                                                                  \n",
      " lstm_149 (LSTM)                (None, 512, 64)      24832       ['minimum_73[0][0]']             \n",
      "                                                                                                  \n",
      " lstm_148 (LSTM)                (None, 512, 64)      24832       ['minimum_73[0][0]']             \n",
      "                                                                                                  \n",
      " minimum_74 (Minimum)           (None, 512, 64)      0           ['lstm_149[0][0]',               \n",
      "                                                                  'lstm_148[0][0]']               \n",
      "                                                                                                  \n",
      " global_average_pooling1d_24 (G  (None, 64)          0           ['minimum_74[0][0]']             \n",
      " lobalAveragePooling1D)                                                                           \n",
      "                                                                                                  \n",
      " global_max_pooling1d_24 (Globa  (None, 64)          0           ['minimum_74[0][0]']             \n",
      " lMaxPooling1D)                                                                                   \n",
      "                                                                                                  \n",
      " our_param (Concatenate)        (None, 128)          0           ['global_average_pooling1d_24[0][\n",
      "                                                                 0]',                             \n",
      "                                                                  'global_max_pooling1d_24[0][0]']\n",
      "                                                                                                  \n",
      " syntax (Dense)                 (None, 9)            1161        ['our_param[0][0]']              \n",
      "                                                                                                  \n",
      " cohesion (Dense)               (None, 9)            1161        ['our_param[0][0]']              \n",
      "                                                                                                  \n",
      " vocabulary (Dense)             (None, 9)            1161        ['our_param[0][0]']              \n",
      "                                                                                                  \n",
      " phraseology (Dense)            (None, 9)            1161        ['our_param[0][0]']              \n",
      "                                                                                                  \n",
      " grammar (Dense)                (None, 9)            1161        ['our_param[0][0]']              \n",
      "                                                                                                  \n",
      " conventions (Dense)            (None, 9)            1161        ['our_param[0][0]']              \n",
      "                                                                                                  \n",
      " tf.stack_5 (TFOpLambda)        (None, 6, 9)         0           ['syntax[0][0]',                 \n",
      "                                                                  'cohesion[0][0]',               \n",
      "                                                                  'vocabulary[0][0]',             \n",
      "                                                                  'phraseology[0][0]',            \n",
      "                                                                  'grammar[0][0]',                \n",
      "                                                                  'conventions[0][0]']            \n",
      "                                                                                                  \n",
      "==================================================================================================\n",
      "Total params: 108,431,798\n",
      "Trainable params: 121,526\n",
      "Non-trainable params: 108,310,272\n",
      "__________________________________________________________________________________________________\n"
     ]
    }
   ],
   "source": [
    "test_model.summary()"
   ]
  },
  {
   "cell_type": "code",
   "execution_count": 382,
   "id": "b3944140",
   "metadata": {},
   "outputs": [
    {
     "name": "stdout",
     "output_type": "stream",
     "text": [
      "You must install pydot (`pip install pydot`) and install graphviz (see instructions at https://graphviz.gitlab.io/download/) for plot_model to work.\n"
     ]
    }
   ],
   "source": [
    "tf.keras.utils.plot_model(m, show_shapes=True, \n",
    "                          show_dtype=False, \n",
    "                          show_layer_names=True, \n",
    "                          expand_nested=True,\n",
    "                          show_layer_activations=True)"
   ]
  },
  {
   "cell_type": "code",
   "execution_count": 415,
   "id": "8610ccbe",
   "metadata": {},
   "outputs": [],
   "source": [
    "syntax = tf.keras.utils.to_categorical(syntax)\n",
    "cohesion = tf.keras.utils.to_categorical(cohesion)\n",
    "vocabulary = tf.keras.utils.to_categorical(vocabulary)\n",
    "phraseology = tf.keras.utils.to_categorical(phraseology)\n",
    "grammar = tf.keras.utils.to_categorical(grammar)\n",
    "conventions = tf.keras.utils.to_categorical(conventions)\n"
   ]
  },
  {
   "cell_type": "code",
   "execution_count": 416,
   "id": "bb90ec45",
   "metadata": {},
   "outputs": [],
   "source": [
    "syntax_val = tf.keras.utils.to_categorical(syntax_val)\n",
    "cohesion_val = tf.keras.utils.to_categorical(cohesion_val)\n",
    "vocabulary_val = tf.keras.utils.to_categorical(vocabulary_val)\n",
    "phraseology_val = tf.keras.utils.to_categorical(phraseology_val)\n",
    "grammar_val = tf.keras.utils.to_categorical(grammar_val)\n",
    "conventions_val = tf.keras.utils.to_categorical(conventions_val)\n"
   ]
  },
  {
   "cell_type": "code",
   "execution_count": 386,
   "id": "38f7c828",
   "metadata": {},
   "outputs": [],
   "source": [
    "m.compile(loss=\"categorical_crossentropy\", optimizer= \"adam\", metrics=[tf.keras.metrics.CategoricalAccuracy()])"
   ]
  },
  {
   "cell_type": "code",
   "execution_count": 417,
   "id": "9373145d",
   "metadata": {},
   "outputs": [
    {
     "data": {
      "text/plain": [
       "(3300, 6, 9)"
      ]
     },
     "execution_count": 417,
     "metadata": {},
     "output_type": "execute_result"
    }
   ],
   "source": [
    "y_train = np.stack([syntax, cohesion, vocabulary, phraseology, grammar, conventions], axis = 1)\n",
    "y_train.shape"
   ]
  },
  {
   "cell_type": "code",
   "execution_count": 418,
   "id": "767d282f",
   "metadata": {},
   "outputs": [
    {
     "data": {
      "text/plain": [
       "(611, 6, 9)"
      ]
     },
     "execution_count": 418,
     "metadata": {},
     "output_type": "execute_result"
    }
   ],
   "source": [
    "y_test = np.stack([syntax_val, cohesion_val, vocabulary_val, \n",
    "                   phraseology_val, grammar_val, conventions_val], axis = 1)\n",
    "y_test.shape"
   ]
  },
  {
   "cell_type": "code",
   "execution_count": 387,
   "id": "68d0ef20",
   "metadata": {},
   "outputs": [
    {
     "name": "stdout",
     "output_type": "stream",
     "text": [
      "Epoch 1/6\n",
      " 2/44 [>.............................] - ETA: 24:27 - loss: 2.1657 - categorical_accuracy: 0.1432"
     ]
    },
    {
     "ename": "KeyboardInterrupt",
     "evalue": "",
     "output_type": "error",
     "traceback": [
      "\u001b[0;31m---------------------------------------------------------------------------\u001b[0m",
      "\u001b[0;31mKeyboardInterrupt\u001b[0m                         Traceback (most recent call last)",
      "Input \u001b[0;32mIn [387]\u001b[0m, in \u001b[0;36m<cell line: 1>\u001b[0;34m()\u001b[0m\n\u001b[0;32m----> 1\u001b[0m history_training \u001b[38;5;241m=\u001b[39m \u001b[43mm\u001b[49m\u001b[38;5;241;43m.\u001b[39;49m\u001b[43mfit\u001b[49m\u001b[43m(\u001b[49m\u001b[43m[\u001b[49m\u001b[43minput_ids\u001b[49m\u001b[43m,\u001b[49m\u001b[43m \u001b[49m\u001b[43mattention_mask\u001b[49m\u001b[43m]\u001b[49m\u001b[43m,\u001b[49m\n\u001b[1;32m      2\u001b[0m \u001b[43m                         \u001b[49m\u001b[43my\u001b[49m\u001b[43m \u001b[49m\u001b[38;5;241;43m=\u001b[39;49m\u001b[43m \u001b[49m\u001b[43my_train\u001b[49m\u001b[43m,\u001b[49m\n\u001b[1;32m      3\u001b[0m \u001b[43m                         \u001b[49m\u001b[43mbatch_size\u001b[49m\u001b[38;5;241;43m=\u001b[39;49m\u001b[43m \u001b[49m\u001b[38;5;241;43m64\u001b[39;49m\u001b[43m,\u001b[49m\n\u001b[1;32m      4\u001b[0m \u001b[43m                         \u001b[49m\u001b[43mvalidation_split\u001b[49m\u001b[43m \u001b[49m\u001b[38;5;241;43m=\u001b[39;49m\u001b[43m \u001b[49m\u001b[38;5;241;43m0.15\u001b[39;49m\u001b[43m,\u001b[49m\u001b[43m \u001b[49m\n\u001b[1;32m      5\u001b[0m \u001b[43m                         \u001b[49m\u001b[43mepochs\u001b[49m\u001b[38;5;241;43m=\u001b[39;49m\u001b[43m \u001b[49m\u001b[38;5;241;43m6\u001b[39;49m\u001b[43m)\u001b[49m\n",
      "File \u001b[0;32m/opt/miniconda3/lib/python3.9/site-packages/keras/utils/traceback_utils.py:65\u001b[0m, in \u001b[0;36mfilter_traceback.<locals>.error_handler\u001b[0;34m(*args, **kwargs)\u001b[0m\n\u001b[1;32m     63\u001b[0m filtered_tb \u001b[38;5;241m=\u001b[39m \u001b[38;5;28;01mNone\u001b[39;00m\n\u001b[1;32m     64\u001b[0m \u001b[38;5;28;01mtry\u001b[39;00m:\n\u001b[0;32m---> 65\u001b[0m     \u001b[38;5;28;01mreturn\u001b[39;00m \u001b[43mfn\u001b[49m\u001b[43m(\u001b[49m\u001b[38;5;241;43m*\u001b[39;49m\u001b[43margs\u001b[49m\u001b[43m,\u001b[49m\u001b[43m \u001b[49m\u001b[38;5;241;43m*\u001b[39;49m\u001b[38;5;241;43m*\u001b[39;49m\u001b[43mkwargs\u001b[49m\u001b[43m)\u001b[49m\n\u001b[1;32m     66\u001b[0m \u001b[38;5;28;01mexcept\u001b[39;00m \u001b[38;5;167;01mException\u001b[39;00m \u001b[38;5;28;01mas\u001b[39;00m e:\n\u001b[1;32m     67\u001b[0m     filtered_tb \u001b[38;5;241m=\u001b[39m _process_traceback_frames(e\u001b[38;5;241m.\u001b[39m__traceback__)\n",
      "File \u001b[0;32m/opt/miniconda3/lib/python3.9/site-packages/keras/engine/training.py:1564\u001b[0m, in \u001b[0;36mModel.fit\u001b[0;34m(self, x, y, batch_size, epochs, verbose, callbacks, validation_split, validation_data, shuffle, class_weight, sample_weight, initial_epoch, steps_per_epoch, validation_steps, validation_batch_size, validation_freq, max_queue_size, workers, use_multiprocessing)\u001b[0m\n\u001b[1;32m   1556\u001b[0m \u001b[38;5;28;01mwith\u001b[39;00m tf\u001b[38;5;241m.\u001b[39mprofiler\u001b[38;5;241m.\u001b[39mexperimental\u001b[38;5;241m.\u001b[39mTrace(\n\u001b[1;32m   1557\u001b[0m     \u001b[38;5;124m\"\u001b[39m\u001b[38;5;124mtrain\u001b[39m\u001b[38;5;124m\"\u001b[39m,\n\u001b[1;32m   1558\u001b[0m     epoch_num\u001b[38;5;241m=\u001b[39mepoch,\n\u001b[0;32m   (...)\u001b[0m\n\u001b[1;32m   1561\u001b[0m     _r\u001b[38;5;241m=\u001b[39m\u001b[38;5;241m1\u001b[39m,\n\u001b[1;32m   1562\u001b[0m ):\n\u001b[1;32m   1563\u001b[0m     callbacks\u001b[38;5;241m.\u001b[39mon_train_batch_begin(step)\n\u001b[0;32m-> 1564\u001b[0m     tmp_logs \u001b[38;5;241m=\u001b[39m \u001b[38;5;28;43mself\u001b[39;49m\u001b[38;5;241;43m.\u001b[39;49m\u001b[43mtrain_function\u001b[49m\u001b[43m(\u001b[49m\u001b[43miterator\u001b[49m\u001b[43m)\u001b[49m\n\u001b[1;32m   1565\u001b[0m     \u001b[38;5;28;01mif\u001b[39;00m data_handler\u001b[38;5;241m.\u001b[39mshould_sync:\n\u001b[1;32m   1566\u001b[0m         context\u001b[38;5;241m.\u001b[39masync_wait()\n",
      "File \u001b[0;32m/opt/miniconda3/lib/python3.9/site-packages/tensorflow/python/util/traceback_utils.py:150\u001b[0m, in \u001b[0;36mfilter_traceback.<locals>.error_handler\u001b[0;34m(*args, **kwargs)\u001b[0m\n\u001b[1;32m    148\u001b[0m filtered_tb \u001b[38;5;241m=\u001b[39m \u001b[38;5;28;01mNone\u001b[39;00m\n\u001b[1;32m    149\u001b[0m \u001b[38;5;28;01mtry\u001b[39;00m:\n\u001b[0;32m--> 150\u001b[0m   \u001b[38;5;28;01mreturn\u001b[39;00m \u001b[43mfn\u001b[49m\u001b[43m(\u001b[49m\u001b[38;5;241;43m*\u001b[39;49m\u001b[43margs\u001b[49m\u001b[43m,\u001b[49m\u001b[43m \u001b[49m\u001b[38;5;241;43m*\u001b[39;49m\u001b[38;5;241;43m*\u001b[39;49m\u001b[43mkwargs\u001b[49m\u001b[43m)\u001b[49m\n\u001b[1;32m    151\u001b[0m \u001b[38;5;28;01mexcept\u001b[39;00m \u001b[38;5;167;01mException\u001b[39;00m \u001b[38;5;28;01mas\u001b[39;00m e:\n\u001b[1;32m    152\u001b[0m   filtered_tb \u001b[38;5;241m=\u001b[39m _process_traceback_frames(e\u001b[38;5;241m.\u001b[39m__traceback__)\n",
      "File \u001b[0;32m/opt/miniconda3/lib/python3.9/site-packages/tensorflow/python/eager/def_function.py:915\u001b[0m, in \u001b[0;36mFunction.__call__\u001b[0;34m(self, *args, **kwds)\u001b[0m\n\u001b[1;32m    912\u001b[0m compiler \u001b[38;5;241m=\u001b[39m \u001b[38;5;124m\"\u001b[39m\u001b[38;5;124mxla\u001b[39m\u001b[38;5;124m\"\u001b[39m \u001b[38;5;28;01mif\u001b[39;00m \u001b[38;5;28mself\u001b[39m\u001b[38;5;241m.\u001b[39m_jit_compile \u001b[38;5;28;01melse\u001b[39;00m \u001b[38;5;124m\"\u001b[39m\u001b[38;5;124mnonXla\u001b[39m\u001b[38;5;124m\"\u001b[39m\n\u001b[1;32m    914\u001b[0m \u001b[38;5;28;01mwith\u001b[39;00m OptionalXlaContext(\u001b[38;5;28mself\u001b[39m\u001b[38;5;241m.\u001b[39m_jit_compile):\n\u001b[0;32m--> 915\u001b[0m   result \u001b[38;5;241m=\u001b[39m \u001b[38;5;28;43mself\u001b[39;49m\u001b[38;5;241;43m.\u001b[39;49m\u001b[43m_call\u001b[49m\u001b[43m(\u001b[49m\u001b[38;5;241;43m*\u001b[39;49m\u001b[43margs\u001b[49m\u001b[43m,\u001b[49m\u001b[43m \u001b[49m\u001b[38;5;241;43m*\u001b[39;49m\u001b[38;5;241;43m*\u001b[39;49m\u001b[43mkwds\u001b[49m\u001b[43m)\u001b[49m\n\u001b[1;32m    917\u001b[0m new_tracing_count \u001b[38;5;241m=\u001b[39m \u001b[38;5;28mself\u001b[39m\u001b[38;5;241m.\u001b[39mexperimental_get_tracing_count()\n\u001b[1;32m    918\u001b[0m without_tracing \u001b[38;5;241m=\u001b[39m (tracing_count \u001b[38;5;241m==\u001b[39m new_tracing_count)\n",
      "File \u001b[0;32m/opt/miniconda3/lib/python3.9/site-packages/tensorflow/python/eager/def_function.py:947\u001b[0m, in \u001b[0;36mFunction._call\u001b[0;34m(self, *args, **kwds)\u001b[0m\n\u001b[1;32m    944\u001b[0m   \u001b[38;5;28mself\u001b[39m\u001b[38;5;241m.\u001b[39m_lock\u001b[38;5;241m.\u001b[39mrelease()\n\u001b[1;32m    945\u001b[0m   \u001b[38;5;66;03m# In this case we have created variables on the first call, so we run the\u001b[39;00m\n\u001b[1;32m    946\u001b[0m   \u001b[38;5;66;03m# defunned version which is guaranteed to never create variables.\u001b[39;00m\n\u001b[0;32m--> 947\u001b[0m   \u001b[38;5;28;01mreturn\u001b[39;00m \u001b[38;5;28;43mself\u001b[39;49m\u001b[38;5;241;43m.\u001b[39;49m\u001b[43m_stateless_fn\u001b[49m\u001b[43m(\u001b[49m\u001b[38;5;241;43m*\u001b[39;49m\u001b[43margs\u001b[49m\u001b[43m,\u001b[49m\u001b[43m \u001b[49m\u001b[38;5;241;43m*\u001b[39;49m\u001b[38;5;241;43m*\u001b[39;49m\u001b[43mkwds\u001b[49m\u001b[43m)\u001b[49m  \u001b[38;5;66;03m# pylint: disable=not-callable\u001b[39;00m\n\u001b[1;32m    948\u001b[0m \u001b[38;5;28;01melif\u001b[39;00m \u001b[38;5;28mself\u001b[39m\u001b[38;5;241m.\u001b[39m_stateful_fn \u001b[38;5;129;01mis\u001b[39;00m \u001b[38;5;129;01mnot\u001b[39;00m \u001b[38;5;28;01mNone\u001b[39;00m:\n\u001b[1;32m    949\u001b[0m   \u001b[38;5;66;03m# Release the lock early so that multiple threads can perform the call\u001b[39;00m\n\u001b[1;32m    950\u001b[0m   \u001b[38;5;66;03m# in parallel.\u001b[39;00m\n\u001b[1;32m    951\u001b[0m   \u001b[38;5;28mself\u001b[39m\u001b[38;5;241m.\u001b[39m_lock\u001b[38;5;241m.\u001b[39mrelease()\n",
      "File \u001b[0;32m/opt/miniconda3/lib/python3.9/site-packages/tensorflow/python/eager/function.py:2496\u001b[0m, in \u001b[0;36mFunction.__call__\u001b[0;34m(self, *args, **kwargs)\u001b[0m\n\u001b[1;32m   2493\u001b[0m \u001b[38;5;28;01mwith\u001b[39;00m \u001b[38;5;28mself\u001b[39m\u001b[38;5;241m.\u001b[39m_lock:\n\u001b[1;32m   2494\u001b[0m   (graph_function,\n\u001b[1;32m   2495\u001b[0m    filtered_flat_args) \u001b[38;5;241m=\u001b[39m \u001b[38;5;28mself\u001b[39m\u001b[38;5;241m.\u001b[39m_maybe_define_function(args, kwargs)\n\u001b[0;32m-> 2496\u001b[0m \u001b[38;5;28;01mreturn\u001b[39;00m \u001b[43mgraph_function\u001b[49m\u001b[38;5;241;43m.\u001b[39;49m\u001b[43m_call_flat\u001b[49m\u001b[43m(\u001b[49m\n\u001b[1;32m   2497\u001b[0m \u001b[43m    \u001b[49m\u001b[43mfiltered_flat_args\u001b[49m\u001b[43m,\u001b[49m\u001b[43m \u001b[49m\u001b[43mcaptured_inputs\u001b[49m\u001b[38;5;241;43m=\u001b[39;49m\u001b[43mgraph_function\u001b[49m\u001b[38;5;241;43m.\u001b[39;49m\u001b[43mcaptured_inputs\u001b[49m\u001b[43m)\u001b[49m\n",
      "File \u001b[0;32m/opt/miniconda3/lib/python3.9/site-packages/tensorflow/python/eager/function.py:1862\u001b[0m, in \u001b[0;36mConcreteFunction._call_flat\u001b[0;34m(self, args, captured_inputs, cancellation_manager)\u001b[0m\n\u001b[1;32m   1858\u001b[0m possible_gradient_type \u001b[38;5;241m=\u001b[39m gradients_util\u001b[38;5;241m.\u001b[39mPossibleTapeGradientTypes(args)\n\u001b[1;32m   1859\u001b[0m \u001b[38;5;28;01mif\u001b[39;00m (possible_gradient_type \u001b[38;5;241m==\u001b[39m gradients_util\u001b[38;5;241m.\u001b[39mPOSSIBLE_GRADIENT_TYPES_NONE\n\u001b[1;32m   1860\u001b[0m     \u001b[38;5;129;01mand\u001b[39;00m executing_eagerly):\n\u001b[1;32m   1861\u001b[0m   \u001b[38;5;66;03m# No tape is watching; skip to running the function.\u001b[39;00m\n\u001b[0;32m-> 1862\u001b[0m   \u001b[38;5;28;01mreturn\u001b[39;00m \u001b[38;5;28mself\u001b[39m\u001b[38;5;241m.\u001b[39m_build_call_outputs(\u001b[38;5;28;43mself\u001b[39;49m\u001b[38;5;241;43m.\u001b[39;49m\u001b[43m_inference_function\u001b[49m\u001b[38;5;241;43m.\u001b[39;49m\u001b[43mcall\u001b[49m\u001b[43m(\u001b[49m\n\u001b[1;32m   1863\u001b[0m \u001b[43m      \u001b[49m\u001b[43mctx\u001b[49m\u001b[43m,\u001b[49m\u001b[43m \u001b[49m\u001b[43margs\u001b[49m\u001b[43m,\u001b[49m\u001b[43m \u001b[49m\u001b[43mcancellation_manager\u001b[49m\u001b[38;5;241;43m=\u001b[39;49m\u001b[43mcancellation_manager\u001b[49m\u001b[43m)\u001b[49m)\n\u001b[1;32m   1864\u001b[0m forward_backward \u001b[38;5;241m=\u001b[39m \u001b[38;5;28mself\u001b[39m\u001b[38;5;241m.\u001b[39m_select_forward_and_backward_functions(\n\u001b[1;32m   1865\u001b[0m     args,\n\u001b[1;32m   1866\u001b[0m     possible_gradient_type,\n\u001b[1;32m   1867\u001b[0m     executing_eagerly)\n\u001b[1;32m   1868\u001b[0m forward_function, args_with_tangents \u001b[38;5;241m=\u001b[39m forward_backward\u001b[38;5;241m.\u001b[39mforward()\n",
      "File \u001b[0;32m/opt/miniconda3/lib/python3.9/site-packages/tensorflow/python/eager/function.py:499\u001b[0m, in \u001b[0;36m_EagerDefinedFunction.call\u001b[0;34m(self, ctx, args, cancellation_manager)\u001b[0m\n\u001b[1;32m    497\u001b[0m \u001b[38;5;28;01mwith\u001b[39;00m _InterpolateFunctionError(\u001b[38;5;28mself\u001b[39m):\n\u001b[1;32m    498\u001b[0m   \u001b[38;5;28;01mif\u001b[39;00m cancellation_manager \u001b[38;5;129;01mis\u001b[39;00m \u001b[38;5;28;01mNone\u001b[39;00m:\n\u001b[0;32m--> 499\u001b[0m     outputs \u001b[38;5;241m=\u001b[39m \u001b[43mexecute\u001b[49m\u001b[38;5;241;43m.\u001b[39;49m\u001b[43mexecute\u001b[49m\u001b[43m(\u001b[49m\n\u001b[1;32m    500\u001b[0m \u001b[43m        \u001b[49m\u001b[38;5;28;43mstr\u001b[39;49m\u001b[43m(\u001b[49m\u001b[38;5;28;43mself\u001b[39;49m\u001b[38;5;241;43m.\u001b[39;49m\u001b[43msignature\u001b[49m\u001b[38;5;241;43m.\u001b[39;49m\u001b[43mname\u001b[49m\u001b[43m)\u001b[49m\u001b[43m,\u001b[49m\n\u001b[1;32m    501\u001b[0m \u001b[43m        \u001b[49m\u001b[43mnum_outputs\u001b[49m\u001b[38;5;241;43m=\u001b[39;49m\u001b[38;5;28;43mself\u001b[39;49m\u001b[38;5;241;43m.\u001b[39;49m\u001b[43m_num_outputs\u001b[49m\u001b[43m,\u001b[49m\n\u001b[1;32m    502\u001b[0m \u001b[43m        \u001b[49m\u001b[43minputs\u001b[49m\u001b[38;5;241;43m=\u001b[39;49m\u001b[43margs\u001b[49m\u001b[43m,\u001b[49m\n\u001b[1;32m    503\u001b[0m \u001b[43m        \u001b[49m\u001b[43mattrs\u001b[49m\u001b[38;5;241;43m=\u001b[39;49m\u001b[43mattrs\u001b[49m\u001b[43m,\u001b[49m\n\u001b[1;32m    504\u001b[0m \u001b[43m        \u001b[49m\u001b[43mctx\u001b[49m\u001b[38;5;241;43m=\u001b[39;49m\u001b[43mctx\u001b[49m\u001b[43m)\u001b[49m\n\u001b[1;32m    505\u001b[0m   \u001b[38;5;28;01melse\u001b[39;00m:\n\u001b[1;32m    506\u001b[0m     outputs \u001b[38;5;241m=\u001b[39m execute\u001b[38;5;241m.\u001b[39mexecute_with_cancellation(\n\u001b[1;32m    507\u001b[0m         \u001b[38;5;28mstr\u001b[39m(\u001b[38;5;28mself\u001b[39m\u001b[38;5;241m.\u001b[39msignature\u001b[38;5;241m.\u001b[39mname),\n\u001b[1;32m    508\u001b[0m         num_outputs\u001b[38;5;241m=\u001b[39m\u001b[38;5;28mself\u001b[39m\u001b[38;5;241m.\u001b[39m_num_outputs,\n\u001b[0;32m   (...)\u001b[0m\n\u001b[1;32m    511\u001b[0m         ctx\u001b[38;5;241m=\u001b[39mctx,\n\u001b[1;32m    512\u001b[0m         cancellation_manager\u001b[38;5;241m=\u001b[39mcancellation_manager)\n",
      "File \u001b[0;32m/opt/miniconda3/lib/python3.9/site-packages/tensorflow/python/eager/execute.py:54\u001b[0m, in \u001b[0;36mquick_execute\u001b[0;34m(op_name, num_outputs, inputs, attrs, ctx, name)\u001b[0m\n\u001b[1;32m     52\u001b[0m \u001b[38;5;28;01mtry\u001b[39;00m:\n\u001b[1;32m     53\u001b[0m   ctx\u001b[38;5;241m.\u001b[39mensure_initialized()\n\u001b[0;32m---> 54\u001b[0m   tensors \u001b[38;5;241m=\u001b[39m \u001b[43mpywrap_tfe\u001b[49m\u001b[38;5;241;43m.\u001b[39;49m\u001b[43mTFE_Py_Execute\u001b[49m\u001b[43m(\u001b[49m\u001b[43mctx\u001b[49m\u001b[38;5;241;43m.\u001b[39;49m\u001b[43m_handle\u001b[49m\u001b[43m,\u001b[49m\u001b[43m \u001b[49m\u001b[43mdevice_name\u001b[49m\u001b[43m,\u001b[49m\u001b[43m \u001b[49m\u001b[43mop_name\u001b[49m\u001b[43m,\u001b[49m\n\u001b[1;32m     55\u001b[0m \u001b[43m                                      \u001b[49m\u001b[43minputs\u001b[49m\u001b[43m,\u001b[49m\u001b[43m \u001b[49m\u001b[43mattrs\u001b[49m\u001b[43m,\u001b[49m\u001b[43m \u001b[49m\u001b[43mnum_outputs\u001b[49m\u001b[43m)\u001b[49m\n\u001b[1;32m     56\u001b[0m \u001b[38;5;28;01mexcept\u001b[39;00m core\u001b[38;5;241m.\u001b[39m_NotOkStatusException \u001b[38;5;28;01mas\u001b[39;00m e:\n\u001b[1;32m     57\u001b[0m   \u001b[38;5;28;01mif\u001b[39;00m name \u001b[38;5;129;01mis\u001b[39;00m \u001b[38;5;129;01mnot\u001b[39;00m \u001b[38;5;28;01mNone\u001b[39;00m:\n",
      "\u001b[0;31mKeyboardInterrupt\u001b[0m: "
     ]
    }
   ],
   "source": [
    "history_training = m.fit([input_ids, attention_mask],\n",
    "                         y = y_train,\n",
    "                         batch_size= 64,\n",
    "                         validation_split = 0.15, \n",
    "                         epochs= 6)"
   ]
  },
  {
   "cell_type": "code",
   "execution_count": 28,
   "id": "c9fab488",
   "metadata": {},
   "outputs": [],
   "source": [
    "m.save('bert_model_2.h5')"
   ]
  },
  {
   "cell_type": "code",
   "execution_count": 37,
   "id": "41ecea6c",
   "metadata": {},
   "outputs": [],
   "source": [
    "m.save_weights('bert_model_weights_2.h5')"
   ]
  },
  {
   "cell_type": "code",
   "execution_count": 305,
   "id": "37b2927d",
   "metadata": {},
   "outputs": [],
   "source": [
    "units = 32\n",
    "input_ids_m = tf.keras.layers.Input(shape = (seq_len, ), dtype = 'int32')\n",
    "attention_mask_n = tf.keras.layers.Input(shape = (seq_len, ),  dtype = 'int32')\n",
    "bert_m = bert(input_ids_m, attention_mask = attention_mask_n)[0]\n",
    "x = resnet(bert_m, units)\n",
    "for stack in range(3):\n",
    "    for block in range(1):\n",
    "        y = resnet(x, units)\n",
    "        if stack > 0 and block == 0:\n",
    "            x = tf.keras.layers.LSTM(units, return_sequences = True, dropout=0.15, recurrent_dropout=0.15)(x)\n",
    "        x = minimum([x, y])\n",
    "    units *=2\n",
    "x1 = tf.keras.layers.GlobalAveragePooling1D()(x)\n",
    "x2 = tf.keras.layers.GlobalMaxPool1D()(x)\n",
    "x = tf.keras.layers.concatenate([x1, x2], name=\"our_param\")\n",
    "y1 = tf.keras.layers.Dense(1,  name='syntax')(x)\n",
    "y2 = tf.keras.layers.Dense(1, name='cohesion')(x)\n",
    "y3 = tf.keras.layers.Dense(1, name='vocabulary')(x)\n",
    "y4 = tf.keras.layers.Dense(1, name='phraseology')(x)\n",
    "y5 = tf.keras.layers.Dense(1, name='grammar')(x)\n",
    "y6 = tf.keras.layers.Dense(1, name='conventions')(x)\n",
    "test_model = tf.keras.models.Model(inputs = [input_ids_m, attention_mask_n], outputs = [y1, y2, y3, y4, y5, y6])"
   ]
  },
  {
   "cell_type": "code",
   "execution_count": 306,
   "id": "09a1a834",
   "metadata": {},
   "outputs": [
    {
     "name": "stdout",
     "output_type": "stream",
     "text": [
      "Model: \"model_12\"\n",
      "__________________________________________________________________________________________________\n",
      " Layer (type)                   Output Shape         Param #     Connected to                     \n",
      "==================================================================================================\n",
      " input_25 (InputLayer)          [(None, 512)]        0           []                               \n",
      "                                                                                                  \n",
      " input_26 (InputLayer)          [(None, 512)]        0           []                               \n",
      "                                                                                                  \n",
      " tf_bert_model_6 (TFBertModel)  TFBaseModelOutputWi  108310272   ['input_25[0][0]',               \n",
      "                                thPoolingAndCrossAt               'input_26[0][0]']               \n",
      "                                tentions(last_hidde                                               \n",
      "                                n_state=(None, 512,                                               \n",
      "                                 768),                                                            \n",
      "                                 pooler_output=(Non                                               \n",
      "                                e, 768),                                                          \n",
      "                                 past_key_values=No                                               \n",
      "                                ne, hidden_states=N                                               \n",
      "                                one, attentions=Non                                               \n",
      "                                e, cross_attentions                                               \n",
      "                                =None)                                                            \n",
      "                                                                                                  \n",
      " lstm_72 (LSTM)                 (None, 512, 32)      102528      ['tf_bert_model_6[3][0]']        \n",
      "                                                                                                  \n",
      " lstm_73 (LSTM)                 (None, 512, 32)      8320        ['lstm_72[0][0]']                \n",
      "                                                                                                  \n",
      " minimum_36 (Minimum)           (None, 512, 32)      0           ['lstm_72[0][0]',                \n",
      "                                                                  'lstm_73[0][0]']                \n",
      "                                                                                                  \n",
      " lstm_75 (LSTM)                 (None, 512, 64)      24832       ['minimum_36[0][0]']             \n",
      "                                                                                                  \n",
      " lstm_74 (LSTM)                 (None, 512, 64)      24832       ['minimum_36[0][0]']             \n",
      "                                                                                                  \n",
      " minimum_37 (Minimum)           (None, 512, 64)      0           ['lstm_75[0][0]',                \n",
      "                                                                  'lstm_74[0][0]']                \n",
      "                                                                                                  \n",
      " lstm_77 (LSTM)                 (None, 512, 128)     98816       ['minimum_37[0][0]']             \n",
      "                                                                                                  \n",
      " lstm_76 (LSTM)                 (None, 512, 128)     98816       ['minimum_37[0][0]']             \n",
      "                                                                                                  \n",
      " minimum_38 (Minimum)           (None, 512, 128)     0           ['lstm_77[0][0]',                \n",
      "                                                                  'lstm_76[0][0]']                \n",
      "                                                                                                  \n",
      " global_average_pooling1d_12 (G  (None, 128)         0           ['minimum_38[0][0]']             \n",
      " lobalAveragePooling1D)                                                                           \n",
      "                                                                                                  \n",
      " global_max_pooling1d_12 (Globa  (None, 128)         0           ['minimum_38[0][0]']             \n",
      " lMaxPooling1D)                                                                                   \n",
      "                                                                                                  \n",
      " our_param (Concatenate)        (None, 256)          0           ['global_average_pooling1d_12[0][\n",
      "                                                                 0]',                             \n",
      "                                                                  'global_max_pooling1d_12[0][0]']\n",
      "                                                                                                  \n",
      " syntax (Dense)                 (None, 1)            257         ['our_param[0][0]']              \n",
      "                                                                                                  \n",
      " cohesion (Dense)               (None, 1)            257         ['our_param[0][0]']              \n",
      "                                                                                                  \n",
      " vocabulary (Dense)             (None, 1)            257         ['our_param[0][0]']              \n",
      "                                                                                                  \n",
      " phraseology (Dense)            (None, 1)            257         ['our_param[0][0]']              \n",
      "                                                                                                  \n",
      " grammar (Dense)                (None, 1)            257         ['our_param[0][0]']              \n",
      "                                                                                                  \n",
      " conventions (Dense)            (None, 1)            257         ['our_param[0][0]']              \n",
      "                                                                                                  \n",
      "==================================================================================================\n",
      "Total params: 108,669,958\n",
      "Trainable params: 359,686\n",
      "Non-trainable params: 108,310,272\n",
      "__________________________________________________________________________________________________\n"
     ]
    }
   ],
   "source": [
    "test_model.summary()"
   ]
  },
  {
   "cell_type": "code",
   "execution_count": 419,
   "id": "81470796",
   "metadata": {},
   "outputs": [],
   "source": [
    "test_model.load_weights('bert_model_weights_2.h5')"
   ]
  },
  {
   "cell_type": "code",
   "execution_count": 420,
   "id": "b4baa8b1",
   "metadata": {},
   "outputs": [
    {
     "data": {
      "text/plain": [
       "<keras.engine.functional.Functional at 0x2bf00dd60>"
      ]
     },
     "execution_count": 420,
     "metadata": {},
     "output_type": "execute_result"
    }
   ],
   "source": [
    "test_model"
   ]
  },
  {
   "cell_type": "code",
   "execution_count": 424,
   "id": "d7bfce65",
   "metadata": {},
   "outputs": [
    {
     "name": "stdout",
     "output_type": "stream",
     "text": [
      "20/20 [==============================] - 246s 12s/step\n"
     ]
    }
   ],
   "source": [
    "pred = test_model.predict([input_ids_val,attention_mask_val])"
   ]
  },
  {
   "cell_type": "code",
   "execution_count": 429,
   "id": "62124a4a",
   "metadata": {},
   "outputs": [
    {
     "data": {
      "text/plain": [
       "<tf.Tensor: shape=(), dtype=float32, numpy=0.36988544>"
      ]
     },
     "execution_count": 429,
     "metadata": {},
     "output_type": "execute_result"
    }
   ],
   "source": [
    "metric = tf.keras.metrics.CategoricalAccuracy()\n",
    "metric.update_state(y_test, pred)\n",
    "metric.result()"
   ]
  },
  {
   "cell_type": "code",
   "execution_count": 441,
   "id": "231b147b",
   "metadata": {},
   "outputs": [
    {
     "data": {
      "text/plain": [
       "(611, 6)"
      ]
     },
     "execution_count": 441,
     "metadata": {},
     "output_type": "execute_result"
    }
   ],
   "source": [
    "y_test_reg = data_val.iloc[:,2:].values\n",
    "y_test_reg.shape"
   ]
  },
  {
   "cell_type": "code",
   "execution_count": 453,
   "id": "fc3d545a",
   "metadata": {},
   "outputs": [
    {
     "data": {
      "text/plain": [
       "(611, 6)"
      ]
     },
     "execution_count": 453,
     "metadata": {},
     "output_type": "execute_result"
    }
   ],
   "source": [
    "pred = np.asanyarray(pred)\n",
    "pred_reg = []\n",
    "for i in pred:\n",
    "    pred_reg.append([np.argmax(j) for j in i])\n",
    "pred_reg = np.asanyarray(pred_reg)\n",
    "pred_reg.shape"
   ]
  },
  {
   "cell_type": "code",
   "execution_count": 25,
   "id": "1043ecb6",
   "metadata": {},
   "outputs": [
    {
     "name": "stderr",
     "output_type": "stream",
     "text": [
      "2022-11-19 12:08:53.324549: W tensorflow/core/platform/profile_utils/cpu_utils.cc:128] Failed to get CPU frequency: 0 Hz\n"
     ]
    },
    {
     "name": "stdout",
     "output_type": "stream",
     "text": [
      "1/1 [==============================] - 6s 6s/step\n"
     ]
    },
    {
     "data": {
      "text/plain": [
       "(3, 10, 1)"
      ]
     },
     "execution_count": 25,
     "metadata": {},
     "output_type": "execute_result"
    }
   ],
   "source": [
    "np.asarray(test_model.predict([input_ids[0:10],attention_mask[0:10]])).shape"
   ]
  },
  {
   "cell_type": "code",
   "execution_count": 314,
   "id": "34624cba",
   "metadata": {},
   "outputs": [
    {
     "name": "stdout",
     "output_type": "stream",
     "text": [
      "1/1 [==============================] - 4s 4s/step\n"
     ]
    },
    {
     "data": {
      "text/plain": [
       "array([[-0.00056583],\n",
       "       [-0.00179152],\n",
       "       [-0.04190364],\n",
       "       [ 0.02867278],\n",
       "       [-0.00700262],\n",
       "       [-0.01265402]], dtype=float32)"
      ]
     },
     "execution_count": 314,
     "metadata": {},
     "output_type": "execute_result"
    }
   ],
   "source": [
    "pred = np.asarray(test_model.predict([input_ids[:10],attention_mask[:10]]))\n",
    "pred[:,1,:]"
   ]
  },
  {
   "cell_type": "code",
   "execution_count": 58,
   "id": "2561be67",
   "metadata": {},
   "outputs": [
    {
     "data": {
      "text/plain": [
       "'2.10.0'"
      ]
     },
     "execution_count": 58,
     "metadata": {},
     "output_type": "execute_result"
    }
   ],
   "source": [
    "pred"
   ]
  },
  {
   "cell_type": "code",
   "execution_count": 454,
   "id": "04d5a3d6",
   "metadata": {},
   "outputs": [],
   "source": [
    "from sklearn.metrics import mean_squared_error"
   ]
  },
  {
   "cell_type": "code",
   "execution_count": 28,
   "id": "a2515a91",
   "metadata": {},
   "outputs": [
    {
     "name": "stdout",
     "output_type": "stream",
     "text": [
      "2/2 [==============================] - 20s 7s/step\n"
     ]
    }
   ],
   "source": [
    "val_size = 50\n",
    "x_val = [input_ids[0:val_size],attention_mask[0:val_size]]\n",
    "y_val = np.asanyarray([syntax[:val_size], cohesion[:val_size], vocabulary[:val_size]])\n",
    "pred = np.asarray(test_model.predict([input_ids[0:val_size],attention_mask[0:val_size]]))\n",
    "pred = pred.reshape((3,val_size))"
   ]
  },
  {
   "cell_type": "code",
   "execution_count": 455,
   "id": "d75b6677",
   "metadata": {},
   "outputs": [
    {
     "data": {
      "text/plain": [
       "1.1118564512290523"
      ]
     },
     "execution_count": 455,
     "metadata": {},
     "output_type": "execute_result"
    }
   ],
   "source": [
    "np.sqrt(mean_squared_error(pred_reg,y_test_reg))"
   ]
  },
  {
   "cell_type": "code",
   "execution_count": 83,
   "id": "3fd8819b",
   "metadata": {},
   "outputs": [
    {
     "name": "stdout",
     "output_type": "stream",
     "text": [
      "25/25 [==============================] - 23s 906ms/step - loss: 1.0188 - syntax_loss: 0.3781 - cohesion_loss: 0.3367 - vocabulary_loss: 0.3040\n"
     ]
    },
    {
     "data": {
      "text/plain": [
       "[1.0188144445419312,\n",
       " 0.37809306383132935,\n",
       " 0.33667880296707153,\n",
       " 0.3040424585342407]"
      ]
     },
     "execution_count": 83,
     "metadata": {},
     "output_type": "execute_result"
    }
   ],
   "source": [
    "y_val = [syntax[:val_size], cohesion[:val_size], vocabulary[:val_size]]\n",
    "m.evaluate(x_val,y_val, batch_size=2)"
   ]
  },
  {
   "cell_type": "code",
   "execution_count": 84,
   "id": "f0240c01",
   "metadata": {},
   "outputs": [],
   "source": [
    "model = tf.keras.models.Model(\n",
    "    test_model.input, \n",
    "    test_model.get_layer('our_param').output\n",
    ")"
   ]
  },
  {
   "cell_type": "code",
   "execution_count": 85,
   "id": "368b5290",
   "metadata": {},
   "outputs": [],
   "source": [
    "x_train = [input_ids[:3300], attention_mask[:3300]]\n",
    "x_test = [input_ids[3300:], attention_mask[3300:]]"
   ]
  },
  {
   "cell_type": "code",
   "execution_count": 86,
   "id": "8eff30cf",
   "metadata": {},
   "outputs": [
    {
     "name": "stdout",
     "output_type": "stream",
     "text": [
      "104/104 [==============================] - 1425s 14s/step\n"
     ]
    }
   ],
   "source": [
    "X_train_features = model.predict(x_train)"
   ]
  },
  {
   "cell_type": "code",
   "execution_count": 87,
   "id": "84fe6ab2",
   "metadata": {},
   "outputs": [
    {
     "name": "stdout",
     "output_type": "stream",
     "text": [
      "Model: \"model_3\"\n",
      "__________________________________________________________________________________________________\n",
      " Layer (type)                   Output Shape         Param #     Connected to                     \n",
      "==================================================================================================\n",
      " input_5 (InputLayer)           [(None, 512)]        0           []                               \n",
      "                                                                                                  \n",
      " input_6 (InputLayer)           [(None, 512)]        0           []                               \n",
      "                                                                                                  \n",
      " tf_bert_model (TFBertModel)    TFBaseModelOutputWi  108310272   ['input_5[0][0]',                \n",
      "                                thPoolingAndCrossAt               'input_6[0][0]']                \n",
      "                                tentions(last_hidde                                               \n",
      "                                n_state=(None, 512,                                               \n",
      "                                 768),                                                            \n",
      "                                 pooler_output=(Non                                               \n",
      "                                e, 768),                                                          \n",
      "                                 past_key_values=No                                               \n",
      "                                ne, hidden_states=N                                               \n",
      "                                one, attentions=Non                                               \n",
      "                                e, cross_attentions                                               \n",
      "                                =None)                                                            \n",
      "                                                                                                  \n",
      " lstm_12 (LSTM)                 (None, 512, 32)      102528      ['tf_bert_model[2][0]']          \n",
      "                                                                                                  \n",
      " lstm_13 (LSTM)                 (None, 512, 32)      8320        ['lstm_12[0][0]']                \n",
      "                                                                                                  \n",
      " minimum_6 (Minimum)            (None, 512, 32)      0           ['lstm_12[0][0]',                \n",
      "                                                                  'lstm_13[0][0]']                \n",
      "                                                                                                  \n",
      " lstm_15 (LSTM)                 (None, 512, 64)      24832       ['minimum_6[0][0]']              \n",
      "                                                                                                  \n",
      " lstm_14 (LSTM)                 (None, 512, 64)      24832       ['minimum_6[0][0]']              \n",
      "                                                                                                  \n",
      " minimum_7 (Minimum)            (None, 512, 64)      0           ['lstm_15[0][0]',                \n",
      "                                                                  'lstm_14[0][0]']                \n",
      "                                                                                                  \n",
      " lstm_17 (LSTM)                 (None, 512, 128)     98816       ['minimum_7[0][0]']              \n",
      "                                                                                                  \n",
      " lstm_16 (LSTM)                 (None, 512, 128)     98816       ['minimum_7[0][0]']              \n",
      "                                                                                                  \n",
      " minimum_8 (Minimum)            (None, 512, 128)     0           ['lstm_17[0][0]',                \n",
      "                                                                  'lstm_16[0][0]']                \n",
      "                                                                                                  \n",
      " global_average_pooling1d_2 (Gl  (None, 128)         0           ['minimum_8[0][0]']              \n",
      " obalAveragePooling1D)                                                                            \n",
      "                                                                                                  \n",
      " global_max_pooling1d_2 (Global  (None, 128)         0           ['minimum_8[0][0]']              \n",
      " MaxPooling1D)                                                                                    \n",
      "                                                                                                  \n",
      " our_param (Concatenate)        (None, 256)          0           ['global_average_pooling1d_2[0][0\n",
      "                                                                 ]',                              \n",
      "                                                                  'global_max_pooling1d_2[0][0]'] \n",
      "                                                                                                  \n",
      "==================================================================================================\n",
      "Total params: 108,668,416\n",
      "Trainable params: 358,144\n",
      "Non-trainable params: 108,310,272\n",
      "__________________________________________________________________________________________________\n"
     ]
    }
   ],
   "source": [
    "model.summary()"
   ]
  },
  {
   "cell_type": "code",
   "execution_count": 29,
   "id": "9b1ea0e7",
   "metadata": {},
   "outputs": [],
   "source": [
    "from xgboost import XGBRegressor"
   ]
  },
  {
   "cell_type": "code",
   "execution_count": 34,
   "id": "48867a3e",
   "metadata": {},
   "outputs": [
    {
     "name": "stderr",
     "output_type": "stream",
     "text": [
      "/var/folders/dx/sc89948n7r9d_y3ms23yc8c40000gn/T/ipykernel_95847/1217921742.py:2: FutureWarning: The default value of numeric_only in DataFrame.corr is deprecated. In a future version, it will default to False. Select only valid columns or specify the value of numeric_only to silence this warning.\n",
      "  data_train.head(1100).corr()\n"
     ]
    },
    {
     "data": {
      "text/html": [
       "<div>\n",
       "<style scoped>\n",
       "    .dataframe tbody tr th:only-of-type {\n",
       "        vertical-align: middle;\n",
       "    }\n",
       "\n",
       "    .dataframe tbody tr th {\n",
       "        vertical-align: top;\n",
       "    }\n",
       "\n",
       "    .dataframe thead th {\n",
       "        text-align: right;\n",
       "    }\n",
       "</style>\n",
       "<table border=\"1\" class=\"dataframe\">\n",
       "  <thead>\n",
       "    <tr style=\"text-align: right;\">\n",
       "      <th></th>\n",
       "      <th>cohesion</th>\n",
       "      <th>syntax</th>\n",
       "      <th>vocabulary</th>\n",
       "      <th>phraseology</th>\n",
       "      <th>grammar</th>\n",
       "      <th>conventions</th>\n",
       "    </tr>\n",
       "  </thead>\n",
       "  <tbody>\n",
       "    <tr>\n",
       "      <th>cohesion</th>\n",
       "      <td>1.000000</td>\n",
       "      <td>0.695358</td>\n",
       "      <td>0.663011</td>\n",
       "      <td>0.682438</td>\n",
       "      <td>0.644503</td>\n",
       "      <td>0.687966</td>\n",
       "    </tr>\n",
       "    <tr>\n",
       "      <th>syntax</th>\n",
       "      <td>0.695358</td>\n",
       "      <td>1.000000</td>\n",
       "      <td>0.678902</td>\n",
       "      <td>0.735616</td>\n",
       "      <td>0.715964</td>\n",
       "      <td>0.718710</td>\n",
       "    </tr>\n",
       "    <tr>\n",
       "      <th>vocabulary</th>\n",
       "      <td>0.663011</td>\n",
       "      <td>0.678902</td>\n",
       "      <td>1.000000</td>\n",
       "      <td>0.735437</td>\n",
       "      <td>0.664020</td>\n",
       "      <td>0.666429</td>\n",
       "    </tr>\n",
       "    <tr>\n",
       "      <th>phraseology</th>\n",
       "      <td>0.682438</td>\n",
       "      <td>0.735616</td>\n",
       "      <td>0.735437</td>\n",
       "      <td>1.000000</td>\n",
       "      <td>0.720467</td>\n",
       "      <td>0.680239</td>\n",
       "    </tr>\n",
       "    <tr>\n",
       "      <th>grammar</th>\n",
       "      <td>0.644503</td>\n",
       "      <td>0.715964</td>\n",
       "      <td>0.664020</td>\n",
       "      <td>0.720467</td>\n",
       "      <td>1.000000</td>\n",
       "      <td>0.696234</td>\n",
       "    </tr>\n",
       "    <tr>\n",
       "      <th>conventions</th>\n",
       "      <td>0.687966</td>\n",
       "      <td>0.718710</td>\n",
       "      <td>0.666429</td>\n",
       "      <td>0.680239</td>\n",
       "      <td>0.696234</td>\n",
       "      <td>1.000000</td>\n",
       "    </tr>\n",
       "  </tbody>\n",
       "</table>\n",
       "</div>"
      ],
      "text/plain": [
       "             cohesion    syntax  vocabulary  phraseology   grammar  \\\n",
       "cohesion     1.000000  0.695358    0.663011     0.682438  0.644503   \n",
       "syntax       0.695358  1.000000    0.678902     0.735616  0.715964   \n",
       "vocabulary   0.663011  0.678902    1.000000     0.735437  0.664020   \n",
       "phraseology  0.682438  0.735616    0.735437     1.000000  0.720467   \n",
       "grammar      0.644503  0.715964    0.664020     0.720467  1.000000   \n",
       "conventions  0.687966  0.718710    0.666429     0.680239  0.696234   \n",
       "\n",
       "             conventions  \n",
       "cohesion        0.687966  \n",
       "syntax          0.718710  \n",
       "vocabulary      0.666429  \n",
       "phraseology     0.680239  \n",
       "grammar         0.696234  \n",
       "conventions     1.000000  "
      ]
     },
     "execution_count": 34,
     "metadata": {},
     "output_type": "execute_result"
    }
   ],
   "source": [
    "classifier = XGBRegressor()\n",
    "data_train.head(1100).corr()"
   ]
  },
  {
   "cell_type": "code",
   "execution_count": null,
   "id": "9ccf9482",
   "metadata": {},
   "outputs": [],
   "source": []
  }
 ],
 "metadata": {
  "kernelspec": {
   "display_name": "Python 3 (ipykernel)",
   "language": "python",
   "name": "python3"
  },
  "language_info": {
   "codemirror_mode": {
    "name": "ipython",
    "version": 3
   },
   "file_extension": ".py",
   "mimetype": "text/x-python",
   "name": "python",
   "nbconvert_exporter": "python",
   "pygments_lexer": "ipython3",
   "version": "3.9.12"
  }
 },
 "nbformat": 4,
 "nbformat_minor": 5
}
