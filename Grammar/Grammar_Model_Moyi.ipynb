{
  "nbformat": 4,
  "nbformat_minor": 0,
  "metadata": {
    "colab": {
      "provenance": []
    },
    "kernelspec": {
      "name": "python3",
      "display_name": "Python 3"
    },
    "language_info": {
      "name": "python"
    },
    "gpuClass": "standard"
  },
  "cells": [
    {
      "cell_type": "code",
      "source": [
        "import pandas as pd\n",
        "import numpy as np\n",
        "import matplotlib.pyplot as plt\n",
        "import seaborn as sns\n",
        "\n",
        "sns.set_style(\"whitegrid\")"
      ],
      "metadata": {
        "id": "EQmt3dzkws6E"
      },
      "execution_count": 1,
      "outputs": []
    },
    {
      "cell_type": "markdown",
      "source": [
        "# Load Data"
      ],
      "metadata": {
        "id": "GNnII_PAwn88"
      }
    },
    {
      "cell_type": "code",
      "source": [
        "from google.colab import drive\n",
        "drive.mount('/content/drive')"
      ],
      "metadata": {
        "colab": {
          "base_uri": "https://localhost:8080/"
        },
        "id": "d6geXwni9kcn",
        "outputId": "c42e08d8-9a15-4ebf-bc5a-1724920522d6"
      },
      "execution_count": 2,
      "outputs": [
        {
          "output_type": "stream",
          "name": "stdout",
          "text": [
            "Mounted at /content/drive\n"
          ]
        }
      ]
    },
    {
      "cell_type": "code",
      "execution_count": 3,
      "metadata": {
        "id": "u9ooM-Ygr_KU"
      },
      "outputs": [],
      "source": [
        "train = pd.read_csv('/content/drive/MyDrive/Colab Notebooks/Erdos Fall 2022/grammar_train_comb.csv', index_col=0)\n",
        "test = pd.read_csv('/content/drive/MyDrive/Colab Notebooks/Erdos Fall 2022/grammar_test.csv', index_col=0)"
      ]
    },
    {
      "cell_type": "code",
      "source": [
        "train"
      ],
      "metadata": {
        "colab": {
          "base_uri": "https://localhost:8080/",
          "height": 424
        },
        "id": "bzUpezUG9Z0o",
        "outputId": "d378820e-3306-48ca-bd0c-2da9d17b40e0"
      },
      "execution_count": 4,
      "outputs": [
        {
          "output_type": "execute_result",
          "data": {
            "text/plain": [
              "                                      cleaned_full_text  grammar_score  \\\n",
              "0     I think that students would benefit from learn...            4.0   \n",
              "1     When a problem is a change you have to let it ...            2.0   \n",
              "2     Dear, Principal If u change the school policy ...            3.0   \n",
              "3     The best time in life is when you become yours...            4.0   \n",
              "4     Small act of kindness can impact in other peop...            2.5   \n",
              "...                                                 ...            ...   \n",
              "3906  I believe using cellphones in class for educat...            2.5   \n",
              "3907  Working alone, students do not have to argue w...            3.5   \n",
              "3908  \"A problem is a chance for you to do your best...            3.5   \n",
              "3909  Many people disagree with Albert Schweitzer's ...            4.5   \n",
              "3910  Do you think that failure is the main thing fo...            3.0   \n",
              "\n",
              "      ratio_grammar_correct_sentences  sentence_number  \n",
              "0                            0.666667               18  \n",
              "1                            0.357143               14  \n",
              "2                            0.631579               19  \n",
              "3                            0.916667               36  \n",
              "4                            0.000000                3  \n",
              "...                               ...              ...  \n",
              "3906                         0.500000                6  \n",
              "3907                         0.437500               16  \n",
              "3908                         0.375000                8  \n",
              "3909                         1.000000               21  \n",
              "3910                         0.200000               10  \n",
              "\n",
              "[3911 rows x 4 columns]"
            ],
            "text/html": [
              "\n",
              "  <div id=\"df-0efc7982-6f28-4208-ba2b-bc3eb3dc49a1\">\n",
              "    <div class=\"colab-df-container\">\n",
              "      <div>\n",
              "<style scoped>\n",
              "    .dataframe tbody tr th:only-of-type {\n",
              "        vertical-align: middle;\n",
              "    }\n",
              "\n",
              "    .dataframe tbody tr th {\n",
              "        vertical-align: top;\n",
              "    }\n",
              "\n",
              "    .dataframe thead th {\n",
              "        text-align: right;\n",
              "    }\n",
              "</style>\n",
              "<table border=\"1\" class=\"dataframe\">\n",
              "  <thead>\n",
              "    <tr style=\"text-align: right;\">\n",
              "      <th></th>\n",
              "      <th>cleaned_full_text</th>\n",
              "      <th>grammar_score</th>\n",
              "      <th>ratio_grammar_correct_sentences</th>\n",
              "      <th>sentence_number</th>\n",
              "    </tr>\n",
              "  </thead>\n",
              "  <tbody>\n",
              "    <tr>\n",
              "      <th>0</th>\n",
              "      <td>I think that students would benefit from learn...</td>\n",
              "      <td>4.0</td>\n",
              "      <td>0.666667</td>\n",
              "      <td>18</td>\n",
              "    </tr>\n",
              "    <tr>\n",
              "      <th>1</th>\n",
              "      <td>When a problem is a change you have to let it ...</td>\n",
              "      <td>2.0</td>\n",
              "      <td>0.357143</td>\n",
              "      <td>14</td>\n",
              "    </tr>\n",
              "    <tr>\n",
              "      <th>2</th>\n",
              "      <td>Dear, Principal If u change the school policy ...</td>\n",
              "      <td>3.0</td>\n",
              "      <td>0.631579</td>\n",
              "      <td>19</td>\n",
              "    </tr>\n",
              "    <tr>\n",
              "      <th>3</th>\n",
              "      <td>The best time in life is when you become yours...</td>\n",
              "      <td>4.0</td>\n",
              "      <td>0.916667</td>\n",
              "      <td>36</td>\n",
              "    </tr>\n",
              "    <tr>\n",
              "      <th>4</th>\n",
              "      <td>Small act of kindness can impact in other peop...</td>\n",
              "      <td>2.5</td>\n",
              "      <td>0.000000</td>\n",
              "      <td>3</td>\n",
              "    </tr>\n",
              "    <tr>\n",
              "      <th>...</th>\n",
              "      <td>...</td>\n",
              "      <td>...</td>\n",
              "      <td>...</td>\n",
              "      <td>...</td>\n",
              "    </tr>\n",
              "    <tr>\n",
              "      <th>3906</th>\n",
              "      <td>I believe using cellphones in class for educat...</td>\n",
              "      <td>2.5</td>\n",
              "      <td>0.500000</td>\n",
              "      <td>6</td>\n",
              "    </tr>\n",
              "    <tr>\n",
              "      <th>3907</th>\n",
              "      <td>Working alone, students do not have to argue w...</td>\n",
              "      <td>3.5</td>\n",
              "      <td>0.437500</td>\n",
              "      <td>16</td>\n",
              "    </tr>\n",
              "    <tr>\n",
              "      <th>3908</th>\n",
              "      <td>\"A problem is a chance for you to do your best...</td>\n",
              "      <td>3.5</td>\n",
              "      <td>0.375000</td>\n",
              "      <td>8</td>\n",
              "    </tr>\n",
              "    <tr>\n",
              "      <th>3909</th>\n",
              "      <td>Many people disagree with Albert Schweitzer's ...</td>\n",
              "      <td>4.5</td>\n",
              "      <td>1.000000</td>\n",
              "      <td>21</td>\n",
              "    </tr>\n",
              "    <tr>\n",
              "      <th>3910</th>\n",
              "      <td>Do you think that failure is the main thing fo...</td>\n",
              "      <td>3.0</td>\n",
              "      <td>0.200000</td>\n",
              "      <td>10</td>\n",
              "    </tr>\n",
              "  </tbody>\n",
              "</table>\n",
              "<p>3911 rows × 4 columns</p>\n",
              "</div>\n",
              "      <button class=\"colab-df-convert\" onclick=\"convertToInteractive('df-0efc7982-6f28-4208-ba2b-bc3eb3dc49a1')\"\n",
              "              title=\"Convert this dataframe to an interactive table.\"\n",
              "              style=\"display:none;\">\n",
              "        \n",
              "  <svg xmlns=\"http://www.w3.org/2000/svg\" height=\"24px\"viewBox=\"0 0 24 24\"\n",
              "       width=\"24px\">\n",
              "    <path d=\"M0 0h24v24H0V0z\" fill=\"none\"/>\n",
              "    <path d=\"M18.56 5.44l.94 2.06.94-2.06 2.06-.94-2.06-.94-.94-2.06-.94 2.06-2.06.94zm-11 1L8.5 8.5l.94-2.06 2.06-.94-2.06-.94L8.5 2.5l-.94 2.06-2.06.94zm10 10l.94 2.06.94-2.06 2.06-.94-2.06-.94-.94-2.06-.94 2.06-2.06.94z\"/><path d=\"M17.41 7.96l-1.37-1.37c-.4-.4-.92-.59-1.43-.59-.52 0-1.04.2-1.43.59L10.3 9.45l-7.72 7.72c-.78.78-.78 2.05 0 2.83L4 21.41c.39.39.9.59 1.41.59.51 0 1.02-.2 1.41-.59l7.78-7.78 2.81-2.81c.8-.78.8-2.07 0-2.86zM5.41 20L4 18.59l7.72-7.72 1.47 1.35L5.41 20z\"/>\n",
              "  </svg>\n",
              "      </button>\n",
              "      \n",
              "  <style>\n",
              "    .colab-df-container {\n",
              "      display:flex;\n",
              "      flex-wrap:wrap;\n",
              "      gap: 12px;\n",
              "    }\n",
              "\n",
              "    .colab-df-convert {\n",
              "      background-color: #E8F0FE;\n",
              "      border: none;\n",
              "      border-radius: 50%;\n",
              "      cursor: pointer;\n",
              "      display: none;\n",
              "      fill: #1967D2;\n",
              "      height: 32px;\n",
              "      padding: 0 0 0 0;\n",
              "      width: 32px;\n",
              "    }\n",
              "\n",
              "    .colab-df-convert:hover {\n",
              "      background-color: #E2EBFA;\n",
              "      box-shadow: 0px 1px 2px rgba(60, 64, 67, 0.3), 0px 1px 3px 1px rgba(60, 64, 67, 0.15);\n",
              "      fill: #174EA6;\n",
              "    }\n",
              "\n",
              "    [theme=dark] .colab-df-convert {\n",
              "      background-color: #3B4455;\n",
              "      fill: #D2E3FC;\n",
              "    }\n",
              "\n",
              "    [theme=dark] .colab-df-convert:hover {\n",
              "      background-color: #434B5C;\n",
              "      box-shadow: 0px 1px 3px 1px rgba(0, 0, 0, 0.15);\n",
              "      filter: drop-shadow(0px 1px 2px rgba(0, 0, 0, 0.3));\n",
              "      fill: #FFFFFF;\n",
              "    }\n",
              "  </style>\n",
              "\n",
              "      <script>\n",
              "        const buttonEl =\n",
              "          document.querySelector('#df-0efc7982-6f28-4208-ba2b-bc3eb3dc49a1 button.colab-df-convert');\n",
              "        buttonEl.style.display =\n",
              "          google.colab.kernel.accessAllowed ? 'block' : 'none';\n",
              "\n",
              "        async function convertToInteractive(key) {\n",
              "          const element = document.querySelector('#df-0efc7982-6f28-4208-ba2b-bc3eb3dc49a1');\n",
              "          const dataTable =\n",
              "            await google.colab.kernel.invokeFunction('convertToInteractive',\n",
              "                                                     [key], {});\n",
              "          if (!dataTable) return;\n",
              "\n",
              "          const docLinkHtml = 'Like what you see? Visit the ' +\n",
              "            '<a target=\"_blank\" href=https://colab.research.google.com/notebooks/data_table.ipynb>data table notebook</a>'\n",
              "            + ' to learn more about interactive tables.';\n",
              "          element.innerHTML = '';\n",
              "          dataTable['output_type'] = 'display_data';\n",
              "          await google.colab.output.renderOutput(dataTable, element);\n",
              "          const docLink = document.createElement('div');\n",
              "          docLink.innerHTML = docLinkHtml;\n",
              "          element.appendChild(docLink);\n",
              "        }\n",
              "      </script>\n",
              "    </div>\n",
              "  </div>\n",
              "  "
            ]
          },
          "metadata": {},
          "execution_count": 4
        }
      ]
    },
    {
      "cell_type": "code",
      "source": [
        "test"
      ],
      "metadata": {
        "colab": {
          "base_uri": "https://localhost:8080/",
          "height": 143
        },
        "id": "fd30vMbRfovd",
        "outputId": "0a976024-13ab-4a1a-8582-1ee564f3f8b3"
      },
      "execution_count": 5,
      "outputs": [
        {
          "output_type": "execute_result",
          "data": {
            "text/plain": [
              "                                   cleaned_full_text  sentence_number  \\\n",
              "0  when a person has no experience on a job their...               26   \n",
              "1  Do you think students would benefit from being...               17   \n",
              "2  Thomas Jefferson once states that \"it is wonde...               17   \n",
              "\n",
              "   ratio_grammar_correct_sentences  \n",
              "0                         0.076923  \n",
              "1                         0.294118  \n",
              "2                         0.647059  "
            ],
            "text/html": [
              "\n",
              "  <div id=\"df-7deb3cc8-9ba4-42a1-816c-d7509e56dc11\">\n",
              "    <div class=\"colab-df-container\">\n",
              "      <div>\n",
              "<style scoped>\n",
              "    .dataframe tbody tr th:only-of-type {\n",
              "        vertical-align: middle;\n",
              "    }\n",
              "\n",
              "    .dataframe tbody tr th {\n",
              "        vertical-align: top;\n",
              "    }\n",
              "\n",
              "    .dataframe thead th {\n",
              "        text-align: right;\n",
              "    }\n",
              "</style>\n",
              "<table border=\"1\" class=\"dataframe\">\n",
              "  <thead>\n",
              "    <tr style=\"text-align: right;\">\n",
              "      <th></th>\n",
              "      <th>cleaned_full_text</th>\n",
              "      <th>sentence_number</th>\n",
              "      <th>ratio_grammar_correct_sentences</th>\n",
              "    </tr>\n",
              "  </thead>\n",
              "  <tbody>\n",
              "    <tr>\n",
              "      <th>0</th>\n",
              "      <td>when a person has no experience on a job their...</td>\n",
              "      <td>26</td>\n",
              "      <td>0.076923</td>\n",
              "    </tr>\n",
              "    <tr>\n",
              "      <th>1</th>\n",
              "      <td>Do you think students would benefit from being...</td>\n",
              "      <td>17</td>\n",
              "      <td>0.294118</td>\n",
              "    </tr>\n",
              "    <tr>\n",
              "      <th>2</th>\n",
              "      <td>Thomas Jefferson once states that \"it is wonde...</td>\n",
              "      <td>17</td>\n",
              "      <td>0.647059</td>\n",
              "    </tr>\n",
              "  </tbody>\n",
              "</table>\n",
              "</div>\n",
              "      <button class=\"colab-df-convert\" onclick=\"convertToInteractive('df-7deb3cc8-9ba4-42a1-816c-d7509e56dc11')\"\n",
              "              title=\"Convert this dataframe to an interactive table.\"\n",
              "              style=\"display:none;\">\n",
              "        \n",
              "  <svg xmlns=\"http://www.w3.org/2000/svg\" height=\"24px\"viewBox=\"0 0 24 24\"\n",
              "       width=\"24px\">\n",
              "    <path d=\"M0 0h24v24H0V0z\" fill=\"none\"/>\n",
              "    <path d=\"M18.56 5.44l.94 2.06.94-2.06 2.06-.94-2.06-.94-.94-2.06-.94 2.06-2.06.94zm-11 1L8.5 8.5l.94-2.06 2.06-.94-2.06-.94L8.5 2.5l-.94 2.06-2.06.94zm10 10l.94 2.06.94-2.06 2.06-.94-2.06-.94-.94-2.06-.94 2.06-2.06.94z\"/><path d=\"M17.41 7.96l-1.37-1.37c-.4-.4-.92-.59-1.43-.59-.52 0-1.04.2-1.43.59L10.3 9.45l-7.72 7.72c-.78.78-.78 2.05 0 2.83L4 21.41c.39.39.9.59 1.41.59.51 0 1.02-.2 1.41-.59l7.78-7.78 2.81-2.81c.8-.78.8-2.07 0-2.86zM5.41 20L4 18.59l7.72-7.72 1.47 1.35L5.41 20z\"/>\n",
              "  </svg>\n",
              "      </button>\n",
              "      \n",
              "  <style>\n",
              "    .colab-df-container {\n",
              "      display:flex;\n",
              "      flex-wrap:wrap;\n",
              "      gap: 12px;\n",
              "    }\n",
              "\n",
              "    .colab-df-convert {\n",
              "      background-color: #E8F0FE;\n",
              "      border: none;\n",
              "      border-radius: 50%;\n",
              "      cursor: pointer;\n",
              "      display: none;\n",
              "      fill: #1967D2;\n",
              "      height: 32px;\n",
              "      padding: 0 0 0 0;\n",
              "      width: 32px;\n",
              "    }\n",
              "\n",
              "    .colab-df-convert:hover {\n",
              "      background-color: #E2EBFA;\n",
              "      box-shadow: 0px 1px 2px rgba(60, 64, 67, 0.3), 0px 1px 3px 1px rgba(60, 64, 67, 0.15);\n",
              "      fill: #174EA6;\n",
              "    }\n",
              "\n",
              "    [theme=dark] .colab-df-convert {\n",
              "      background-color: #3B4455;\n",
              "      fill: #D2E3FC;\n",
              "    }\n",
              "\n",
              "    [theme=dark] .colab-df-convert:hover {\n",
              "      background-color: #434B5C;\n",
              "      box-shadow: 0px 1px 3px 1px rgba(0, 0, 0, 0.15);\n",
              "      filter: drop-shadow(0px 1px 2px rgba(0, 0, 0, 0.3));\n",
              "      fill: #FFFFFF;\n",
              "    }\n",
              "  </style>\n",
              "\n",
              "      <script>\n",
              "        const buttonEl =\n",
              "          document.querySelector('#df-7deb3cc8-9ba4-42a1-816c-d7509e56dc11 button.colab-df-convert');\n",
              "        buttonEl.style.display =\n",
              "          google.colab.kernel.accessAllowed ? 'block' : 'none';\n",
              "\n",
              "        async function convertToInteractive(key) {\n",
              "          const element = document.querySelector('#df-7deb3cc8-9ba4-42a1-816c-d7509e56dc11');\n",
              "          const dataTable =\n",
              "            await google.colab.kernel.invokeFunction('convertToInteractive',\n",
              "                                                     [key], {});\n",
              "          if (!dataTable) return;\n",
              "\n",
              "          const docLinkHtml = 'Like what you see? Visit the ' +\n",
              "            '<a target=\"_blank\" href=https://colab.research.google.com/notebooks/data_table.ipynb>data table notebook</a>'\n",
              "            + ' to learn more about interactive tables.';\n",
              "          element.innerHTML = '';\n",
              "          dataTable['output_type'] = 'display_data';\n",
              "          await google.colab.output.renderOutput(dataTable, element);\n",
              "          const docLink = document.createElement('div');\n",
              "          docLink.innerHTML = docLinkHtml;\n",
              "          element.appendChild(docLink);\n",
              "        }\n",
              "      </script>\n",
              "    </div>\n",
              "  </div>\n",
              "  "
            ]
          },
          "metadata": {},
          "execution_count": 5
        }
      ]
    },
    {
      "cell_type": "markdown",
      "source": [
        "# EDA"
      ],
      "metadata": {
        "id": "p6cbqvmafwyw"
      }
    },
    {
      "cell_type": "code",
      "source": [
        "# Score over correct_ratio on train set\n",
        "plt.figure(figsize=(8,6))\n",
        "\n",
        "plt.scatter(train.ratio_grammar_correct_sentences, \n",
        "            train.grammar_score)\n",
        "\n",
        "plt.xlabel(\"ratio of grammatically correct sentences\", fontsize=16)\n",
        "plt.ylabel(\"grammar score\", fontsize=16)\n",
        "plt.title(\"Train Set\", fontsize=16)\n",
        "\n",
        "plt.show()"
      ],
      "metadata": {
        "colab": {
          "base_uri": "https://localhost:8080/",
          "height": 411
        },
        "id": "P3vYPc1if73c",
        "outputId": "ca180da5-b7b1-4582-ab78-b4017327e920"
      },
      "execution_count": 6,
      "outputs": [
        {
          "output_type": "display_data",
          "data": {
            "text/plain": [
              "<Figure size 576x432 with 1 Axes>"
            ],
            "image/png": "[encoded data removed]"
          },
          "metadata": {}
        }
      ]
    },
    {
      "cell_type": "markdown",
      "source": [
        "## Bubble Plots"
      ],
      "metadata": {
        "id": "yLRfB8ERDXsl"
      }
    },
    {
      "cell_type": "code",
      "source": [
        "import plotly.express as px"
      ],
      "metadata": {
        "id": "06xYcd5Wf7kn"
      },
      "execution_count": 7,
      "outputs": []
    },
    {
      "cell_type": "code",
      "source": [
        "sz = train.groupby(['ratio_grammar_correct_sentences', 'grammar_score']).size()"
      ],
      "metadata": {
        "id": "mQvYRoXiDmEX"
      },
      "execution_count": 8,
      "outputs": []
    },
    {
      "cell_type": "code",
      "source": [
        "sz"
      ],
      "metadata": {
        "colab": {
          "base_uri": "https://localhost:8080/"
        },
        "id": "OuMfW7KrDl9n",
        "outputId": "c7f2c9fb-29aa-4b3b-fb27-b2cf11a43a15"
      },
      "execution_count": 9,
      "outputs": [
        {
          "output_type": "execute_result",
          "data": {
            "text/plain": [
              "ratio_grammar_correct_sentences  grammar_score\n",
              "0.0                              1.0                3\n",
              "                                 1.5               13\n",
              "                                 2.0              106\n",
              "                                 2.5               75\n",
              "                                 3.0               32\n",
              "                                                 ... \n",
              "1.0                              3.0               20\n",
              "                                 3.5               39\n",
              "                                 4.0               33\n",
              "                                 4.5               18\n",
              "                                 5.0                9\n",
              "Length: 1114, dtype: int64"
            ]
          },
          "metadata": {},
          "execution_count": 9
        }
      ]
    },
    {
      "cell_type": "code",
      "source": [
        "# Array for bubble size\n",
        "ratio, score = zip(*sz.index)\n",
        "\n",
        "fig = px.scatter(x=ratio, y=score, title = 'Ratio of Grammatically Correct Sentences vs Grammar Score for Training Data', size = sz,\n",
        "                 labels = {'x': 'Ratio of Grammatically Correct Sentences', 'y': 'Grammar Score', 'size': 'Count'},\n",
        "                 log_x=False, log_y = False, size_max=50)\n",
        "\n",
        "fig.show()"
      ],
      "metadata": {
        "colab": {
          "base_uri": "https://localhost:8080/",
          "height": 542
        },
        "id": "ZvZ37_dPDl2z",
        "outputId": "437af0bc-7ca6-40b6-f827-82d93356cc94"
      },
      "execution_count": 11,
      "outputs": [
        {
          "output_type": "display_data",
          "data": {
            "text/html": [
              "<html>\n",
              "<head><meta charset=\"utf-8\" /></head>\n",
              "<body>\n",
              "    <div>            <script src=\"https://cdnjs.cloudflare.com/ajax/libs/mathjax/2.7.5/MathJax.js?config=TeX-AMS-MML_SVG\"></script><script type=\"text/javascript\">if (window.MathJax) {MathJax.Hub.Config({SVG: {font: \"STIX-Web\"}});}</script>                <script type=\"text/javascript\">window.PlotlyConfig = {MathJaxConfig: 'local'};</script>\n",
              "        <script src=\"https://cdn.plot.ly/plotly-2.8.3.min.js\"></script>                <div id=\"5142c474-56f4-4519-8b6d-51f34f5a30e1\" class=\"plotly-graph-div\" style=\"height:525px; width:100%;\"></div>            <script type=\"text/javascript\">                                    window.PLOTLYENV=window.PLOTLYENV || {};                                    if (document.getElementById(\"5142c474-56f4-4519-8b6d-51f34f5a30e1\")) {                    Plotly.newPlot(                        \"5142c474-56f4-4519-8b6d-51f34f5a30e1\",                        [{\"hovertemplate\":\"Ratio of Grammatically Correct Sentences=%{x}<br>Grammar Score=%{y}<br>Count=%{marker.size}<extra></extra>\",\"legendgroup\":\"\",\"marker\":{\"color\":\"#636efa\",\"size\":[3,13,106,75,32,9,1,1,1,1,1,1,1,1,1,1,1,3,1,3,3,1,5,1,1,1,1,1,3,3,2,4,1,1,3,2,1,1,1,1,1,7,2,3,1,10,5,4,1,1,2,1,2,12,12,10,1,2,3,1,7,10,6,3,5,4,2,1,1,1,14,18,4,1,1,1,2,3,4,1,1,1,1,2,1,1,1,1,1,14,20,8,3,1,1,1,1,2,2,1,2,1,9,8,3,1,4,2,2,1,2,2,1,1,1,1,1,1,15,26,13,5,2,1,2,1,1,1,1,3,6,3,1,1,11,12,4,1,1,1,4,2,1,1,2,5,1,1,1,2,4,1,1,2,1,23,27,13,7,2,1,2,1,6,2,1,1,3,1,7,5,2,1,1,7,6,2,2,1,1,2,1,2,1,10,11,11,3,1,1,1,1,2,2,1,1,1,1,7,14,4,1,1,1,2,2,2,1,2,4,8,1,1,1,4,3,1,2,3,1,1,4,1,1,1,3,2,1,1,1,1,1,21,33,17,20,3,1,1,1,1,1,1,1,1,1,2,1,2,2,6,2,2,2,6,2,1,3,1,1,1,1,14,5,1,1,1,1,3,2,2,2,1,9,12,12,9,2,1,2,2,1,1,6,3,4,1,1,1,4,5,2,1,1,4,1,1,1,11,16,14,10,2,1,1,2,1,1,2,2,3,2,2,1,7,3,4,2,1,1,1,1,4,1,3,1,1,2,11,10,7,5,1,1,2,3,1,2,6,2,1,1,3,1,1,3,12,12,7,1,1,1,1,1,1,3,2,1,1,4,3,15,3,3,1,1,1,1,1,4,5,6,2,1,1,1,1,3,5,5,1,1,1,5,3,2,1,1,2,2,1,1,1,6,2,1,3,1,1,1,2,1,1,1,1,1,1,1,1,18,45,60,22,10,1,1,1,1,1,1,3,2,1,2,3,2,1,1,1,1,3,3,1,1,4,1,1,1,1,4,4,3,2,1,5,6,7,2,2,2,1,1,6,4,3,1,3,1,1,2,6,8,5,2,2,3,3,2,1,1,2,9,13,16,3,1,1,1,1,1,1,2,1,2,2,6,3,1,1,1,4,2,1,2,1,12,16,7,7,1,1,1,1,1,1,6,2,1,1,1,1,1,6,4,1,1,2,4,6,1,1,1,3,3,2,1,1,7,10,20,12,11,1,1,1,2,1,1,4,4,2,1,4,2,3,1,1,1,4,6,4,4,1,4,2,3,2,1,1,1,1,5,8,10,13,4,1,2,2,1,1,3,1,1,1,1,1,1,1,1,1,6,3,10,2,1,1,1,3,1,2,4,9,7,1,2,4,1,1,2,4,3,1,3,3,2,4,1,1,2,4,1,1,2,1,2,1,7,15,31,26,12,1,2,1,1,1,1,2,1,3,4,3,2,3,7,4,1,1,4,8,3,1,1,1,2,1,1,5,2,3,1,1,1,1,1,6,4,5,1,2,1,1,2,4,1,1,1,3,3,11,5,2,1,2,2,3,1,2,1,2,4,7,2,1,1,1,3,1,1,1,1,1,1,10,16,10,10,1,1,2,5,1,4,4,7,7,1,1,1,4,11,13,3,1,3,1,1,8,7,4,2,1,6,2,1,1,1,5,4,2,2,2,2,1,1,1,1,6,11,18,22,10,1,1,1,1,1,1,1,2,2,1,2,1,3,3,1,3,2,3,2,1,4,5,2,1,1,1,1,3,11,14,6,1,1,1,6,5,4,1,2,1,2,10,13,5,3,1,1,1,3,1,2,3,1,1,1,1,1,2,2,5,3,1,1,1,1,3,5,1,1,3,4,1,1,2,2,1,1,6,18,13,12,2,1,1,1,1,2,4,1,1,5,2,1,1,6,5,3,1,3,1,3,6,11,6,1,3,3,1,2,7,6,2,1,1,2,2,1,2,1,1,1,5,15,12,10,3,1,1,1,1,1,1,1,1,1,4,1,1,2,1,1,1,1,3,6,7,3,1,2,1,1,3,2,1,3,1,1,4,6,8,6,3,1,2,2,2,1,1,3,4,1,3,2,6,3,5,1,2,4,6,3,1,1,1,1,1,1,1,2,5,16,11,1,2,1,3,1,2,2,1,1,2,6,4,1,5,1,2,1,2,10,8,6,1,1,4,2,1,8,3,5,4,1,2,1,3,13,2,3,1,2,1,1,3,2,1,1,1,2,1,2,4,5,9,3,1,1,1,1,1,1,4,5,1,1,1,7,5,10,3,1,2,1,1,1,1,1,1,8,9,2,4,1,1,1,3,6,6,3,1,2,1,1,3,3,3,1,1,4,6,3,3,2,1,1,1,3,4,4,1,2,2,3,3,1,1,1,6,3,1,3,7,4,1,1,2,2,4,1,1,2,1,3,2,2,1,4,1,2,3,3,2,1,1,1,1,2,1,1,1,1,3,1,1,1,2,2,1,1,1,3,1,3,1,1,1,1,2,2,1,1,1,1,1,1,9,20,39,33,18,9],\"sizemode\":\"area\",\"sizeref\":0.0424,\"symbol\":\"circle\"},\"mode\":\"markers\",\"name\":\"\",\"showlegend\":false,\"x\":[0.0,0.0,0.0,0.0,0.0,0.0,0.0,0.0277777777777777,0.0285714285714285,0.037037037037037,0.04,0.0416666666666666,0.0434782608695652,0.0434782608695652,0.0454545454545454,0.0454545454545454,0.05,0.0526315789473684,0.0526315789473684,0.0555555555555555,0.0588235294117647,0.0588235294117647,0.0625,0.0625,0.0666666666666666,0.0666666666666666,0.0666666666666666,0.0689655172413793,0.0714285714285714,0.0714285714285714,0.0769230769230769,0.0769230769230769,0.0769230769230769,0.0833333333333333,0.0833333333333333,0.0833333333333333,0.0869565217391304,0.0869565217391304,0.088235294117647,0.0909090909090909,0.0909090909090909,0.0909090909090909,0.0909090909090909,0.0909090909090909,0.0909090909090909,0.1,0.1,0.1,0.1034482758620689,0.1052631578947368,0.1052631578947368,0.1052631578947368,0.1111111111111111,0.1111111111111111,0.1111111111111111,0.1111111111111111,0.1153846153846153,0.1176470588235294,0.1176470588235294,0.12,0.125,0.125,0.125,0.125,0.1333333333333333,0.1333333333333333,0.1333333333333333,0.1363636363636363,0.1379310344827586,0.1379310344827586,0.1428571428571428,0.1428571428571428,0.1428571428571428,0.1454545454545454,0.15,0.1538461538461538,0.1538461538461538,0.1538461538461538,0.1538461538461538,0.1538461538461538,0.1555555555555555,0.15625,0.1578947368421052,0.1578947368421052,0.1578947368421052,0.16,0.16,0.1612903225806451,0.1666666666666666,0.1666666666666666,0.1666666666666666,0.1666666666666666,0.1666666666666666,0.1666666666666666,0.1724137931034483,0.1739130434782608,0.1739130434782608,0.1764705882352941,0.1764705882352941,0.1764705882352941,0.1785714285714285,0.1785714285714285,0.1818181818181818,0.1818181818181818,0.1818181818181818,0.1851851851851851,0.1875,0.1875,0.1875,0.1875,0.1904761904761904,0.1904761904761904,0.1923076923076923,0.1923076923076923,0.1923076923076923,0.1951219512195122,0.196078431372549,0.2,0.2,0.2,0.2,0.2,0.2083333333333333,0.2083333333333333,0.2083333333333333,0.2105263157894736,0.2105263157894736,0.2105263157894736,0.2121212121212121,0.2142857142857142,0.2142857142857142,0.2142857142857142,0.217391304347826,0.217391304347826,0.2222222222222222,0.2222222222222222,0.2222222222222222,0.2222222222222222,0.2258064516129032,0.2258064516129032,0.2272727272727272,0.2272727272727272,0.2272727272727272,0.2285714285714285,0.2307692307692307,0.2307692307692307,0.2307692307692307,0.2352941176470588,0.2352941176470588,0.2352941176470588,0.24,0.24,0.2413793103448276,0.2413793103448276,0.2452830188679245,0.25,0.25,0.25,0.25,0.25,0.2553191489361702,0.2580645161290322,0.2592592592592592,0.2608695652173913,0.2608695652173913,0.2631578947368421,0.2631578947368421,0.2631578947368421,0.2647058823529412,0.2666666666666666,0.2666666666666666,0.2666666666666666,0.2692307692307692,0.2727272727272727,0.2727272727272727,0.2727272727272727,0.2727272727272727,0.2758620689655172,0.2758620689655172,0.2777777777777778,0.2777777777777778,0.28,0.28,0.28125,0.2857142857142857,0.2857142857142857,0.2857142857142857,0.2857142857142857,0.2857142857142857,0.2894736842105263,0.2903225806451613,0.2916666666666667,0.2916666666666667,0.2941176470588235,0.2941176470588235,0.2941176470588235,0.2962962962962963,0.3,0.3,0.3,0.3,0.3,0.3,0.303030303030303,0.3043478260869565,0.3043478260869565,0.3043478260869565,0.3055555555555556,0.3076923076923077,0.3076923076923077,0.3076923076923077,0.3076923076923077,0.3103448275862069,0.3103448275862069,0.3125,0.3125,0.3125,0.3125,0.3157894736842105,0.3157894736842105,0.3157894736842105,0.3181818181818182,0.3181818181818182,0.3181818181818182,0.32,0.32,0.32,0.3214285714285714,0.3214285714285714,0.3225806451612903,0.3235294117647059,0.3333333333333333,0.3333333333333333,0.3333333333333333,0.3333333333333333,0.3333333333333333,0.3333333333333333,0.3333333333333333,0.3396226415094339,0.3421052631578947,0.3421052631578947,0.34375,0.34375,0.3448275862068966,0.3461538461538461,0.3478260869565217,0.3478260869565217,0.3478260869565217,0.35,0.3529411764705882,0.3529411764705882,0.3529411764705882,0.3529411764705882,0.3571428571428571,0.3571428571428571,0.3571428571428571,0.358974358974359,0.36,0.36,0.36,0.36,0.3636363636363636,0.3636363636363636,0.3636363636363636,0.3636363636363636,0.3636363636363636,0.3666666666666666,0.3666666666666666,0.3684210526315789,0.3684210526315789,0.3684210526315789,0.3703703703703703,0.3703703703703703,0.375,0.375,0.375,0.375,0.375,0.3793103448275862,0.3809523809523809,0.3809523809523809,0.3809523809523809,0.3846153846153846,0.3846153846153846,0.3846153846153846,0.3846153846153846,0.3846153846153846,0.3863636363636363,0.3888888888888889,0.3888888888888889,0.3888888888888889,0.3888888888888889,0.391304347826087,0.391304347826087,0.391304347826087,0.3928571428571428,0.3939393939393939,0.3939393939393939,0.4,0.4,0.4,0.4,0.4,0.4042553191489361,0.4090909090909091,0.4090909090909091,0.4090909090909091,0.4102564102564102,0.4117647058823529,0.4117647058823529,0.4117647058823529,0.4137931034482758,0.4137931034482758,0.4137931034482758,0.4166666666666667,0.4166666666666667,0.4166666666666667,0.4166666666666667,0.4166666666666667,0.4166666666666667,0.4193548387096774,0.4193548387096774,0.4210526315789473,0.4230769230769231,0.4230769230769231,0.4230769230769231,0.4230769230769231,0.4285714285714285,0.4285714285714285,0.4285714285714285,0.4285714285714285,0.4285714285714285,0.4333333333333333,0.4333333333333333,0.4347826086956521,0.4347826086956521,0.4375,0.4375,0.4375,0.4375,0.4375,0.4375,0.44,0.44,0.4418604651162791,0.4444444444444444,0.4444444444444444,0.4444444444444444,0.4444444444444444,0.4444444444444444,0.4482758620689655,0.4482758620689655,0.4482758620689655,0.45,0.45,0.45,0.45,0.4516129032258064,0.4523809523809524,0.4545454545454545,0.4545454545454545,0.4545454545454545,0.4545454545454545,0.4545454545454545,0.4565217391304347,0.4571428571428571,0.4583333333333333,0.4583333333333333,0.4594594594594595,0.4615384615384615,0.4615384615384615,0.4615384615384615,0.4615384615384615,0.4615384615384615,0.4642857142857143,0.4642857142857143,0.4651162790697674,0.4666666666666667,0.4666666666666667,0.4666666666666667,0.4666666666666667,0.4680851063829787,0.4705882352941176,0.4705882352941176,0.4705882352941176,0.4705882352941176,0.4722222222222222,0.4736842105263157,0.4736842105263157,0.4736842105263157,0.4761904761904761,0.4761904761904761,0.4761904761904761,0.4782608695652174,0.4782608695652174,0.4782608695652174,0.48,0.48,0.4814814814814814,0.4814814814814814,0.4814814814814814,0.4827586206896552,0.4827586206896552,0.4838709677419355,0.4838709677419355,0.4857142857142857,0.4864864864864865,0.4883720930232558,0.5,0.5,0.5,0.5,0.5,0.5,0.5135135135135135,0.5172413793103449,0.5172413793103449,0.5185185185185185,0.5185185185185185,0.5192307692307693,0.52,0.52,0.52,0.52,0.5217391304347826,0.5217391304347826,0.5217391304347826,0.5227272727272727,0.5238095238095238,0.5238095238095238,0.5238095238095238,0.5238095238095238,0.5263157894736842,0.5263157894736842,0.5263157894736842,0.5263157894736842,0.5277777777777778,0.5283018867924528,0.5294117647058824,0.5294117647058824,0.5294117647058824,0.5294117647058824,0.53125,0.5333333333333333,0.5333333333333333,0.5333333333333333,0.5333333333333333,0.5333333333333333,0.5357142857142857,0.5357142857142857,0.5357142857142857,0.5384615384615384,0.5384615384615384,0.5384615384615384,0.5384615384615384,0.5384615384615384,0.5416666666666666,0.5416666666666666,0.543859649122807,0.5454545454545454,0.5454545454545454,0.5454545454545454,0.5454545454545454,0.5454545454545454,0.5483870967741935,0.55,0.55,0.55,0.5517241379310345,0.5517241379310345,0.5555555555555556,0.5555555555555556,0.5555555555555556,0.5555555555555556,0.5555555555555556,0.5571428571428572,0.5588235294117647,0.5588235294117647,0.5588235294117647,0.56,0.56,0.56,0.56,0.5625,0.5625,0.5625,0.5625,0.5625,0.5641025641025641,0.5652173913043478,0.5652173913043478,0.5652173913043478,0.5660377358490566,0.5666666666666667,0.5714285714285714,0.5714285714285714,0.5714285714285714,0.5714285714285714,0.5714285714285714,0.575,0.5757575757575758,0.5769230769230769,0.5769230769230769,0.5769230769230769,0.5769230769230769,0.5789473684210527,0.5789473684210527,0.5789473684210527,0.58,0.5806451612903226,0.5818181818181818,0.5833333333333334,0.5833333333333334,0.5833333333333334,0.5862068965517241,0.5862068965517241,0.5882352941176471,0.5882352941176471,0.5882352941176471,0.5882352941176471,0.5897435897435898,0.5909090909090909,0.5909090909090909,0.5925925925925926,0.5925925925925926,0.5925925925925926,0.5952380952380952,0.6,0.6,0.6,0.6,0.6,0.6060606060606061,0.6060606060606061,0.6071428571428571,0.6071428571428571,0.6071428571428571,0.6086956521739131,0.6086956521739131,0.6086956521739131,0.6086956521739131,0.6111111111111112,0.6111111111111112,0.6111111111111112,0.6111111111111112,0.6122448979591837,0.6129032258064516,0.6129032258064516,0.6153846153846154,0.6153846153846154,0.6153846153846154,0.6153846153846154,0.6190476190476191,0.6190476190476191,0.6190476190476191,0.6190476190476191,0.6190476190476191,0.6206896551724138,0.6206896551724138,0.6222222222222222,0.6231884057971014,0.625,0.625,0.625,0.625,0.625,0.6296296296296297,0.6296296296296297,0.6296296296296297,0.6296296296296297,0.631578947368421,0.631578947368421,0.631578947368421,0.631578947368421,0.6333333333333333,0.6333333333333333,0.6333333333333333,0.6333333333333333,0.6341463414634146,0.6346153846153846,0.6363636363636364,0.6363636363636364,0.6363636363636364,0.6363636363636364,0.6363636363636364,0.6363636363636364,0.64,0.64,0.64,0.6410256410256411,0.6428571428571429,0.6428571428571429,0.6428571428571429,0.6428571428571429,0.6444444444444445,0.6451612903225806,0.6451612903225806,0.6458333333333334,0.6470588235294118,0.6470588235294118,0.6470588235294118,0.6470588235294118,0.65,0.65,0.65,0.6521739130434783,0.6521739130434783,0.6521739130434783,0.6538461538461539,0.6538461538461539,0.6538461538461539,0.6538461538461539,0.6551724137931034,0.65625,0.65625,0.6571428571428571,0.6595744680851063,0.6666666666666666,0.6666666666666666,0.6666666666666666,0.6666666666666666,0.6666666666666666,0.6666666666666666,0.6756756756756757,0.6764705882352942,0.6764705882352942,0.6774193548387096,0.6785714285714286,0.6785714285714286,0.6785714285714286,0.68,0.68,0.68,0.6818181818181818,0.6818181818181818,0.6818181818181818,0.6818181818181818,0.6829268292682927,0.6842105263157895,0.6842105263157895,0.6842105263157895,0.6842105263157895,0.6851851851851852,0.6857142857142857,0.6857142857142857,0.6857142857142857,0.6875,0.6875,0.6875,0.6875,0.6875,0.6875,0.6888888888888889,0.6896551724137931,0.6923076923076923,0.6923076923076923,0.6923076923076923,0.6923076923076923,0.6923076923076923,0.6923076923076923,0.6944444444444444,0.6956521739130435,0.6956521739130435,0.6956521739130435,0.6956521739130435,0.6956521739130435,0.696969696969697,0.696969696969697,0.7,0.7,0.7,0.7,0.7,0.7027027027027027,0.7037037037037037,0.7037037037037037,0.7037037037037037,0.7037037037037037,0.7045454545454546,0.7045454545454546,0.7058823529411765,0.7058823529411765,0.7058823529411765,0.7058823529411765,0.7073170731707317,0.7083333333333334,0.7083333333333334,0.7083333333333334,0.7083333333333334,0.7096774193548387,0.7096774193548387,0.7105263157894737,0.7105263157894737,0.7142857142857143,0.7142857142857143,0.7142857142857143,0.7142857142857143,0.7142857142857143,0.717948717948718,0.72,0.72,0.72,0.72,0.7222222222222222,0.7222222222222222,0.7222222222222222,0.7222222222222222,0.7241379310344828,0.7241379310344828,0.7272727272727273,0.7272727272727273,0.7272727272727273,0.7272727272727273,0.7272727272727273,0.7297297297297297,0.7307692307692307,0.7307692307692307,0.7333333333333333,0.7333333333333333,0.7333333333333333,0.7333333333333333,0.7368421052631579,0.7368421052631579,0.7368421052631579,0.7368421052631579,0.7380952380952381,0.7391304347826086,0.7391304347826086,0.7391304347826086,0.7407407407407407,0.7407407407407407,0.7407407407407407,0.7419354838709677,0.7419354838709677,0.7419354838709677,0.7428571428571429,0.7435897435897436,0.7441860465116279,0.75,0.75,0.75,0.75,0.75,0.75,0.75,0.7555555555555555,0.7555555555555555,0.7560975609756098,0.7560975609756098,0.7567567567567568,0.7575757575757576,0.7575757575757576,0.7586206896551724,0.7586206896551724,0.7586206896551724,0.76,0.76,0.7619047619047619,0.7619047619047619,0.7619047619047619,0.7619047619047619,0.7631578947368421,0.7647058823529411,0.7647058823529411,0.7647058823529411,0.7647058823529411,0.7659574468085106,0.7666666666666667,0.7666666666666667,0.7666666666666667,0.7692307692307693,0.7692307692307693,0.7692307692307693,0.7692307692307693,0.7714285714285715,0.7714285714285715,0.7727272727272727,0.7727272727272727,0.7727272727272727,0.7727272727272727,0.7741935483870968,0.7741935483870968,0.775,0.7777777777777778,0.7777777777777778,0.7777777777777778,0.7777777777777778,0.7777777777777778,0.7804878048780488,0.78125,0.78125,0.78125,0.78125,0.782608695652174,0.782608695652174,0.782608695652174,0.782608695652174,0.782608695652174,0.7837837837837838,0.7857142857142857,0.7857142857142857,0.7857142857142857,0.7857142857142857,0.7857142857142857,0.7878787878787878,0.7878787878787878,0.7884615384615384,0.7894736842105263,0.7894736842105263,0.7894736842105263,0.7894736842105263,0.7894736842105263,0.7916666666666666,0.7916666666666666,0.7916666666666666,0.7931034482758621,0.7931034482758621,0.7931034482758621,0.7948717948717948,0.8,0.8,0.8,0.8,0.8,0.8,0.8055555555555556,0.8064516129032258,0.8064516129032258,0.8076923076923077,0.8076923076923077,0.8076923076923077,0.8076923076923077,0.8095238095238095,0.8095238095238095,0.8108108108108109,0.8125,0.8125,0.8125,0.8125,0.8125,0.8148148148148148,0.8148148148148148,0.8148148148148148,0.8181818181818182,0.8181818181818182,0.8181818181818182,0.8181818181818182,0.8181818181818182,0.8214285714285714,0.8214285714285714,0.8214285714285714,0.8235294117647058,0.8235294117647058,0.8235294117647058,0.8235294117647058,0.825,0.8260869565217391,0.8260869565217391,0.8260869565217391,0.8260869565217391,0.8275862068965517,0.8275862068965517,0.8275862068965517,0.8292682926829268,0.8333333333333334,0.8333333333333334,0.8333333333333334,0.8333333333333334,0.8333333333333334,0.8333333333333334,0.8360655737704918,0.8372093023255814,0.8378378378378378,0.8387096774193549,0.8387096774193549,0.8387096774193549,0.8392857142857143,0.84,0.84,0.84,0.84,0.8421052631578947,0.8421052631578947,0.8421052631578947,0.84375,0.8444444444444444,0.8461538461538461,0.8461538461538461,0.8461538461538461,0.8461538461538461,0.8484848484848485,0.8484848484848485,0.8484848484848485,0.85,0.85,0.85,0.8518518518518519,0.8518518518518519,0.8518518518518519,0.8536585365853658,0.8571428571428571,0.8571428571428571,0.8571428571428571,0.8571428571428571,0.8571428571428571,0.8571428571428571,0.8611111111111112,0.8620689655172413,0.8620689655172413,0.8620689655172413,0.8636363636363636,0.8636363636363636,0.8636363636363636,0.8636363636363636,0.8648648648648649,0.8666666666666667,0.8666666666666667,0.8666666666666667,0.8666666666666667,0.868421052631579,0.8695652173913043,0.8695652173913043,0.8695652173913043,0.8695652173913043,0.8695652173913043,0.8709677419354839,0.8714285714285714,0.8717948717948718,0.8717948717948718,0.8723404255319149,0.875,0.875,0.875,0.875,0.875,0.875,0.8787878787878788,0.8787878787878788,0.88,0.88,0.88,0.88,0.8823529411764706,0.8823529411764706,0.8823529411764706,0.8823529411764706,0.8823529411764706,0.8846153846153846,0.8846153846153846,0.8846153846153846,0.8846153846153846,0.8857142857142857,0.8888888888888888,0.8888888888888888,0.8888888888888888,0.8888888888888888,0.8888888888888888,0.8928571428571429,0.8928571428571429,0.8928571428571429,0.8936170212765957,0.8947368421052632,0.8947368421052632,0.8947368421052632,0.896551724137931,0.896551724137931,0.8974358974358975,0.9,0.9,0.9,0.9,0.9,0.902439024390244,0.9032258064516128,0.903846153846154,0.9047619047619048,0.9047619047619048,0.9047619047619048,0.9047619047619048,0.90625,0.90625,0.90625,0.90625,0.9090909090909092,0.9090909090909092,0.9090909090909092,0.9090909090909092,0.9090909090909092,0.9117647058823528,0.9117647058823528,0.9117647058823528,0.9130434782608696,0.9130434782608696,0.9130434782608696,0.9130434782608696,0.9130434782608696,0.913793103448276,0.9142857142857144,0.9166666666666666,0.9166666666666666,0.9166666666666666,0.9166666666666666,0.9166666666666666,0.92,0.92,0.92,0.92,0.92,0.9210526315789472,0.9210526315789472,0.9230769230769232,0.9230769230769232,0.9230769230769232,0.9230769230769232,0.925925925925926,0.925925925925926,0.925925925925926,0.9285714285714286,0.9285714285714286,0.9285714285714286,0.9285714285714286,0.9285714285714286,0.9302325581395348,0.9310344827586208,0.9310344827586208,0.9333333333333332,0.9333333333333332,0.9333333333333332,0.9333333333333332,0.935483870967742,0.935483870967742,0.9375,0.9375,0.9375,0.9375,0.9393939393939394,0.9393939393939394,0.9393939393939394,0.9393939393939394,0.9411764705882352,0.9411764705882352,0.9411764705882352,0.9411764705882352,0.9428571428571428,0.9444444444444444,0.9444444444444444,0.9444444444444444,0.9454545454545454,0.945945945945946,0.9473684210526316,0.9473684210526316,0.9473684210526316,0.9473684210526316,0.95,0.95,0.95,0.95,0.951219512195122,0.9523809523809524,0.9523809523809524,0.9523809523809524,0.9523809523809524,0.9523809523809524,0.9534883720930232,0.9545454545454546,0.9545454545454546,0.9545454545454546,0.9545454545454546,0.9565217391304348,0.9565217391304348,0.9565217391304348,0.9583333333333334,0.9583333333333334,0.9583333333333334,0.9583333333333334,0.96,0.96,0.96,0.9615384615384616,0.9615384615384616,0.9615384615384616,0.9629629629629628,0.9629629629629628,0.9629629629629628,0.9629629629629628,0.9642857142857144,0.9642857142857144,0.9655172413793104,0.9655172413793104,0.9655172413793104,0.9655172413793104,0.9666666666666668,0.9666666666666668,0.9666666666666668,0.9666666666666668,0.967741935483871,0.967741935483871,0.96875,0.96875,0.9696969696969696,0.9705882352941176,0.9705882352941176,0.9714285714285714,0.9722222222222222,0.9736842105263158,0.9743589743589745,0.9767441860465116,0.9818181818181818,1.0,1.0,1.0,1.0,1.0,1.0],\"xaxis\":\"x\",\"y\":[1.0,1.5,2.0,2.5,3.0,3.5,4.0,2.0,2.0,2.5,2.5,2.0,2.0,2.5,2.0,2.5,2.0,2.0,2.5,2.5,2.0,2.5,2.0,3.0,1.5,2.5,3.0,3.0,2.0,2.5,2.0,2.5,3.0,2.0,2.5,3.0,2.0,3.0,1.5,1.0,1.5,2.0,2.5,3.0,3.5,2.0,2.5,3.0,2.0,2.0,2.5,3.0,1.0,2.0,2.5,3.0,2.0,2.0,2.5,2.5,2.0,2.5,3.0,3.5,2.0,2.5,3.0,2.5,2.0,2.5,2.0,2.5,3.0,3.0,2.5,1.0,2.0,2.5,3.0,3.5,2.5,2.0,2.0,2.5,3.0,2.0,2.5,3.0,1.0,2.0,2.5,3.0,3.5,4.0,3.5,2.0,2.5,2.0,2.5,3.5,2.0,2.5,2.0,2.5,3.0,2.5,2.0,2.5,3.0,3.5,2.0,2.5,2.0,2.5,3.5,2.0,2.0,1.5,2.0,2.5,3.0,3.5,2.0,2.5,3.0,2.0,2.5,3.0,2.0,2.0,2.5,3.0,2.0,2.5,2.0,2.5,3.0,3.5,2.5,3.0,2.0,2.5,3.5,2.0,2.0,2.5,3.0,2.0,2.5,3.0,2.5,3.0,2.0,3.0,2.0,2.0,2.5,3.0,3.5,4.0,2.5,2.0,2.5,2.5,3.0,2.0,2.5,3.5,3.0,2.0,2.5,3.0,2.5,2.0,2.5,3.0,3.5,2.0,2.5,2.0,2.5,2.0,2.5,2.0,2.0,2.5,3.0,3.5,4.0,2.5,3.0,2.5,3.0,2.5,3.0,3.5,3.0,1.5,2.0,2.5,3.0,3.5,4.0,3.0,2.0,2.5,3.0,2.0,2.0,2.5,3.0,3.5,2.0,3.0,2.0,2.5,3.0,3.5,2.5,3.0,3.5,2.0,2.5,3.5,2.0,2.5,3.0,2.0,2.5,2.5,2.5,1.5,2.0,2.5,3.0,3.5,4.0,5.0,2.5,2.0,2.5,2.0,2.5,2.5,3.0,2.0,2.5,3.0,2.0,2.0,2.5,3.0,3.5,2.0,2.5,3.5,2.5,2.0,2.5,3.0,3.5,2.0,2.5,3.0,3.5,4.5,2.0,2.5,2.0,3.0,3.5,2.0,4.0,2.0,2.5,3.0,3.5,4.0,2.0,2.5,3.0,4.0,2.0,2.5,3.0,3.5,4.0,3.0,2.0,2.5,3.0,3.5,2.0,2.5,3.0,2.5,2.0,2.5,2.0,2.5,3.0,3.5,4.0,2.0,2.5,3.0,3.5,3.0,2.0,3.0,3.5,2.5,3.0,4.0,2.0,2.5,3.0,3.5,4.0,4.5,2.0,2.5,3.0,2.0,2.5,3.0,4.0,2.0,2.5,3.0,3.5,4.0,2.0,3.5,2.5,3.0,2.0,2.5,3.0,3.5,4.0,4.5,2.5,3.5,2.5,2.0,2.5,3.0,3.5,4.0,2.0,2.5,3.0,2.0,2.5,3.0,3.5,2.5,2.5,2.0,2.5,3.0,3.5,4.0,3.0,2.5,3.0,3.5,2.5,2.0,2.5,3.0,3.5,4.0,3.0,3.5,2.0,2.5,3.0,3.5,4.0,3.5,2.0,2.5,3.0,3.5,2.0,2.5,3.0,3.5,3.0,3.5,4.0,2.5,3.0,3.5,2.5,3.0,2.0,2.5,3.0,3.0,3.5,2.5,4.0,3.0,3.0,2.0,1.5,2.0,2.5,3.0,3.5,4.0,2.5,2.5,3.0,2.0,3.0,2.5,2.0,2.5,3.0,3.5,2.5,3.0,4.0,3.5,2.0,2.5,3.0,3.5,2.0,2.5,3.5,4.0,3.0,2.5,2.0,2.5,3.0,3.5,3.5,2.0,2.5,3.0,3.5,4.0,2.5,3.0,3.5,2.0,2.5,3.0,3.5,4.0,3.0,3.5,3.0,2.0,2.5,3.0,3.5,4.0,3.0,2.5,3.0,3.5,2.5,3.0,2.0,2.5,3.0,3.5,4.0,3.5,2.5,3.5,4.0,2.0,2.5,3.0,3.5,2.0,2.5,3.0,3.5,4.0,3.5,2.0,3.0,3.5,3.0,3.0,2.0,2.5,3.0,3.5,4.0,3.0,3.5,2.5,3.0,3.5,4.0,3.0,3.5,4.5,3.5,2.5,3.0,2.5,3.0,3.5,2.0,3.5,2.5,3.0,3.5,4.0,3.0,2.0,3.5,2.5,3.0,3.5,3.5,2.0,2.5,3.0,3.5,4.0,2.5,3.0,2.5,3.0,3.5,2.0,2.5,3.0,3.5,2.5,3.0,3.5,4.0,3.0,2.0,3.0,2.5,3.0,3.5,4.0,2.0,2.5,3.0,3.5,4.0,2.5,3.0,2.5,3.0,2.0,2.5,3.0,3.5,4.0,2.5,3.0,3.5,4.5,2.5,3.0,3.5,4.0,2.0,3.0,3.5,4.0,3.5,2.5,2.0,2.5,3.0,3.5,4.0,4.5,2.0,3.0,3.5,2.5,2.0,2.5,3.0,3.5,3.0,3.0,3.5,4.5,2.0,3.0,3.5,4.0,2.0,3.0,3.5,3.0,3.5,4.0,2.5,3.0,3.5,4.0,3.0,2.5,3.5,3.0,3.5,2.0,2.5,3.0,3.5,4.0,4.5,4.0,3.0,3.5,3.0,2.5,3.0,3.5,2.5,3.0,3.5,2.5,3.0,3.5,4.0,2.5,2.0,3.0,3.5,4.0,2.0,2.0,3.0,3.5,2.0,2.5,3.0,3.5,4.0,4.5,3.5,4.0,2.0,2.5,3.0,3.5,4.0,4.5,2.5,2.0,2.5,3.0,3.5,4.0,3.0,3.5,2.0,2.5,3.0,3.5,4.0,3.5,2.5,3.0,3.5,4.0,3.0,4.0,2.5,3.0,3.5,4.0,3.0,2.0,3.0,3.5,4.0,3.0,3.5,3.0,4.0,2.0,2.5,3.0,3.5,4.0,3.0,2.5,3.0,3.5,4.0,2.5,3.0,3.5,4.0,3.0,3.5,2.0,2.5,3.0,3.5,4.0,3.5,3.0,4.0,2.5,3.0,3.5,4.0,2.0,3.0,3.5,4.0,3.5,2.5,3.0,3.5,3.0,3.5,4.0,2.5,3.0,3.5,3.0,3.5,2.5,2.0,2.5,3.0,3.5,4.0,4.5,5.0,3.0,4.0,3.0,4.0,3.0,3.0,3.5,2.0,3.0,3.5,3.0,3.5,2.5,3.0,3.5,4.0,3.5,2.5,3.0,3.5,4.0,3.0,3.0,3.5,4.5,2.5,3.0,3.5,4.0,2.5,3.0,2.5,3.0,3.5,4.0,3.0,3.5,3.0,2.5,3.0,3.5,4.0,4.5,4.5,2.0,3.0,3.5,4.0,2.5,3.0,3.5,4.0,4.5,3.0,2.0,2.5,3.0,3.5,4.0,3.0,3.5,3.5,2.5,3.0,3.5,4.0,4.5,3.0,3.5,4.5,3.0,3.5,4.0,3.5,2.0,2.5,3.0,3.5,4.0,4.5,3.0,3.0,3.5,2.0,3.0,3.5,4.5,3.0,3.5,3.0,2.5,3.0,3.5,4.0,4.5,3.0,3.5,4.0,2.5,3.0,3.5,4.0,4.5,3.0,3.5,4.5,2.5,3.0,3.5,4.0,3.5,2.5,3.0,3.5,4.0,3.0,3.5,4.0,4.0,2.5,3.0,3.5,4.0,4.5,5.0,3.0,3.0,4.0,3.0,3.5,4.5,3.5,3.0,3.5,4.0,4.5,3.5,4.0,4.5,3.0,3.5,2.5,3.0,3.5,4.0,2.5,3.0,4.0,3.0,3.5,4.0,3.0,3.5,4.5,3.5,2.5,3.0,3.5,4.0,4.5,5.0,3.0,3.0,3.5,4.0,3.0,3.5,4.0,4.5,4.0,2.0,3.0,3.5,4.0,3.5,2.5,3.0,3.5,4.0,4.5,4.0,3.5,3.0,4.5,3.5,2.0,2.5,3.0,3.5,4.0,4.5,3.5,4.0,3.0,3.5,4.0,4.5,2.5,3.0,3.5,4.0,4.5,2.5,3.5,4.0,4.5,3.5,2.5,3.0,3.5,4.0,4.5,3.0,3.5,4.5,3.5,3.5,4.0,4.5,3.5,4.0,4.5,2.5,3.0,3.5,4.0,4.5,4.5,3.5,3.0,3.0,3.5,4.0,4.5,3.0,3.5,4.0,4.5,2.5,3.0,3.5,4.0,4.5,3.5,4.0,5.0,2.5,3.0,3.5,4.0,4.5,4.0,4.0,2.5,3.0,3.5,4.0,4.5,2.5,3.5,4.0,4.5,5.0,4.5,5.0,2.5,3.5,4.0,4.5,3.5,4.0,4.5,2.0,2.5,3.5,4.0,4.5,4.5,3.5,4.0,2.5,3.0,3.5,4.0,3.5,4.0,3.0,3.5,4.0,4.5,3.5,4.0,4.5,5.0,3.5,4.0,4.5,5.0,4.0,3.0,3.5,4.0,4.5,3.5,2.5,3.5,4.5,5.0,3.5,4.0,4.5,5.0,3.0,3.0,3.5,4.0,4.5,5.0,3.5,3.5,4.0,4.5,5.0,3.0,4.0,4.5,3.5,4.0,4.5,5.0,3.0,3.5,4.0,3.5,4.0,5.0,2.5,3.0,3.5,4.0,4.0,4.5,3.0,3.5,4.0,4.5,3.0,4.0,4.5,5.0,4.0,4.5,4.0,4.5,3.5,3.5,4.0,3.5,4.5,4.0,4.0,5.0,5.0,2.5,3.0,3.5,4.0,4.5,5.0],\"yaxis\":\"y\",\"type\":\"scattergl\"}],                        {\"template\":{\"data\":{\"bar\":[{\"error_x\":{\"color\":\"#2a3f5f\"},\"error_y\":{\"color\":\"#2a3f5f\"},\"marker\":{\"line\":{\"color\":\"#E5ECF6\",\"width\":0.5},\"pattern\":{\"fillmode\":\"overlay\",\"size\":10,\"solidity\":0.2}},\"type\":\"bar\"}],\"barpolar\":[{\"marker\":{\"line\":{\"color\":\"#E5ECF6\",\"width\":0.5},\"pattern\":{\"fillmode\":\"overlay\",\"size\":10,\"solidity\":0.2}},\"type\":\"barpolar\"}],\"carpet\":[{\"aaxis\":{\"endlinecolor\":\"#2a3f5f\",\"gridcolor\":\"white\",\"linecolor\":\"white\",\"minorgridcolor\":\"white\",\"startlinecolor\":\"#2a3f5f\"},\"baxis\":{\"endlinecolor\":\"#2a3f5f\",\"gridcolor\":\"white\",\"linecolor\":\"white\",\"minorgridcolor\":\"white\",\"startlinecolor\":\"#2a3f5f\"},\"type\":\"carpet\"}],\"choropleth\":[{\"colorbar\":{\"outlinewidth\":0,\"ticks\":\"\"},\"type\":\"choropleth\"}],\"contour\":[{\"colorbar\":{\"outlinewidth\":0,\"ticks\":\"\"},\"colorscale\":[[0.0,\"#0d0887\"],[0.1111111111111111,\"#46039f\"],[0.2222222222222222,\"#7201a8\"],[0.3333333333333333,\"#9c179e\"],[0.4444444444444444,\"#bd3786\"],[0.5555555555555556,\"#d8576b\"],[0.6666666666666666,\"#ed7953\"],[0.7777777777777778,\"#fb9f3a\"],[0.8888888888888888,\"#fdca26\"],[1.0,\"#f0f921\"]],\"type\":\"contour\"}],\"contourcarpet\":[{\"colorbar\":{\"outlinewidth\":0,\"ticks\":\"\"},\"type\":\"contourcarpet\"}],\"heatmap\":[{\"colorbar\":{\"outlinewidth\":0,\"ticks\":\"\"},\"colorscale\":[[0.0,\"#0d0887\"],[0.1111111111111111,\"#46039f\"],[0.2222222222222222,\"#7201a8\"],[0.3333333333333333,\"#9c179e\"],[0.4444444444444444,\"#bd3786\"],[0.5555555555555556,\"#d8576b\"],[0.6666666666666666,\"#ed7953\"],[0.7777777777777778,\"#fb9f3a\"],[0.8888888888888888,\"#fdca26\"],[1.0,\"#f0f921\"]],\"type\":\"heatmap\"}],\"heatmapgl\":[{\"colorbar\":{\"outlinewidth\":0,\"ticks\":\"\"},\"colorscale\":[[0.0,\"#0d0887\"],[0.1111111111111111,\"#46039f\"],[0.2222222222222222,\"#7201a8\"],[0.3333333333333333,\"#9c179e\"],[0.4444444444444444,\"#bd3786\"],[0.5555555555555556,\"#d8576b\"],[0.6666666666666666,\"#ed7953\"],[0.7777777777777778,\"#fb9f3a\"],[0.8888888888888888,\"#fdca26\"],[1.0,\"#f0f921\"]],\"type\":\"heatmapgl\"}],\"histogram\":[{\"marker\":{\"pattern\":{\"fillmode\":\"overlay\",\"size\":10,\"solidity\":0.2}},\"type\":\"histogram\"}],\"histogram2d\":[{\"colorbar\":{\"outlinewidth\":0,\"ticks\":\"\"},\"colorscale\":[[0.0,\"#0d0887\"],[0.1111111111111111,\"#46039f\"],[0.2222222222222222,\"#7201a8\"],[0.3333333333333333,\"#9c179e\"],[0.4444444444444444,\"#bd3786\"],[0.5555555555555556,\"#d8576b\"],[0.6666666666666666,\"#ed7953\"],[0.7777777777777778,\"#fb9f3a\"],[0.8888888888888888,\"#fdca26\"],[1.0,\"#f0f921\"]],\"type\":\"histogram2d\"}],\"histogram2dcontour\":[{\"colorbar\":{\"outlinewidth\":0,\"ticks\":\"\"},\"colorscale\":[[0.0,\"#0d0887\"],[0.1111111111111111,\"#46039f\"],[0.2222222222222222,\"#7201a8\"],[0.3333333333333333,\"#9c179e\"],[0.4444444444444444,\"#bd3786\"],[0.5555555555555556,\"#d8576b\"],[0.6666666666666666,\"#ed7953\"],[0.7777777777777778,\"#fb9f3a\"],[0.8888888888888888,\"#fdca26\"],[1.0,\"#f0f921\"]],\"type\":\"histogram2dcontour\"}],\"mesh3d\":[{\"colorbar\":{\"outlinewidth\":0,\"ticks\":\"\"},\"type\":\"mesh3d\"}],\"parcoords\":[{\"line\":{\"colorbar\":{\"outlinewidth\":0,\"ticks\":\"\"}},\"type\":\"parcoords\"}],\"pie\":[{\"automargin\":true,\"type\":\"pie\"}],\"scatter\":[{\"marker\":{\"colorbar\":{\"outlinewidth\":0,\"ticks\":\"\"}},\"type\":\"scatter\"}],\"scatter3d\":[{\"line\":{\"colorbar\":{\"outlinewidth\":0,\"ticks\":\"\"}},\"marker\":{\"colorbar\":{\"outlinewidth\":0,\"ticks\":\"\"}},\"type\":\"scatter3d\"}],\"scattercarpet\":[{\"marker\":{\"colorbar\":{\"outlinewidth\":0,\"ticks\":\"\"}},\"type\":\"scattercarpet\"}],\"scattergeo\":[{\"marker\":{\"colorbar\":{\"outlinewidth\":0,\"ticks\":\"\"}},\"type\":\"scattergeo\"}],\"scattergl\":[{\"marker\":{\"colorbar\":{\"outlinewidth\":0,\"ticks\":\"\"}},\"type\":\"scattergl\"}],\"scattermapbox\":[{\"marker\":{\"colorbar\":{\"outlinewidth\":0,\"ticks\":\"\"}},\"type\":\"scattermapbox\"}],\"scatterpolar\":[{\"marker\":{\"colorbar\":{\"outlinewidth\":0,\"ticks\":\"\"}},\"type\":\"scatterpolar\"}],\"scatterpolargl\":[{\"marker\":{\"colorbar\":{\"outlinewidth\":0,\"ticks\":\"\"}},\"type\":\"scatterpolargl\"}],\"scatterternary\":[{\"marker\":{\"colorbar\":{\"outlinewidth\":0,\"ticks\":\"\"}},\"type\":\"scatterternary\"}],\"surface\":[{\"colorbar\":{\"outlinewidth\":0,\"ticks\":\"\"},\"colorscale\":[[0.0,\"#0d0887\"],[0.1111111111111111,\"#46039f\"],[0.2222222222222222,\"#7201a8\"],[0.3333333333333333,\"#9c179e\"],[0.4444444444444444,\"#bd3786\"],[0.5555555555555556,\"#d8576b\"],[0.6666666666666666,\"#ed7953\"],[0.7777777777777778,\"#fb9f3a\"],[0.8888888888888888,\"#fdca26\"],[1.0,\"#f0f921\"]],\"type\":\"surface\"}],\"table\":[{\"cells\":{\"fill\":{\"color\":\"#EBF0F8\"},\"line\":{\"color\":\"white\"}},\"header\":{\"fill\":{\"color\":\"#C8D4E3\"},\"line\":{\"color\":\"white\"}},\"type\":\"table\"}]},\"layout\":{\"annotationdefaults\":{\"arrowcolor\":\"#2a3f5f\",\"arrowhead\":0,\"arrowwidth\":1},\"autotypenumbers\":\"strict\",\"coloraxis\":{\"colorbar\":{\"outlinewidth\":0,\"ticks\":\"\"}},\"colorscale\":{\"diverging\":[[0,\"#8e0152\"],[0.1,\"#c51b7d\"],[0.2,\"#de77ae\"],[0.3,\"#f1b6da\"],[0.4,\"#fde0ef\"],[0.5,\"#f7f7f7\"],[0.6,\"#e6f5d0\"],[0.7,\"#b8e186\"],[0.8,\"#7fbc41\"],[0.9,\"#4d9221\"],[1,\"#276419\"]],\"sequential\":[[0.0,\"#0d0887\"],[0.1111111111111111,\"#46039f\"],[0.2222222222222222,\"#7201a8\"],[0.3333333333333333,\"#9c179e\"],[0.4444444444444444,\"#bd3786\"],[0.5555555555555556,\"#d8576b\"],[0.6666666666666666,\"#ed7953\"],[0.7777777777777778,\"#fb9f3a\"],[0.8888888888888888,\"#fdca26\"],[1.0,\"#f0f921\"]],\"sequentialminus\":[[0.0,\"#0d0887\"],[0.1111111111111111,\"#46039f\"],[0.2222222222222222,\"#7201a8\"],[0.3333333333333333,\"#9c179e\"],[0.4444444444444444,\"#bd3786\"],[0.5555555555555556,\"#d8576b\"],[0.6666666666666666,\"#ed7953\"],[0.7777777777777778,\"#fb9f3a\"],[0.8888888888888888,\"#fdca26\"],[1.0,\"#f0f921\"]]},\"colorway\":[\"#636efa\",\"#EF553B\",\"#00cc96\",\"#ab63fa\",\"#FFA15A\",\"#19d3f3\",\"#FF6692\",\"#B6E880\",\"#FF97FF\",\"#FECB52\"],\"font\":{\"color\":\"#2a3f5f\"},\"geo\":{\"bgcolor\":\"white\",\"lakecolor\":\"white\",\"landcolor\":\"#E5ECF6\",\"showlakes\":true,\"showland\":true,\"subunitcolor\":\"white\"},\"hoverlabel\":{\"align\":\"left\"},\"hovermode\":\"closest\",\"mapbox\":{\"style\":\"light\"},\"paper_bgcolor\":\"white\",\"plot_bgcolor\":\"#E5ECF6\",\"polar\":{\"angularaxis\":{\"gridcolor\":\"white\",\"linecolor\":\"white\",\"ticks\":\"\"},\"bgcolor\":\"#E5ECF6\",\"radialaxis\":{\"gridcolor\":\"white\",\"linecolor\":\"white\",\"ticks\":\"\"}},\"scene\":{\"xaxis\":{\"backgroundcolor\":\"#E5ECF6\",\"gridcolor\":\"white\",\"gridwidth\":2,\"linecolor\":\"white\",\"showbackground\":true,\"ticks\":\"\",\"zerolinecolor\":\"white\"},\"yaxis\":{\"backgroundcolor\":\"#E5ECF6\",\"gridcolor\":\"white\",\"gridwidth\":2,\"linecolor\":\"white\",\"showbackground\":true,\"ticks\":\"\",\"zerolinecolor\":\"white\"},\"zaxis\":{\"backgroundcolor\":\"#E5ECF6\",\"gridcolor\":\"white\",\"gridwidth\":2,\"linecolor\":\"white\",\"showbackground\":true,\"ticks\":\"\",\"zerolinecolor\":\"white\"}},\"shapedefaults\":{\"line\":{\"color\":\"#2a3f5f\"}},\"ternary\":{\"aaxis\":{\"gridcolor\":\"white\",\"linecolor\":\"white\",\"ticks\":\"\"},\"baxis\":{\"gridcolor\":\"white\",\"linecolor\":\"white\",\"ticks\":\"\"},\"bgcolor\":\"#E5ECF6\",\"caxis\":{\"gridcolor\":\"white\",\"linecolor\":\"white\",\"ticks\":\"\"}},\"title\":{\"x\":0.05},\"xaxis\":{\"automargin\":true,\"gridcolor\":\"white\",\"linecolor\":\"white\",\"ticks\":\"\",\"title\":{\"standoff\":15},\"zerolinecolor\":\"white\",\"zerolinewidth\":2},\"yaxis\":{\"automargin\":true,\"gridcolor\":\"white\",\"linecolor\":\"white\",\"ticks\":\"\",\"title\":{\"standoff\":15},\"zerolinecolor\":\"white\",\"zerolinewidth\":2}}},\"xaxis\":{\"anchor\":\"y\",\"domain\":[0.0,1.0],\"title\":{\"text\":\"Ratio of Grammatically Correct Sentences\"}},\"yaxis\":{\"anchor\":\"x\",\"domain\":[0.0,1.0],\"title\":{\"text\":\"Grammar Score\"}},\"legend\":{\"tracegroupgap\":0,\"itemsizing\":\"constant\"},\"title\":{\"text\":\"Ratio of Grammatically Correct Sentences vs Grammar Score for Training Data\"}},                        {\"responsive\": true}                    ).then(function(){\n",
              "                            \n",
              "var gd = document.getElementById('5142c474-56f4-4519-8b6d-51f34f5a30e1');\n",
              "var x = new MutationObserver(function (mutations, observer) {{\n",
              "        var display = window.getComputedStyle(gd).display;\n",
              "        if (!display || display === 'none') {{\n",
              "            console.log([gd, 'removed!']);\n",
              "            Plotly.purge(gd);\n",
              "            observer.disconnect();\n",
              "        }}\n",
              "}});\n",
              "\n",
              "// Listen for the removal of the full notebook cells\n",
              "var notebookContainer = gd.closest('#notebook-container');\n",
              "if (notebookContainer) {{\n",
              "    x.observe(notebookContainer, {childList: true});\n",
              "}}\n",
              "\n",
              "// Listen for the clearing of the current output cell\n",
              "var outputEl = gd.closest('.output');\n",
              "if (outputEl) {{\n",
              "    x.observe(outputEl, {childList: true});\n",
              "}}\n",
              "\n",
              "                        })                };                            </script>        </div>\n",
              "</body>\n",
              "</html>"
            ]
          },
          "metadata": {}
        }
      ]
    },
    {
      "cell_type": "markdown",
      "source": [
        "# Try Models"
      ],
      "metadata": {
        "id": "84_XGBqpFUdT"
      }
    },
    {
      "cell_type": "code",
      "source": [
        "from sklearn.metrics import mean_squared_error as MSE"
      ],
      "metadata": {
        "id": "GNs0qRGEGD69"
      },
      "execution_count": 37,
      "outputs": []
    },
    {
      "cell_type": "markdown",
      "source": [
        "### Prepare data"
      ],
      "metadata": {
        "id": "az0yj0_ZKJlR"
      }
    },
    {
      "cell_type": "code",
      "source": [
        "data_arr = np.asarray(train[['ratio_grammar_correct_sentences','sentence_number']])"
      ],
      "metadata": {
        "id": "OTe6z2OMJOzJ"
      },
      "execution_count": 59,
      "outputs": []
    },
    {
      "cell_type": "code",
      "source": [
        "data_arr.shape"
      ],
      "metadata": {
        "colab": {
          "base_uri": "https://localhost:8080/"
        },
        "id": "f2chUqpYKFUr",
        "outputId": "00d85367-e9a6-4275-b897-bb77956bb995"
      },
      "execution_count": 60,
      "outputs": [
        {
          "output_type": "execute_result",
          "data": {
            "text/plain": [
              "(3911, 2)"
            ]
          },
          "metadata": {},
          "execution_count": 60
        }
      ]
    },
    {
      "cell_type": "code",
      "source": [
        "target_arr = np.asarray(train['grammar_score'])"
      ],
      "metadata": {
        "id": "HRuy_D5lJytQ"
      },
      "execution_count": 61,
      "outputs": []
    },
    {
      "cell_type": "code",
      "source": [
        "target_arr.shape"
      ],
      "metadata": {
        "colab": {
          "base_uri": "https://localhost:8080/"
        },
        "id": "wXpQfilSJ5T7",
        "outputId": "e18acabc-272c-4d31-d9a7-a771aecf1563"
      },
      "execution_count": 62,
      "outputs": [
        {
          "output_type": "execute_result",
          "data": {
            "text/plain": [
              "(3911,)"
            ]
          },
          "metadata": {},
          "execution_count": 62
        }
      ]
    },
    {
      "cell_type": "code",
      "source": [
        "target_arr = np.reshape(target_arr, (target_arr.shape[0], 1))"
      ],
      "metadata": {
        "id": "QxFi2Q5WKbzz"
      },
      "execution_count": 63,
      "outputs": []
    },
    {
      "cell_type": "code",
      "source": [
        "target_arr.shape"
      ],
      "metadata": {
        "colab": {
          "base_uri": "https://localhost:8080/"
        },
        "id": "PF6cwz-gKvrL",
        "outputId": "be198a10-d284-4fc2-97fa-77396708f0e4"
      },
      "execution_count": 64,
      "outputs": [
        {
          "output_type": "execute_result",
          "data": {
            "text/plain": [
              "(3911, 1)"
            ]
          },
          "metadata": {},
          "execution_count": 64
        }
      ]
    },
    {
      "cell_type": "code",
      "source": [
        "data_ratio = np.asarray(train['ratio_grammar_correct_sentences'])"
      ],
      "metadata": {
        "id": "8Gggr3zRNRS6"
      },
      "execution_count": 86,
      "outputs": []
    },
    {
      "cell_type": "code",
      "source": [
        "data_ratio.shape"
      ],
      "metadata": {
        "colab": {
          "base_uri": "https://localhost:8080/"
        },
        "id": "E9DXnjVbNxdp",
        "outputId": "1f571b00-0342-4924-cfce-c03a4e26f749"
      },
      "execution_count": 89,
      "outputs": [
        {
          "output_type": "execute_result",
          "data": {
            "text/plain": [
              "(3911,)"
            ]
          },
          "metadata": {},
          "execution_count": 89
        }
      ]
    },
    {
      "cell_type": "code",
      "source": [
        "data_ratio = np.reshape(data_ratio, (data_ratio.shape[0], 1))"
      ],
      "metadata": {
        "id": "2dPIBOJcN1L0"
      },
      "execution_count": 90,
      "outputs": []
    },
    {
      "cell_type": "code",
      "source": [
        "data_ratio.shape"
      ],
      "metadata": {
        "colab": {
          "base_uri": "https://localhost:8080/"
        },
        "id": "trzb95C1N4Sy",
        "outputId": "2d5e5192-2069-4f11-eed6-a39c1cb03c71"
      },
      "execution_count": 91,
      "outputs": [
        {
          "output_type": "execute_result",
          "data": {
            "text/plain": [
              "(3911, 1)"
            ]
          },
          "metadata": {},
          "execution_count": 91
        }
      ]
    },
    {
      "cell_type": "markdown",
      "source": [
        "## Linear Model 1"
      ],
      "metadata": {
        "id": "4JcubVicFWNb"
      }
    },
    {
      "cell_type": "code",
      "source": [
        "from sklearn.linear_model import LinearRegression"
      ],
      "metadata": {
        "id": "9paWzBOZMk-p"
      },
      "execution_count": 77,
      "outputs": []
    },
    {
      "cell_type": "code",
      "source": [
        "model_linear1 = LinearRegression(copy_X = True, fit_intercept = True)"
      ],
      "metadata": {
        "id": "No93wCQYFYw6"
      },
      "execution_count": 78,
      "outputs": []
    },
    {
      "cell_type": "code",
      "source": [
        "model_linear1.fit(data_arr[:3200],target_arr[:3200])"
      ],
      "metadata": {
        "colab": {
          "base_uri": "https://localhost:8080/"
        },
        "id": "Nxt4EvpPM6Bj",
        "outputId": "b64a7b56-3357-4161-b9c1-349cc440f5ad"
      },
      "execution_count": 79,
      "outputs": [
        {
          "output_type": "execute_result",
          "data": {
            "text/plain": [
              "LinearRegression()"
            ]
          },
          "metadata": {},
          "execution_count": 79
        }
      ]
    },
    {
      "cell_type": "code",
      "source": [
        "target_true = target_arr[3200:]\n",
        "target_predict = model_linear1.predict(data_arr[3200:])\n",
        "MSE(target_true,target_predict)"
      ],
      "metadata": {
        "colab": {
          "base_uri": "https://localhost:8080/"
        },
        "id": "zTFaAv0fM8yo",
        "outputId": "1b9d9a39-5749-4195-b91d-ec04c463d349"
      },
      "execution_count": 80,
      "outputs": [
        {
          "output_type": "execute_result",
          "data": {
            "text/plain": [
              "0.3184300147818662"
            ]
          },
          "metadata": {},
          "execution_count": 80
        }
      ]
    },
    {
      "cell_type": "markdown",
      "source": [
        "## Linear Model 2"
      ],
      "metadata": {
        "id": "DoT815NrFZSx"
      }
    },
    {
      "cell_type": "markdown",
      "source": [
        "What if we only feed in the ratio without giving the number of sentences?"
      ],
      "metadata": {
        "id": "qsCTkOwiNol0"
      }
    },
    {
      "cell_type": "code",
      "source": [
        "model_linear2 = LinearRegression(copy_X = True, fit_intercept = True)"
      ],
      "metadata": {
        "id": "v-zae4dyNQOh"
      },
      "execution_count": 92,
      "outputs": []
    },
    {
      "cell_type": "code",
      "source": [
        "model_linear2.fit(data_ratio[:3200],target_arr[:3200])"
      ],
      "metadata": {
        "colab": {
          "base_uri": "https://localhost:8080/"
        },
        "outputId": "d8e2ed53-0b83-4d55-9935-680095a33bae",
        "id": "f-zAk2URNQOi"
      },
      "execution_count": 93,
      "outputs": [
        {
          "output_type": "execute_result",
          "data": {
            "text/plain": [
              "LinearRegression()"
            ]
          },
          "metadata": {},
          "execution_count": 93
        }
      ]
    },
    {
      "cell_type": "code",
      "source": [
        "target_true = target_arr[3200:]\n",
        "target_predict = model_linear2.predict(data_ratio[3200:])\n",
        "MSE(target_true,target_predict)"
      ],
      "metadata": {
        "colab": {
          "base_uri": "https://localhost:8080/"
        },
        "outputId": "4c532798-75c1-43e4-90e2-5a0b9abae1c8",
        "id": "79Ad05pHNQOi"
      },
      "execution_count": 94,
      "outputs": [
        {
          "output_type": "execute_result",
          "data": {
            "text/plain": [
              "0.3183927316119916"
            ]
          },
          "metadata": {},
          "execution_count": 94
        }
      ]
    },
    {
      "cell_type": "markdown",
      "source": [
        "It seems that the number of sentences doesn't really help with the prediction, we can probably just feed in the ratio."
      ],
      "metadata": {
        "id": "MNey8SwYOFu9"
      }
    },
    {
      "cell_type": "markdown",
      "source": [
        "## XGBoost"
      ],
      "metadata": {
        "id": "nCXy_PCnFcNt"
      }
    },
    {
      "cell_type": "code",
      "source": [
        "import xgboost as xgb"
      ],
      "metadata": {
        "id": "cUeMjLRPF-A1"
      },
      "execution_count": 38,
      "outputs": []
    },
    {
      "cell_type": "markdown",
      "source": [
        "n_estimators=500"
      ],
      "metadata": {
        "id": "lfE18Z7ULqYC"
      }
    },
    {
      "cell_type": "code",
      "source": [
        "model_xgb1 = xgb.XGBRegressor(n_estimators=500,\n",
        "                              max_depth = 2,\n",
        "                              objective='reg:squarederror')"
      ],
      "metadata": {
        "id": "vvuI8sJ7Fgk6"
      },
      "execution_count": 206,
      "outputs": []
    },
    {
      "cell_type": "code",
      "source": [
        "model_xgb1.fit(data_arr[:3200],target_arr[:3200])"
      ],
      "metadata": {
        "colab": {
          "base_uri": "https://localhost:8080/"
        },
        "id": "IC4x-lU_Hksm",
        "outputId": "3ad98e89-a4f8-4e89-9aa3-7415c24f6d60"
      },
      "execution_count": 207,
      "outputs": [
        {
          "output_type": "execute_result",
          "data": {
            "text/plain": [
              "XGBRegressor(max_depth=2, n_estimators=500, objective='reg:squarederror')"
            ]
          },
          "metadata": {},
          "execution_count": 207
        }
      ]
    },
    {
      "cell_type": "code",
      "source": [
        "target_true = target_arr[3200:]\n",
        "target_predict = model_xgb1.predict(data_arr[3200:])\n",
        "MSE(target_true,target_predict)"
      ],
      "metadata": {
        "colab": {
          "base_uri": "https://localhost:8080/"
        },
        "id": "PpXNDtPhLPH_",
        "outputId": "c8dba06c-a98c-4879-c77d-31300438a767"
      },
      "execution_count": 208,
      "outputs": [
        {
          "output_type": "execute_result",
          "data": {
            "text/plain": [
              "0.3204369009007939"
            ]
          },
          "metadata": {},
          "execution_count": 208
        }
      ]
    },
    {
      "cell_type": "markdown",
      "source": [
        "n_estimators=100"
      ],
      "metadata": {
        "id": "6X6UKdVILy4D"
      }
    },
    {
      "cell_type": "code",
      "source": [
        "model_xgb2 = xgb.XGBRegressor(n_estimators=100,\n",
        "                              max_depth = 2,\n",
        "                              objective='reg:squarederror')"
      ],
      "metadata": {
        "id": "XD7k8nKJLy4D"
      },
      "execution_count": 203,
      "outputs": []
    },
    {
      "cell_type": "code",
      "source": [
        "model_xgb2.fit(data_arr[:3200],target_arr[:3200])"
      ],
      "metadata": {
        "colab": {
          "base_uri": "https://localhost:8080/"
        },
        "outputId": "e2cbcc93-d2fc-4c55-9e4c-2f6473b05f61",
        "id": "L5_JPMNlLy4E"
      },
      "execution_count": 204,
      "outputs": [
        {
          "output_type": "execute_result",
          "data": {
            "text/plain": [
              "XGBRegressor(max_depth=2, objective='reg:squarederror')"
            ]
          },
          "metadata": {},
          "execution_count": 204
        }
      ]
    },
    {
      "cell_type": "code",
      "source": [
        "target_true = target_arr[3200:]\n",
        "target_predict = model_xgb2.predict(data_arr[3200:])\n",
        "MSE(target_true,target_predict)"
      ],
      "metadata": {
        "colab": {
          "base_uri": "https://localhost:8080/"
        },
        "outputId": "38c6755f-01be-4bd3-fe0a-93cb1cc0a6da",
        "id": "4NPhLq5NLy4E"
      },
      "execution_count": 205,
      "outputs": [
        {
          "output_type": "execute_result",
          "data": {
            "text/plain": [
              "0.31042525350537004"
            ]
          },
          "metadata": {},
          "execution_count": 205
        }
      ]
    },
    {
      "cell_type": "markdown",
      "source": [
        "n_estimators=200"
      ],
      "metadata": {
        "id": "UvdbLOiPL6jv"
      }
    },
    {
      "cell_type": "code",
      "source": [
        "model_xgb3 = xgb.XGBRegressor(n_estimators=200, \n",
        "                              max_depth = 2,\n",
        "                              objective='reg:squarederror')"
      ],
      "metadata": {
        "id": "mWCfnD8hL6jv"
      },
      "execution_count": 209,
      "outputs": []
    },
    {
      "cell_type": "code",
      "source": [
        "model_xgb3.fit(data_arr[:3200],target_arr[:3200])"
      ],
      "metadata": {
        "colab": {
          "base_uri": "https://localhost:8080/"
        },
        "outputId": "8db7ce19-804c-4e1e-c9f0-a07b0fd997f3",
        "id": "RZ-DWRMML6jv"
      },
      "execution_count": 210,
      "outputs": [
        {
          "output_type": "execute_result",
          "data": {
            "text/plain": [
              "XGBRegressor(max_depth=2, n_estimators=200, objective='reg:squarederror')"
            ]
          },
          "metadata": {},
          "execution_count": 210
        }
      ]
    },
    {
      "cell_type": "code",
      "source": [
        "target_true = target_arr[3200:]\n",
        "target_predict = model_xgb3.predict(data_arr[3200:])\n",
        "MSE(target_true,target_predict)"
      ],
      "metadata": {
        "colab": {
          "base_uri": "https://localhost:8080/"
        },
        "outputId": "6b6fa64a-4c67-4918-e1c2-23b91466918e",
        "id": "kirnutdpL6jw"
      },
      "execution_count": 211,
      "outputs": [
        {
          "output_type": "execute_result",
          "data": {
            "text/plain": [
              "0.3129511128797022"
            ]
          },
          "metadata": {},
          "execution_count": 211
        }
      ]
    },
    {
      "cell_type": "markdown",
      "source": [
        "n_estimators=1000"
      ],
      "metadata": {
        "id": "3jP6ZPJNME57"
      }
    },
    {
      "cell_type": "code",
      "source": [
        "model_xgb4 = xgb.XGBRegressor(n_estimators=1000,\n",
        "                              max_depth = 2,\n",
        "                              objective='reg:squarederror')"
      ],
      "metadata": {
        "id": "Rqau7RqCME57"
      },
      "execution_count": 212,
      "outputs": []
    },
    {
      "cell_type": "code",
      "source": [
        "model_xgb4.fit(data_arr[:3200],target_arr[:3200])"
      ],
      "metadata": {
        "colab": {
          "base_uri": "https://localhost:8080/"
        },
        "outputId": "c5e3267e-a3e3-44dd-c53a-de04e478d0a3",
        "id": "XUTwSc16ME57"
      },
      "execution_count": 213,
      "outputs": [
        {
          "output_type": "execute_result",
          "data": {
            "text/plain": [
              "XGBRegressor(max_depth=2, n_estimators=1000, objective='reg:squarederror')"
            ]
          },
          "metadata": {},
          "execution_count": 213
        }
      ]
    },
    {
      "cell_type": "code",
      "source": [
        "target_true = target_arr[3200:]\n",
        "target_predict = model_xgb4.predict(data_arr[3200:])\n",
        "MSE(target_true,target_predict)"
      ],
      "metadata": {
        "colab": {
          "base_uri": "https://localhost:8080/"
        },
        "outputId": "a8df7e80-3375-460c-c640-94a448496a54",
        "id": "9oiBBmT-ME57"
      },
      "execution_count": 214,
      "outputs": [
        {
          "output_type": "execute_result",
          "data": {
            "text/plain": [
              "0.3284219053521019"
            ]
          },
          "metadata": {},
          "execution_count": 214
        }
      ]
    },
    {
      "cell_type": "markdown",
      "source": [
        "Let's use n_estimators=100 for XGB. Also, by trials, max_depth = 2 works better."
      ],
      "metadata": {
        "id": "p36cjMTfMOC5"
      }
    },
    {
      "cell_type": "markdown",
      "source": [
        "Again, what if we only feed in the ratio?"
      ],
      "metadata": {
        "id": "b9Hyx3dbO5ef"
      }
    },
    {
      "cell_type": "code",
      "source": [
        "model_xgb5 = xgb.XGBRegressor(n_estimators=100,\n",
        "                              max_depth = 1,\n",
        "                              objective='reg:squarederror')"
      ],
      "metadata": {
        "id": "ndHC1sZKQoA_"
      },
      "execution_count": 188,
      "outputs": []
    },
    {
      "cell_type": "code",
      "source": [
        "model_xgb5.fit(data_ratio[:3200],target_arr[:3200])"
      ],
      "metadata": {
        "colab": {
          "base_uri": "https://localhost:8080/"
        },
        "outputId": "99737273-30e1-4c51-cd76-c82b09d5719f",
        "id": "oD6H9dwEQoA_"
      },
      "execution_count": 189,
      "outputs": [
        {
          "output_type": "execute_result",
          "data": {
            "text/plain": [
              "XGBRegressor(max_depth=1, objective='reg:squarederror')"
            ]
          },
          "metadata": {},
          "execution_count": 189
        }
      ]
    },
    {
      "cell_type": "code",
      "source": [
        "target_true = target_arr[3200:]\n",
        "target_predict = model_xgb5.predict(data_ratio[3200:])\n",
        "MSE(target_true,target_predict)"
      ],
      "metadata": {
        "colab": {
          "base_uri": "https://localhost:8080/"
        },
        "outputId": "242c8742-fab9-4023-d082-1847a4dbe83e",
        "id": "3IovHUPcQoBA"
      },
      "execution_count": 190,
      "outputs": [
        {
          "output_type": "execute_result",
          "data": {
            "text/plain": [
              "0.3160454629354808"
            ]
          },
          "metadata": {},
          "execution_count": 190
        }
      ]
    },
    {
      "cell_type": "markdown",
      "source": [
        "Observed that with n_estimators=100 and only feeding in the ratio, setting max_depth = 1 gives the lowest loss, but this is still higher than the one gotten when feeding in both the ratio and the number of sentences. So let's feed in both the ratio and the sentence number for XGB."
      ],
      "metadata": {
        "id": "N42WhoB3RIil"
      }
    },
    {
      "cell_type": "markdown",
      "source": [
        "## Dense Layer"
      ],
      "metadata": {
        "id": "A6lxX5THFhnh"
      }
    },
    {
      "cell_type": "markdown",
      "source": [
        "## 1 layer"
      ],
      "metadata": {
        "id": "DN8G6Z96SiHv"
      }
    },
    {
      "cell_type": "code",
      "source": [
        "from tensorflow.keras.models import Sequential\n",
        "from tensorflow.keras.layers import Dense"
      ],
      "metadata": {
        "id": "iv8DeLdJVN2V"
      },
      "execution_count": 215,
      "outputs": []
    },
    {
      "cell_type": "code",
      "source": [
        "model_dense1 = Sequential()\n",
        "model_dense1.add(Dense(1, input_shape=(2,), activation='softmax'))"
      ],
      "metadata": {
        "id": "UbAe5uFyFRfi"
      },
      "execution_count": 261,
      "outputs": []
    },
    {
      "cell_type": "code",
      "source": [
        "model_dense1.compile(loss='mse', optimizer='adam', metrics=['accuracy'])"
      ],
      "metadata": {
        "id": "FLJ-3t5wSlOu"
      },
      "execution_count": 262,
      "outputs": []
    },
    {
      "cell_type": "code",
      "source": [
        "model_dense1.fit(data_arr, target_arr, epochs=5, batch_size=1)"
      ],
      "metadata": {
        "colab": {
          "base_uri": "https://localhost:8080/"
        },
        "id": "t6PIs-HjVrYg",
        "outputId": "d8303e03-c0c7-43fd-aa13-db0d716171dd"
      },
      "execution_count": 263,
      "outputs": [
        {
          "output_type": "stream",
          "name": "stdout",
          "text": [
            "Epoch 1/5\n",
            "3911/3911 [==============================] - 8s 2ms/step - loss: 4.6222 - accuracy: 0.0020\n",
            "Epoch 2/5\n",
            "3911/3911 [==============================] - 7s 2ms/step - loss: 4.6222 - accuracy: 0.0020\n",
            "Epoch 3/5\n",
            "3911/3911 [==============================] - 7s 2ms/step - loss: 4.6222 - accuracy: 0.0020\n",
            "Epoch 4/5\n",
            "3911/3911 [==============================] - 7s 2ms/step - loss: 4.6222 - accuracy: 0.0020\n",
            "Epoch 5/5\n",
            "3911/3911 [==============================] - 7s 2ms/step - loss: 4.6222 - accuracy: 0.0020\n"
          ]
        },
        {
          "output_type": "execute_result",
          "data": {
            "text/plain": [
              "<keras.callbacks.History at 0x7f8b1baf8e50>"
            ]
          },
          "metadata": {},
          "execution_count": 263
        }
      ]
    },
    {
      "cell_type": "code",
      "source": [
        "re = model_dense1.evaluate(data_arr, target_arr)"
      ],
      "metadata": {
        "colab": {
          "base_uri": "https://localhost:8080/"
        },
        "id": "za7velijV3pm",
        "outputId": "2791fbe3-8277-4eea-8b9b-3cf7fbe5802d"
      },
      "execution_count": 264,
      "outputs": [
        {
          "output_type": "stream",
          "name": "stdout",
          "text": [
            "123/123 [==============================] - 0s 2ms/step - loss: 4.6222 - accuracy: 0.0020\n"
          ]
        }
      ]
    },
    {
      "cell_type": "code",
      "source": [
        "print('loss: ', re[0])\n",
        "print('accuracy: ', re[1])"
      ],
      "metadata": {
        "colab": {
          "base_uri": "https://localhost:8080/"
        },
        "id": "Bsqbpzc_WJwe",
        "outputId": "a8083e68-7d1d-4f0d-b242-3a2bb5c1de70"
      },
      "execution_count": 265,
      "outputs": [
        {
          "output_type": "stream",
          "name": "stdout",
          "text": [
            "loss:  4.622155666351318\n",
            "accuracy:  0.0020455126650631428\n"
          ]
        }
      ]
    },
    {
      "cell_type": "markdown",
      "source": [
        "## 2+ layers with various layer sizes"
      ],
      "metadata": {
        "id": "eJPi2fKiSluf"
      }
    },
    {
      "cell_type": "markdown",
      "source": [
        "2 layers"
      ],
      "metadata": {
        "id": "kkFiYi4jXC87"
      }
    },
    {
      "cell_type": "code",
      "source": [
        "model_dense2 = Sequential()\n",
        "model_dense2.add(Dense(24, input_shape=(2,), activation='tanh'))\n",
        "model_dense2.add(Dense(1, activation='sigmoid'))"
      ],
      "metadata": {
        "id": "BCJtX6JNXDYL"
      },
      "execution_count": 251,
      "outputs": []
    },
    {
      "cell_type": "code",
      "source": [
        "model_dense2.compile(loss='mse', optimizer='adam', metrics=['accuracy'])"
      ],
      "metadata": {
        "id": "k8oPbPH7XDYM"
      },
      "execution_count": 252,
      "outputs": []
    },
    {
      "cell_type": "code",
      "source": [
        "model_dense2.fit(data_arr, target_arr, epochs=3, batch_size=10)"
      ],
      "metadata": {
        "colab": {
          "base_uri": "https://localhost:8080/"
        },
        "outputId": "7374050f-5bbb-40be-83fa-68988489728a",
        "id": "wGr7HFcTXDYM"
      },
      "execution_count": 253,
      "outputs": [
        {
          "output_type": "stream",
          "name": "stdout",
          "text": [
            "Epoch 1/3\n",
            "392/392 [==============================] - 2s 3ms/step - loss: 4.7331 - accuracy: 0.0020\n",
            "Epoch 2/3\n",
            "392/392 [==============================] - 1s 2ms/step - loss: 4.6285 - accuracy: 0.0020\n",
            "Epoch 3/3\n",
            "392/392 [==============================] - 1s 2ms/step - loss: 4.6252 - accuracy: 0.0020\n"
          ]
        },
        {
          "output_type": "execute_result",
          "data": {
            "text/plain": [
              "<keras.callbacks.History at 0x7f8b1bc3fdd0>"
            ]
          },
          "metadata": {},
          "execution_count": 253
        }
      ]
    },
    {
      "cell_type": "code",
      "source": [
        "re = model_dense2.evaluate(data_arr, target_arr)"
      ],
      "metadata": {
        "colab": {
          "base_uri": "https://localhost:8080/"
        },
        "outputId": "ae1c740f-ad83-4c0a-87b0-605a1623ae0f",
        "id": "PyWLWwmnXDYM"
      },
      "execution_count": 254,
      "outputs": [
        {
          "output_type": "stream",
          "name": "stdout",
          "text": [
            "123/123 [==============================] - 0s 2ms/step - loss: 4.6246 - accuracy: 0.0020\n"
          ]
        }
      ]
    },
    {
      "cell_type": "code",
      "source": [
        "print('loss: ', re[0])\n",
        "print('accuracy: ', re[1])"
      ],
      "metadata": {
        "colab": {
          "base_uri": "https://localhost:8080/"
        },
        "outputId": "1126a356-44bb-4f87-bd97-a6145a06681c",
        "id": "Vx2xsubIXDYM"
      },
      "execution_count": 255,
      "outputs": [
        {
          "output_type": "stream",
          "name": "stdout",
          "text": [
            "loss:  4.624608993530273\n",
            "accuracy:  0.0020455126650631428\n"
          ]
        }
      ]
    },
    {
      "cell_type": "markdown",
      "source": [
        "After trying different numbers of layers and different activation function (ReLU, tanh, sigmoid, softmax), there's no significant change in the loss or accuracy. So a single layer will be enough."
      ],
      "metadata": {
        "id": "IOlUGwRFYrhg"
      }
    },
    {
      "cell_type": "markdown",
      "source": [
        "# Use kfold validation"
      ],
      "metadata": {
        "id": "lnUOOsBJw_-3"
      }
    },
    {
      "cell_type": "code",
      "source": [
        "from sklearn.model_selection import KFold\n",
        "# from sklearn.preprocessing import StandardScaler\n",
        "\n",
        "kfold = KFold(n_splits = 10,\n",
        "              shuffle = True,\n",
        "              random_state = 404)"
      ],
      "metadata": {
        "id": "K_N7hslzxAf6"
      },
      "execution_count": 267,
      "outputs": []
    },
    {
      "cell_type": "markdown",
      "source": [
        "# Linear Regression"
      ],
      "metadata": {
        "id": "jsmLeer9xPTu"
      }
    },
    {
      "cell_type": "code",
      "source": [
        "from sklearn.linear_model import LinearRegression"
      ],
      "metadata": {
        "id": "Tmle4WQnxE5j"
      },
      "execution_count": 268,
      "outputs": []
    },
    {
      "cell_type": "code",
      "source": [
        "cv_rmses_linear = np.zeros((10,))\n",
        "cv_rmses_xgb = np.zeros((10,))\n",
        "cv_rmses_dense = np.zeros((10,))\n",
        "\n",
        "# Use mean of rating as baseline to compare\n",
        "cv_rmses_baseline = np.zeros((10,))\n",
        "\n",
        "i = 0\n",
        "for train_ind, val_ind in kfold.split(data_arr, target_arr):\n",
        "    x_t = data_arr[train_ind]\n",
        "    x_ratio_t = data_ratio[train_ind]\n",
        "    y_t = target_arr[train_ind]\n",
        "    \n",
        "    x_val = data_arr[val_ind]\n",
        "    x_ratio_val = data_ratio[val_ind]\n",
        "    y_val = target_arr[val_ind]\n",
        "    \n",
        "    # linear model (only feed in ratio)\n",
        "    model_linear = LinearRegression(copy_X = True, fit_intercept = True)\n",
        "    model_linear.fit(x_ratio_t, y_t)\n",
        "    # model_linear.fit(x_t.reshape(-1,1), y_t)\n",
        "    predicted = model_linear.predict(x_ratio_val)\n",
        "    cv_rmses_linear[i] = MSE(y_val, predicted, squared=False)\n",
        "\n",
        "    # xgb model\n",
        "    model_xgb = xgb.XGBRegressor(n_estimators=100,\n",
        "                                max_depth = 2,\n",
        "                                objective='reg:squarederror')\n",
        "    model_xgb.fit(x_t, y_t)\n",
        "    predicted = model_xgb.predict(x_val)\n",
        "    cv_rmses_xgb[i] = MSE(y_val, predicted, squared=False)\n",
        "    \n",
        "    # keras dense layer\n",
        "    model_dense = Sequential()\n",
        "    model_dense.add(Dense(1, input_shape=(2,), activation='softmax'))\n",
        "    model_dense.compile(loss='mse', optimizer='adam', metrics=['accuracy'])\n",
        "    model_dense.fit(data_arr, target_arr, epochs=5, batch_size=1)\n",
        "    cv_rmses_dense[i] = np.sqrt(model_dense.evaluate(data_arr, target_arr)[0])\n",
        "    \n",
        "    # baseline model\n",
        "    bsl = y_t.mean()*np.ones(len(y_val))\n",
        "    cv_rmses_baseline[i] = MSE(y_val, bsl, squared=False)\n",
        "    \n",
        "    i += 1\n",
        "    "
      ],
      "metadata": {
        "id": "_iXswOYsxVqh",
        "colab": {
          "base_uri": "https://localhost:8080/"
        },
        "outputId": "92520c3f-5796-407c-8be6-8764adadddfe"
      },
      "execution_count": 269,
      "outputs": [
        {
          "output_type": "stream",
          "name": "stdout",
          "text": [
            "Epoch 1/5\n",
            "3911/3911 [==============================] - 9s 2ms/step - loss: 4.6222 - accuracy: 0.0020\n",
            "Epoch 2/5\n",
            "3911/3911 [==============================] - 7s 2ms/step - loss: 4.6222 - accuracy: 0.0020\n",
            "Epoch 3/5\n",
            "3911/3911 [==============================] - 7s 2ms/step - loss: 4.6222 - accuracy: 0.0020\n",
            "Epoch 4/5\n",
            "3911/3911 [==============================] - 9s 2ms/step - loss: 4.6222 - accuracy: 0.0020\n",
            "Epoch 5/5\n",
            "3911/3911 [==============================] - 8s 2ms/step - loss: 4.6222 - accuracy: 0.0020\n",
            "123/123 [==============================] - 0s 2ms/step - loss: 4.6222 - accuracy: 0.0020\n",
            "Epoch 1/5\n",
            "3911/3911 [==============================] - 13s 3ms/step - loss: 4.6222 - accuracy: 0.0020\n",
            "Epoch 2/5\n",
            "3911/3911 [==============================] - 16s 4ms/step - loss: 4.6222 - accuracy: 0.0020\n",
            "Epoch 3/5\n",
            "3911/3911 [==============================] - 13s 3ms/step - loss: 4.6222 - accuracy: 0.0020\n",
            "Epoch 4/5\n",
            "3911/3911 [==============================] - 15s 4ms/step - loss: 4.6222 - accuracy: 0.0020\n",
            "Epoch 5/5\n",
            "3911/3911 [==============================] - 7s 2ms/step - loss: 4.6222 - accuracy: 0.0020\n",
            "123/123 [==============================] - 0s 2ms/step - loss: 4.6222 - accuracy: 0.0020\n",
            "Epoch 1/5\n",
            "3911/3911 [==============================] - 12s 3ms/step - loss: 4.6222 - accuracy: 0.0020\n",
            "Epoch 2/5\n",
            "3911/3911 [==============================] - 8s 2ms/step - loss: 4.6222 - accuracy: 0.0020\n",
            "Epoch 3/5\n",
            "3911/3911 [==============================] - 11s 3ms/step - loss: 4.6222 - accuracy: 0.0020\n",
            "Epoch 4/5\n",
            "3911/3911 [==============================] - 15s 4ms/step - loss: 4.6222 - accuracy: 0.0020\n",
            "Epoch 5/5\n",
            "3911/3911 [==============================] - 11s 3ms/step - loss: 4.6222 - accuracy: 0.0020\n",
            "123/123 [==============================] - 1s 5ms/step - loss: 4.6222 - accuracy: 0.0020\n",
            "Epoch 1/5\n",
            "3911/3911 [==============================] - 13s 3ms/step - loss: 4.6222 - accuracy: 0.0020\n",
            "Epoch 2/5\n",
            "3911/3911 [==============================] - 16s 4ms/step - loss: 4.6222 - accuracy: 0.0020\n",
            "Epoch 3/5\n",
            "3911/3911 [==============================] - 16s 4ms/step - loss: 4.6222 - accuracy: 0.0020\n",
            "Epoch 4/5\n",
            "3911/3911 [==============================] - 15s 4ms/step - loss: 4.6222 - accuracy: 0.0020\n",
            "Epoch 5/5\n",
            "3911/3911 [==============================] - 11s 3ms/step - loss: 4.6222 - accuracy: 0.0020\n",
            "123/123 [==============================] - 0s 2ms/step - loss: 4.6222 - accuracy: 0.0020\n",
            "Epoch 1/5\n",
            "3911/3911 [==============================] - 8s 2ms/step - loss: 4.6222 - accuracy: 0.0020\n",
            "Epoch 2/5\n",
            "3911/3911 [==============================] - 9s 2ms/step - loss: 4.6222 - accuracy: 0.0020\n",
            "Epoch 3/5\n",
            "3911/3911 [==============================] - 8s 2ms/step - loss: 4.6222 - accuracy: 0.0020\n",
            "Epoch 4/5\n",
            "3911/3911 [==============================] - 7s 2ms/step - loss: 4.6222 - accuracy: 0.0020\n",
            "Epoch 5/5\n",
            "3911/3911 [==============================] - 7s 2ms/step - loss: 4.6222 - accuracy: 0.0020\n",
            "123/123 [==============================] - 0s 2ms/step - loss: 4.6222 - accuracy: 0.0020\n",
            "Epoch 1/5\n",
            "3911/3911 [==============================] - 8s 2ms/step - loss: 4.6222 - accuracy: 0.0020\n",
            "Epoch 2/5\n",
            "3911/3911 [==============================] - 11s 3ms/step - loss: 4.6222 - accuracy: 0.0020\n",
            "Epoch 3/5\n",
            "3911/3911 [==============================] - 8s 2ms/step - loss: 4.6222 - accuracy: 0.0020\n",
            "Epoch 4/5\n",
            "3911/3911 [==============================] - 9s 2ms/step - loss: 4.6222 - accuracy: 0.0020\n",
            "Epoch 5/5\n",
            "3911/3911 [==============================] - 12s 3ms/step - loss: 4.6222 - accuracy: 0.0020\n",
            "123/123 [==============================] - 0s 2ms/step - loss: 4.6222 - accuracy: 0.0020\n",
            "Epoch 1/5\n",
            "3911/3911 [==============================] - 11s 3ms/step - loss: 4.6222 - accuracy: 0.0020\n",
            "Epoch 2/5\n",
            "3911/3911 [==============================] - 10s 3ms/step - loss: 4.6222 - accuracy: 0.0020\n",
            "Epoch 3/5\n",
            "3911/3911 [==============================] - 7s 2ms/step - loss: 4.6222 - accuracy: 0.0020\n",
            "Epoch 4/5\n",
            "3911/3911 [==============================] - 8s 2ms/step - loss: 4.6222 - accuracy: 0.0020\n",
            "Epoch 5/5\n",
            "3911/3911 [==============================] - 8s 2ms/step - loss: 4.6222 - accuracy: 0.0020\n",
            "123/123 [==============================] - 0s 2ms/step - loss: 4.6222 - accuracy: 0.0020\n",
            "Epoch 1/5\n",
            "3911/3911 [==============================] - 8s 2ms/step - loss: 4.6222 - accuracy: 0.0020\n",
            "Epoch 2/5\n",
            "3911/3911 [==============================] - 8s 2ms/step - loss: 4.6222 - accuracy: 0.0020\n",
            "Epoch 3/5\n",
            "3911/3911 [==============================] - 8s 2ms/step - loss: 4.6222 - accuracy: 0.0020\n",
            "Epoch 4/5\n",
            "3911/3911 [==============================] - 9s 2ms/step - loss: 4.6222 - accuracy: 0.0020\n",
            "Epoch 5/5\n",
            "3911/3911 [==============================] - 8s 2ms/step - loss: 4.6222 - accuracy: 0.0020\n",
            "123/123 [==============================] - 0s 2ms/step - loss: 4.6222 - accuracy: 0.0020\n",
            "Epoch 1/5\n",
            "3911/3911 [==============================] - 8s 2ms/step - loss: 4.6222 - accuracy: 0.0020\n",
            "Epoch 2/5\n",
            "3911/3911 [==============================] - 8s 2ms/step - loss: 4.6222 - accuracy: 0.0020\n",
            "Epoch 3/5\n",
            "3911/3911 [==============================] - 8s 2ms/step - loss: 4.6222 - accuracy: 0.0020\n",
            "Epoch 4/5\n",
            "3911/3911 [==============================] - 8s 2ms/step - loss: 4.6222 - accuracy: 0.0020\n",
            "Epoch 5/5\n",
            "3911/3911 [==============================] - 8s 2ms/step - loss: 4.6222 - accuracy: 0.0020\n",
            "123/123 [==============================] - 0s 2ms/step - loss: 4.6222 - accuracy: 0.0020\n",
            "Epoch 1/5\n",
            "3911/3911 [==============================] - 10s 2ms/step - loss: 4.6222 - accuracy: 0.0020\n",
            "Epoch 2/5\n",
            "3911/3911 [==============================] - 8s 2ms/step - loss: 4.6222 - accuracy: 0.0020\n",
            "Epoch 3/5\n",
            "3911/3911 [==============================] - 8s 2ms/step - loss: 4.6222 - accuracy: 0.0020\n",
            "Epoch 4/5\n",
            "3911/3911 [==============================] - 8s 2ms/step - loss: 4.6222 - accuracy: 0.0020\n",
            "Epoch 5/5\n",
            "3911/3911 [==============================] - 7s 2ms/step - loss: 4.6222 - accuracy: 0.0020\n",
            "123/123 [==============================] - 0s 2ms/step - loss: 4.6222 - accuracy: 0.0020\n"
          ]
        }
      ]
    },
    {
      "cell_type": "code",
      "source": [
        "print('Cross Validation kfold = 10')\n",
        "print()\n",
        "print('Linear Model RMSEs are ', cv_rmses_linear)"
      ],
      "metadata": {
        "id": "VzXAJEIXxVha",
        "colab": {
          "base_uri": "https://localhost:8080/"
        },
        "outputId": "a5de77a3-df25-44ea-f644-14769df5cec2"
      },
      "execution_count": 270,
      "outputs": [
        {
          "output_type": "stream",
          "name": "stdout",
          "text": [
            "Cross Validation kfold = 10\n",
            "\n",
            "Linear Model RMSEs are  [0.55010557 0.52581692 0.60053674 0.53642462 0.51248358 0.55561593\n",
            " 0.54052365 0.53025311 0.52587489 0.53824659]\n"
          ]
        }
      ]
    },
    {
      "cell_type": "code",
      "source": [
        "print('Linear Model Mean of RMSEs is ', cv_rmses_linear.mean())"
      ],
      "metadata": {
        "id": "gYDhgZVTy670",
        "colab": {
          "base_uri": "https://localhost:8080/"
        },
        "outputId": "616e396f-688d-4dd5-ab13-d17915dd481a"
      },
      "execution_count": 271,
      "outputs": [
        {
          "output_type": "stream",
          "name": "stdout",
          "text": [
            "Linear Model Mean of RMSEs is  0.5415881605801763\n"
          ]
        }
      ]
    },
    {
      "cell_type": "code",
      "source": [
        "print('XGB Model RMSEs are ', cv_rmses_xgb)"
      ],
      "metadata": {
        "colab": {
          "base_uri": "https://localhost:8080/"
        },
        "id": "G1Sk-DzudGHN",
        "outputId": "65ded8f1-c4da-4bf2-cd02-620031261a64"
      },
      "execution_count": 272,
      "outputs": [
        {
          "output_type": "stream",
          "name": "stdout",
          "text": [
            "XGB Model RMSEs are  [0.54526016 0.5261216  0.59040968 0.52634636 0.50459152 0.54369482\n",
            " 0.52989687 0.5280452  0.52876712 0.52922264]\n"
          ]
        }
      ]
    },
    {
      "cell_type": "code",
      "source": [
        "print('XGB Model Mean of RMSEs is ', cv_rmses_xgb.mean())"
      ],
      "metadata": {
        "colab": {
          "base_uri": "https://localhost:8080/"
        },
        "id": "jSG4NspddF38",
        "outputId": "c265abf8-649c-4cf1-b41c-5519db1da9f5"
      },
      "execution_count": 273,
      "outputs": [
        {
          "output_type": "stream",
          "name": "stdout",
          "text": [
            "XGB Model Mean of RMSEs is  0.5352355968701847\n"
          ]
        }
      ]
    },
    {
      "cell_type": "code",
      "source": [
        "print('NN Model RMSEs are ', cv_rmses_dense)"
      ],
      "metadata": {
        "colab": {
          "base_uri": "https://localhost:8080/"
        },
        "id": "9zO-l6kRdPu7",
        "outputId": "90981276-04e2-4173-c248-c0bc4d2e131a"
      },
      "execution_count": 274,
      "outputs": [
        {
          "output_type": "stream",
          "name": "stdout",
          "text": [
            "NN Model RMSEs are  [2.14991992 2.14991992 2.14991992 2.14991992 2.14991992 2.14991992\n",
            " 2.14991992 2.14991992 2.14991992 2.14991992]\n"
          ]
        }
      ]
    },
    {
      "cell_type": "code",
      "source": [
        "print('NN Model Mean of RMSEs is ', cv_rmses_dense.mean())"
      ],
      "metadata": {
        "colab": {
          "base_uri": "https://localhost:8080/"
        },
        "id": "YhqrDFjadQYE",
        "outputId": "d0c22111-1150-435c-eac5-d0e4207f6d68"
      },
      "execution_count": 275,
      "outputs": [
        {
          "output_type": "stream",
          "name": "stdout",
          "text": [
            "NN Model Mean of RMSEs is  2.149919920915967\n"
          ]
        }
      ]
    },
    {
      "cell_type": "markdown",
      "source": [
        "Dense layer doesn't perform well. Don't even need to plot this."
      ],
      "metadata": {
        "id": "Zf8wx3fPfQ0w"
      }
    },
    {
      "cell_type": "code",
      "source": [
        "print('Baseline RMSEs are ', cv_rmses_baseline)"
      ],
      "metadata": {
        "colab": {
          "base_uri": "https://localhost:8080/"
        },
        "id": "ntGIkYjGFlYA",
        "outputId": "d1fa3d9f-73fa-4b97-a8e0-9c5a06721db7"
      },
      "execution_count": 276,
      "outputs": [
        {
          "output_type": "stream",
          "name": "stdout",
          "text": [
            "Baseline RMSEs are  [0.73035137 0.67561772 0.76458038 0.70343065 0.6707249  0.68126657\n",
            " 0.71128164 0.69653214 0.67171097 0.68756408]\n"
          ]
        }
      ]
    },
    {
      "cell_type": "code",
      "source": [
        "print('Mean of baseline RMSEs is ', cv_rmses_baseline.mean())"
      ],
      "metadata": {
        "id": "THwraVkiy_U0",
        "colab": {
          "base_uri": "https://localhost:8080/"
        },
        "outputId": "94836feb-a678-4ef5-81e4-60c8cc2ca2f8"
      },
      "execution_count": 277,
      "outputs": [
        {
          "output_type": "stream",
          "name": "stdout",
          "text": [
            "Mean of baseline RMSEs is  0.6993060426668596\n"
          ]
        }
      ]
    },
    {
      "cell_type": "code",
      "source": [
        "plt.figure(figsize=(8,6))\n",
        "\n",
        "plt.plot(cv_rmses_linear, 'b-', label=\"Linear Model RMSEs\")\n",
        "plt.plot(cv_rmses_xgb, 'm-', label=\"XGB Model RMSEs\")\n",
        "plt.plot(cv_rmses_baseline, 'r-', label=\"Baseline RMSEs\")\n",
        "plt.legend()\n",
        "# plt.ylim(.5, .8)\n",
        "plt.title('RMSE')\n",
        "\n",
        "plt.show()"
      ],
      "metadata": {
        "id": "tRPgarDKzDHb",
        "colab": {
          "base_uri": "https://localhost:8080/",
          "height": 390
        },
        "outputId": "ba783c2c-d9b1-418f-c641-eae7db51daff"
      },
      "execution_count": 281,
      "outputs": [
        {
          "output_type": "display_data",
          "data": {
            "text/plain": [
              "<Figure size 576x432 with 1 Axes>"
            ],
            "image/png": "[encoded data removed]"
          },
          "metadata": {}
        }
      ]
    },
    {
      "cell_type": "markdown",
      "source": [
        "The XGBRegressor model is comparatively the best."
      ],
      "metadata": {
        "id": "3-byPm54eEwv"
      }
    },
    {
      "cell_type": "code",
      "source": [],
      "metadata": {
        "id": "GcPGQFZ_-3OO"
      },
      "execution_count": 269,
      "outputs": []
    }
  ]
}