{
 "cells": [
  {
   "cell_type": "markdown",
   "metadata": {},
   "source": [
    "Model taking BERT Token to feed into XGBoost Regressor"
   ]
  },
  {
   "cell_type": "markdown",
   "metadata": {
    "id": "g3SSeRitfn20"
   },
   "source": [
    "# Import Packages"
   ]
  },
  {
   "cell_type": "code",
   "execution_count": 1,
   "metadata": {
    "colab": {
     "base_uri": "https://localhost:8080/"
    },
    "executionInfo": {
     "elapsed": 16667,
     "status": "ok",
     "timestamp": 1668970598262,
     "user": {
      "displayName": "Moyi Tian",
      "userId": "16731155409516969374"
     },
     "user_tz": 300
    },
    "id": "PLtK2a0scDf9",
    "outputId": "42e15a6f-13b1-4468-d59c-a2c09b9f1fbb"
   },
   "outputs": [
    {
     "name": "stdout",
     "output_type": "stream",
     "text": [
      "Requirement already satisfied: transformers in /Users/moyi/opt/anaconda3/lib/python3.8/site-packages (4.25.1)\n",
      "Requirement already satisfied: requests in /Users/moyi/opt/anaconda3/lib/python3.8/site-packages (from transformers) (2.28.1)\n",
      "Requirement already satisfied: packaging>=20.0 in /Users/moyi/opt/anaconda3/lib/python3.8/site-packages (from transformers) (21.3)\n",
      "Requirement already satisfied: numpy>=1.17 in /Users/moyi/opt/anaconda3/lib/python3.8/site-packages (from transformers) (1.23.5)\n",
      "Requirement already satisfied: tqdm>=4.27 in /Users/moyi/opt/anaconda3/lib/python3.8/site-packages (from transformers) (4.64.1)\n",
      "Requirement already satisfied: filelock in /Users/moyi/opt/anaconda3/lib/python3.8/site-packages (from transformers) (3.6.0)\n",
      "Requirement already satisfied: pyyaml>=5.1 in /Users/moyi/opt/anaconda3/lib/python3.8/site-packages (from transformers) (6.0)\n",
      "Requirement already satisfied: tokenizers!=0.11.3,<0.14,>=0.11.1 in /Users/moyi/opt/anaconda3/lib/python3.8/site-packages (from transformers) (0.13.2)\n",
      "Requirement already satisfied: huggingface-hub<1.0,>=0.10.0 in /Users/moyi/opt/anaconda3/lib/python3.8/site-packages (from transformers) (0.11.1)\n",
      "Requirement already satisfied: regex!=2019.12.17 in /Users/moyi/opt/anaconda3/lib/python3.8/site-packages (from transformers) (2022.7.9)\n",
      "Requirement already satisfied: typing-extensions>=3.7.4.3 in /Users/moyi/opt/anaconda3/lib/python3.8/site-packages (from huggingface-hub<1.0,>=0.10.0->transformers) (4.3.0)\n",
      "Requirement already satisfied: pyparsing!=3.0.5,>=2.0.2 in /Users/moyi/opt/anaconda3/lib/python3.8/site-packages (from packaging>=20.0->transformers) (3.0.9)\n",
      "Requirement already satisfied: charset-normalizer<3,>=2 in /Users/moyi/opt/anaconda3/lib/python3.8/site-packages (from requests->transformers) (2.0.4)\n",
      "Requirement already satisfied: certifi>=2017.4.17 in /Users/moyi/opt/anaconda3/lib/python3.8/site-packages (from requests->transformers) (2022.9.24)\n",
      "Requirement already satisfied: urllib3<1.27,>=1.21.1 in /Users/moyi/opt/anaconda3/lib/python3.8/site-packages (from requests->transformers) (1.26.11)\n",
      "Requirement already satisfied: idna<4,>=2.5 in /Users/moyi/opt/anaconda3/lib/python3.8/site-packages (from requests->transformers) (3.3)\n"
     ]
    }
   ],
   "source": [
    "!pip install transformers"
   ]
  },
  {
   "cell_type": "code",
   "execution_count": 2,
   "metadata": {
    "executionInfo": {
     "elapsed": 5367,
     "status": "ok",
     "timestamp": 1668970603620,
     "user": {
      "displayName": "Moyi Tian",
      "userId": "16731155409516969374"
     },
     "user_tz": 300
    },
    "id": "7UM21MsDcDbR"
   },
   "outputs": [
    {
     "name": "stderr",
     "output_type": "stream",
     "text": [
      "<frozen importlib._bootstrap>:219: RuntimeWarning: scipy._lib.messagestream.MessageStream size changed, may indicate binary incompatibility. Expected 56 from C header, got 64 from PyObject\n"
     ]
    }
   ],
   "source": [
    "import pandas as pd\n",
    "import numpy as np\n",
    "import os\n",
    "import string\n",
    "import tensorflow as tf\n",
    "import matplotlib.pyplot as plt\n",
    "import nltk\n",
    "from nltk.corpus import stopwords"
   ]
  },
  {
   "cell_type": "markdown",
   "metadata": {
    "id": "LT8LUPEFfvp6"
   },
   "source": [
    "# Import Data"
   ]
  },
  {
   "cell_type": "code",
   "execution_count": 3,
   "metadata": {
    "executionInfo": {
     "elapsed": 1194,
     "status": "ok",
     "timestamp": 1668970630031,
     "user": {
      "displayName": "Moyi Tian",
      "userId": "16731155409516969374"
     },
     "user_tz": 300
    },
    "id": "xwuIE_PIcb2X"
   },
   "outputs": [],
   "source": [
    "train_dataset = pd.read_csv(\"./data/train.csv\")\n",
    "test_dataset = pd.read_csv(\"./data/test.csv\")"
   ]
  },
  {
   "cell_type": "code",
   "execution_count": 4,
   "metadata": {
    "colab": {
     "base_uri": "https://localhost:8080/",
     "height": 206
    },
    "executionInfo": {
     "elapsed": 18,
     "status": "ok",
     "timestamp": 1668970630032,
     "user": {
      "displayName": "Moyi Tian",
      "userId": "16731155409516969374"
     },
     "user_tz": 300
    },
    "id": "BdiWFdJ4cbxh",
    "outputId": "bcf3340d-2b7a-4a3f-fbcf-93af7686c70b"
   },
   "outputs": [
    {
     "data": {
      "text/html": [
       "<div>\n",
       "<style scoped>\n",
       "    .dataframe tbody tr th:only-of-type {\n",
       "        vertical-align: middle;\n",
       "    }\n",
       "\n",
       "    .dataframe tbody tr th {\n",
       "        vertical-align: top;\n",
       "    }\n",
       "\n",
       "    .dataframe thead th {\n",
       "        text-align: right;\n",
       "    }\n",
       "</style>\n",
       "<table border=\"1\" class=\"dataframe\">\n",
       "  <thead>\n",
       "    <tr style=\"text-align: right;\">\n",
       "      <th></th>\n",
       "      <th>text_id</th>\n",
       "      <th>full_text</th>\n",
       "      <th>cohesion</th>\n",
       "      <th>syntax</th>\n",
       "      <th>vocabulary</th>\n",
       "      <th>phraseology</th>\n",
       "      <th>grammar</th>\n",
       "      <th>conventions</th>\n",
       "    </tr>\n",
       "  </thead>\n",
       "  <tbody>\n",
       "    <tr>\n",
       "      <th>0</th>\n",
       "      <td>0016926B079C</td>\n",
       "      <td>I think that students would benefit from learn...</td>\n",
       "      <td>3.5</td>\n",
       "      <td>3.5</td>\n",
       "      <td>3.0</td>\n",
       "      <td>3.0</td>\n",
       "      <td>4.0</td>\n",
       "      <td>3.0</td>\n",
       "    </tr>\n",
       "    <tr>\n",
       "      <th>1</th>\n",
       "      <td>0022683E9EA5</td>\n",
       "      <td>When a problem is a change you have to let it ...</td>\n",
       "      <td>2.5</td>\n",
       "      <td>2.5</td>\n",
       "      <td>3.0</td>\n",
       "      <td>2.0</td>\n",
       "      <td>2.0</td>\n",
       "      <td>2.5</td>\n",
       "    </tr>\n",
       "    <tr>\n",
       "      <th>2</th>\n",
       "      <td>00299B378633</td>\n",
       "      <td>Dear, Principal\\n\\nIf u change the school poli...</td>\n",
       "      <td>3.0</td>\n",
       "      <td>3.5</td>\n",
       "      <td>3.0</td>\n",
       "      <td>3.0</td>\n",
       "      <td>3.0</td>\n",
       "      <td>2.5</td>\n",
       "    </tr>\n",
       "    <tr>\n",
       "      <th>3</th>\n",
       "      <td>003885A45F42</td>\n",
       "      <td>The best time in life is when you become yours...</td>\n",
       "      <td>4.5</td>\n",
       "      <td>4.5</td>\n",
       "      <td>4.5</td>\n",
       "      <td>4.5</td>\n",
       "      <td>4.0</td>\n",
       "      <td>5.0</td>\n",
       "    </tr>\n",
       "    <tr>\n",
       "      <th>4</th>\n",
       "      <td>0049B1DF5CCC</td>\n",
       "      <td>Small act of kindness can impact in other peop...</td>\n",
       "      <td>2.5</td>\n",
       "      <td>3.0</td>\n",
       "      <td>3.0</td>\n",
       "      <td>3.0</td>\n",
       "      <td>2.5</td>\n",
       "      <td>2.5</td>\n",
       "    </tr>\n",
       "  </tbody>\n",
       "</table>\n",
       "</div>"
      ],
      "text/plain": [
       "        text_id                                          full_text  cohesion  \\\n",
       "0  0016926B079C  I think that students would benefit from learn...       3.5   \n",
       "1  0022683E9EA5  When a problem is a change you have to let it ...       2.5   \n",
       "2  00299B378633  Dear, Principal\\n\\nIf u change the school poli...       3.0   \n",
       "3  003885A45F42  The best time in life is when you become yours...       4.5   \n",
       "4  0049B1DF5CCC  Small act of kindness can impact in other peop...       2.5   \n",
       "\n",
       "   syntax  vocabulary  phraseology  grammar  conventions  \n",
       "0     3.5         3.0          3.0      4.0          3.0  \n",
       "1     2.5         3.0          2.0      2.0          2.5  \n",
       "2     3.5         3.0          3.0      3.0          2.5  \n",
       "3     4.5         4.5          4.5      4.0          5.0  \n",
       "4     3.0         3.0          3.0      2.5          2.5  "
      ]
     },
     "execution_count": 4,
     "metadata": {},
     "output_type": "execute_result"
    }
   ],
   "source": [
    "train_dataset.head()"
   ]
  },
  {
   "cell_type": "code",
   "execution_count": 5,
   "metadata": {
    "colab": {
     "base_uri": "https://localhost:8080/",
     "height": 300
    },
    "executionInfo": {
     "elapsed": 16,
     "status": "ok",
     "timestamp": 1668970630032,
     "user": {
      "displayName": "Moyi Tian",
      "userId": "16731155409516969374"
     },
     "user_tz": 300
    },
    "id": "78tqbORncDV_",
    "outputId": "350ec12c-3826-44b1-a67c-f18694c398f2"
   },
   "outputs": [
    {
     "data": {
      "text/html": [
       "<div>\n",
       "<style scoped>\n",
       "    .dataframe tbody tr th:only-of-type {\n",
       "        vertical-align: middle;\n",
       "    }\n",
       "\n",
       "    .dataframe tbody tr th {\n",
       "        vertical-align: top;\n",
       "    }\n",
       "\n",
       "    .dataframe thead th {\n",
       "        text-align: right;\n",
       "    }\n",
       "</style>\n",
       "<table border=\"1\" class=\"dataframe\">\n",
       "  <thead>\n",
       "    <tr style=\"text-align: right;\">\n",
       "      <th></th>\n",
       "      <th>cohesion</th>\n",
       "      <th>syntax</th>\n",
       "      <th>vocabulary</th>\n",
       "      <th>phraseology</th>\n",
       "      <th>grammar</th>\n",
       "      <th>conventions</th>\n",
       "    </tr>\n",
       "  </thead>\n",
       "  <tbody>\n",
       "    <tr>\n",
       "      <th>count</th>\n",
       "      <td>3911.000000</td>\n",
       "      <td>3911.000000</td>\n",
       "      <td>3911.000000</td>\n",
       "      <td>3911.000000</td>\n",
       "      <td>3911.000000</td>\n",
       "      <td>3911.000000</td>\n",
       "    </tr>\n",
       "    <tr>\n",
       "      <th>mean</th>\n",
       "      <td>3.127077</td>\n",
       "      <td>3.028254</td>\n",
       "      <td>3.235745</td>\n",
       "      <td>3.116850</td>\n",
       "      <td>3.032856</td>\n",
       "      <td>3.081053</td>\n",
       "    </tr>\n",
       "    <tr>\n",
       "      <th>std</th>\n",
       "      <td>0.662542</td>\n",
       "      <td>0.644399</td>\n",
       "      <td>0.583148</td>\n",
       "      <td>0.655997</td>\n",
       "      <td>0.699841</td>\n",
       "      <td>0.671450</td>\n",
       "    </tr>\n",
       "    <tr>\n",
       "      <th>min</th>\n",
       "      <td>1.000000</td>\n",
       "      <td>1.000000</td>\n",
       "      <td>1.000000</td>\n",
       "      <td>1.000000</td>\n",
       "      <td>1.000000</td>\n",
       "      <td>1.000000</td>\n",
       "    </tr>\n",
       "    <tr>\n",
       "      <th>25%</th>\n",
       "      <td>2.500000</td>\n",
       "      <td>2.500000</td>\n",
       "      <td>3.000000</td>\n",
       "      <td>2.500000</td>\n",
       "      <td>2.500000</td>\n",
       "      <td>2.500000</td>\n",
       "    </tr>\n",
       "    <tr>\n",
       "      <th>50%</th>\n",
       "      <td>3.000000</td>\n",
       "      <td>3.000000</td>\n",
       "      <td>3.000000</td>\n",
       "      <td>3.000000</td>\n",
       "      <td>3.000000</td>\n",
       "      <td>3.000000</td>\n",
       "    </tr>\n",
       "    <tr>\n",
       "      <th>75%</th>\n",
       "      <td>3.500000</td>\n",
       "      <td>3.500000</td>\n",
       "      <td>3.500000</td>\n",
       "      <td>3.500000</td>\n",
       "      <td>3.500000</td>\n",
       "      <td>3.500000</td>\n",
       "    </tr>\n",
       "    <tr>\n",
       "      <th>max</th>\n",
       "      <td>5.000000</td>\n",
       "      <td>5.000000</td>\n",
       "      <td>5.000000</td>\n",
       "      <td>5.000000</td>\n",
       "      <td>5.000000</td>\n",
       "      <td>5.000000</td>\n",
       "    </tr>\n",
       "  </tbody>\n",
       "</table>\n",
       "</div>"
      ],
      "text/plain": [
       "          cohesion       syntax   vocabulary  phraseology      grammar  \\\n",
       "count  3911.000000  3911.000000  3911.000000  3911.000000  3911.000000   \n",
       "mean      3.127077     3.028254     3.235745     3.116850     3.032856   \n",
       "std       0.662542     0.644399     0.583148     0.655997     0.699841   \n",
       "min       1.000000     1.000000     1.000000     1.000000     1.000000   \n",
       "25%       2.500000     2.500000     3.000000     2.500000     2.500000   \n",
       "50%       3.000000     3.000000     3.000000     3.000000     3.000000   \n",
       "75%       3.500000     3.500000     3.500000     3.500000     3.500000   \n",
       "max       5.000000     5.000000     5.000000     5.000000     5.000000   \n",
       "\n",
       "       conventions  \n",
       "count  3911.000000  \n",
       "mean      3.081053  \n",
       "std       0.671450  \n",
       "min       1.000000  \n",
       "25%       2.500000  \n",
       "50%       3.000000  \n",
       "75%       3.500000  \n",
       "max       5.000000  "
      ]
     },
     "execution_count": 5,
     "metadata": {},
     "output_type": "execute_result"
    }
   ],
   "source": [
    "train_dataset.describe()"
   ]
  },
  {
   "cell_type": "code",
   "execution_count": 6,
   "metadata": {
    "executionInfo": {
     "elapsed": 16,
     "status": "ok",
     "timestamp": 1668970630033,
     "user": {
      "displayName": "Moyi Tian",
      "userId": "16731155409516969374"
     },
     "user_tz": 300
    },
    "id": "7E0tHOMPcfkG"
   },
   "outputs": [],
   "source": [
    "cohesion = train_dataset['cohesion']\n",
    "syntax = train_dataset['syntax']\n",
    "vocabulary = train_dataset['vocabulary']\n",
    "phraseology = train_dataset['phraseology']\n",
    "grammar = train_dataset['grammar']\n",
    "conventions = train_dataset['conventions']"
   ]
  },
  {
   "cell_type": "code",
   "execution_count": 7,
   "metadata": {
    "executionInfo": {
     "elapsed": 116,
     "status": "ok",
     "timestamp": 1668971677383,
     "user": {
      "displayName": "Moyi Tian",
      "userId": "16731155409516969374"
     },
     "user_tz": 300
    },
    "id": "RuhNPcnFdppL"
   },
   "outputs": [],
   "source": [
    "syntax = np.asarray(syntax)\n",
    "cohesion = np.asarray(cohesion)\n",
    "vocabulary = np.asarray(vocabulary)\n",
    "phraseology = np.asarray(phraseology)\n",
    "grammar = np.asarray(grammar)\n",
    "conventions = np.asarray(conventions)"
   ]
  },
  {
   "cell_type": "markdown",
   "metadata": {
    "id": "6JHAmUZIgVKb"
   },
   "source": [
    "## Clean the full_text"
   ]
  },
  {
   "cell_type": "code",
   "execution_count": 8,
   "metadata": {
    "colab": {
     "base_uri": "https://localhost:8080/"
    },
    "executionInfo": {
     "elapsed": 127,
     "status": "ok",
     "timestamp": 1668970743513,
     "user": {
      "displayName": "Moyi Tian",
      "userId": "16731155409516969374"
     },
     "user_tz": 300
    },
    "id": "X8JRlVKncm6x",
    "outputId": "ed47ad2b-7004-4a67-d109-3daf8659458c"
   },
   "outputs": [
    {
     "name": "stderr",
     "output_type": "stream",
     "text": [
      "[nltk_data] Downloading package stopwords to /Users/moyi/nltk_data...\n",
      "[nltk_data]   Package stopwords is already up-to-date!\n"
     ]
    }
   ],
   "source": [
    "from nltk.corpus import stopwords\n",
    "nltk.download('stopwords')\n",
    "stop_words = stopwords.words('english')"
   ]
  },
  {
   "cell_type": "code",
   "execution_count": 9,
   "metadata": {
    "executionInfo": {
     "elapsed": 2,
     "status": "ok",
     "timestamp": 1668970743880,
     "user": {
      "displayName": "Moyi Tian",
      "userId": "16731155409516969374"
     },
     "user_tz": 300
    },
    "id": "0A_ofjpIcm43"
   },
   "outputs": [],
   "source": [
    "def CleanFeatures(sentences):\n",
    "  sentences = sentences.apply(lambda sequence:\n",
    "                                            [ltrs.lower() for ltrs in sequence if ltrs not in string.punctuation])\n",
    "  sentences = sentences.apply(lambda wrd: ''.join(wrd))\n",
    "  sentences = sentences.apply(lambda sequence:\n",
    "                                            [word for word in sequence.split() if word not in stop_words])\n",
    "  sentences = sentences.apply(lambda wrd: ' '.join(wrd))\n",
    "  return sentences"
   ]
  },
  {
   "cell_type": "code",
   "execution_count": 10,
   "metadata": {
    "executionInfo": {
     "elapsed": 3870,
     "status": "ok",
     "timestamp": 1668970748234,
     "user": {
      "displayName": "Moyi Tian",
      "userId": "16731155409516969374"
     },
     "user_tz": 300
    },
    "id": "DtAfVEQrcm2n"
   },
   "outputs": [],
   "source": [
    "full_text_train = CleanFeatures(train_dataset['full_text'])"
   ]
  },
  {
   "cell_type": "code",
   "execution_count": 11,
   "metadata": {
    "executionInfo": {
     "elapsed": 3,
     "status": "ok",
     "timestamp": 1668970748235,
     "user": {
      "displayName": "Moyi Tian",
      "userId": "16731155409516969374"
     },
     "user_tz": 300
    },
    "id": "vljyCxEiZUcL"
   },
   "outputs": [],
   "source": [
    "full_text_test = CleanFeatures(test_dataset['full_text'])"
   ]
  },
  {
   "cell_type": "markdown",
   "metadata": {
    "id": "qQ-4i__hg93h"
   },
   "source": [
    "# Tokenize Text"
   ]
  },
  {
   "cell_type": "markdown",
   "metadata": {
    "id": "j1CM2Fq6d0iu"
   },
   "source": [
    "## Use BertTokenizer"
   ]
  },
  {
   "cell_type": "code",
   "execution_count": 12,
   "metadata": {
    "executionInfo": {
     "elapsed": 152,
     "status": "ok",
     "timestamp": 1668972490940,
     "user": {
      "displayName": "Moyi Tian",
      "userId": "16731155409516969374"
     },
     "user_tz": 300
    },
    "id": "Prai-JN6cm0P"
   },
   "outputs": [],
   "source": [
    "from transformers import AutoTokenizer"
   ]
  },
  {
   "cell_type": "code",
   "execution_count": 13,
   "metadata": {
    "colab": {
     "base_uri": "https://localhost:8080/",
     "height": 145,
     "referenced_widgets": [
      "be6dff1a41d54902b0926b32d4fc20fa",
      "2efa1eeca21b497ead997f9fe8e2851c",
      "8e1b22a02d76419da85597ebd8786caa",
      "6d212cb55bb1427fa86c92fc22538a24",
      "ce8718172ccf4273b35d68ff4d060c19",
      "b91fa17531514ea3952c97c19850f23e",
      "b0626a67b74c4582a0a36025a3b78850",
      "93410d1a8466486a8df3f91f38233d30",
      "9b58561a330a40a0b007dd39f2ea4edc",
      "5a94a2782e654c9e9f4dc5fb784df74f",
      "f3a1bbb5b9e6411882284920a45a2ee3",
      "86c0b616489346d68f8e994cca93e2f0",
      "10b7d438b29c4ba5b744f1e7ba2417db",
      "c50630a533094c619b215aef7655fb6c",
      "25f96c57070b403498ace18bdd8b69dd",
      "c3cc4b8d053b4bb4bd0f494b72a97f79",
      "96c4ebbb5c164c48b5a212539ec2a55c",
      "7980a6c21d0842f087e792c100d2349f",
      "31274bf1edcd46f083730d1f89fb1963",
      "722112b6c6cb4e1b8b1d4e707162c927",
      "b5ff79e19b0d4de6b983eebc70b63aed",
      "15d36bb7ed0b4623992afcc3a5400b40",
      "b695ad4fef884e7fa89c8196b35496ef",
      "dd92f4996b5e4823955ceafe63c6a612",
      "4c21203dfb8545029d653c1e3f699bcc",
      "df2991fb799f480b8869c070faf97a3e",
      "5edc632981a348fd891d824ba06158e5",
      "728f23a711964e388a8c5f1e1d984067",
      "bc98d236a7b546dabd0626e8a3e6427d",
      "0bc91884e2e94c5ca15329be8c869c3d",
      "49b7e65ccab946518506721ff773b121",
      "c04b45cef2044745bd54049790959d7d",
      "312aeb805b004087a4f166da7ba7c50a",
      "e9fe94bacbcc4c8c8e02c24d452e8dc1",
      "e8f2b301d5a840b58c40a2d0796803f9",
      "d6d56a7a90294c93ba9f20fbb8b0e0b0",
      "e7d2388b69dc465cbc3adf3c6ecdb4b4",
      "e63dc59664be488ea1f9ed0870dedf6f",
      "842c28fe1ea5434eb0a8174654c9a8a5",
      "5653b192b5c94e449eae0d5b09f279b2",
      "eb4d35c70a8445a3af97b3a89aafc7dd",
      "8c8d255e12c24b2f916bb2f1d7cdbd81",
      "e5318e317c5c432bb2d6705aab550a2d",
      "53f3885982184511bdec342b99cf9aff"
     ]
    },
    "executionInfo": {
     "elapsed": 909,
     "status": "ok",
     "timestamp": 1668972492651,
     "user": {
      "displayName": "Moyi Tian",
      "userId": "16731155409516969374"
     },
     "user_tz": 300
    },
    "id": "eGP5Zc9_gxJf",
    "outputId": "19daa889-93b1-4d05-f611-f13d8e343c14"
   },
   "outputs": [],
   "source": [
    "tokenizer = AutoTokenizer.from_pretrained('bert-base-uncased')"
   ]
  },
  {
   "cell_type": "code",
   "execution_count": 14,
   "metadata": {
    "executionInfo": {
     "elapsed": 139,
     "status": "ok",
     "timestamp": 1668972664851,
     "user": {
      "displayName": "Moyi Tian",
      "userId": "16731155409516969374"
     },
     "user_tz": 300
    },
    "id": "gIERuEkLgPNl"
   },
   "outputs": [],
   "source": [
    "tokens_train = []"
   ]
  },
  {
   "cell_type": "code",
   "execution_count": 15,
   "metadata": {
    "executionInfo": {
     "elapsed": 3243,
     "status": "ok",
     "timestamp": 1668972668439,
     "user": {
      "displayName": "Moyi Tian",
      "userId": "16731155409516969374"
     },
     "user_tz": 300
    },
    "id": "jr8OgMAagSru"
   },
   "outputs": [],
   "source": [
    "for index, content in enumerate(full_text_train):\n",
    "  tokens_train.append(tokenizer(content, max_length = 512, padding = \"max_length\",\n",
    "                                 truncation = True, return_token_type_ids = True,\n",
    "                                 return_tensors = 'np')['input_ids'])"
   ]
  },
  {
   "cell_type": "code",
   "execution_count": 16,
   "metadata": {
    "executionInfo": {
     "elapsed": 131,
     "status": "ok",
     "timestamp": 1668972743472,
     "user": {
      "displayName": "Moyi Tian",
      "userId": "16731155409516969374"
     },
     "user_tz": 300
    },
    "id": "sf_dTdNShMd9"
   },
   "outputs": [],
   "source": [
    "tokens_train = np.asarray(tokens_train)"
   ]
  },
  {
   "cell_type": "code",
   "execution_count": 17,
   "metadata": {
    "colab": {
     "base_uri": "https://localhost:8080/"
    },
    "executionInfo": {
     "elapsed": 116,
     "status": "ok",
     "timestamp": 1668972758443,
     "user": {
      "displayName": "Moyi Tian",
      "userId": "16731155409516969374"
     },
     "user_tz": 300
    },
    "id": "CYkg-aPehyCb",
    "outputId": "24406d33-17b5-46fd-87af-890b72f16996"
   },
   "outputs": [
    {
     "data": {
      "text/plain": [
       "(3911, 1, 512)"
      ]
     },
     "execution_count": 17,
     "metadata": {},
     "output_type": "execute_result"
    }
   ],
   "source": [
    "tokens_train.shape"
   ]
  },
  {
   "cell_type": "code",
   "execution_count": 18,
   "metadata": {
    "executionInfo": {
     "elapsed": 114,
     "status": "ok",
     "timestamp": 1668972796323,
     "user": {
      "displayName": "Moyi Tian",
      "userId": "16731155409516969374"
     },
     "user_tz": 300
    },
    "id": "4lvY0_aMh5Ny"
   },
   "outputs": [],
   "source": [
    "tokens_train = np.reshape(tokens_train, (tokens_train.shape[0], tokens_train.shape[2]))"
   ]
  },
  {
   "cell_type": "code",
   "execution_count": 19,
   "metadata": {
    "colab": {
     "base_uri": "https://localhost:8080/"
    },
    "executionInfo": {
     "elapsed": 131,
     "status": "ok",
     "timestamp": 1668972804283,
     "user": {
      "displayName": "Moyi Tian",
      "userId": "16731155409516969374"
     },
     "user_tz": 300
    },
    "id": "-8i2K0oUh-vd",
    "outputId": "a92dcd01-3441-46a9-f756-79441ae09e01"
   },
   "outputs": [
    {
     "data": {
      "text/plain": [
       "(3911, 512)"
      ]
     },
     "execution_count": 19,
     "metadata": {},
     "output_type": "execute_result"
    }
   ],
   "source": [
    "tokens_train.shape"
   ]
  },
  {
   "cell_type": "code",
   "execution_count": 20,
   "metadata": {
    "executionInfo": {
     "elapsed": 295,
     "status": "ok",
     "timestamp": 1668973073500,
     "user": {
      "displayName": "Moyi Tian",
      "userId": "16731155409516969374"
     },
     "user_tz": 300
    },
    "id": "jW3ezkvehmOh"
   },
   "outputs": [],
   "source": [
    "# save Bert Tokens for train\n",
    "np.save(\"./data/train_BertToken.npy\",tokens_train)"
   ]
  },
  {
   "cell_type": "code",
   "execution_count": 21,
   "metadata": {
    "executionInfo": {
     "elapsed": 136,
     "status": "ok",
     "timestamp": 1668973180290,
     "user": {
      "displayName": "Moyi Tian",
      "userId": "16731155409516969374"
     },
     "user_tz": 300
    },
    "id": "a_VWCSq9jKM_"
   },
   "outputs": [],
   "source": [
    "# do the same to test data\n",
    "tokens_test = []\n",
    "for index, content in enumerate(full_text_test):\n",
    "  tokens_test.append(tokenizer(content, max_length = 512, padding = \"max_length\",\n",
    "                                 truncation = True, return_token_type_ids = True,\n",
    "                                 return_tensors = 'np')['input_ids'])\n",
    "tokens_test = np.asarray(tokens_test)\n",
    "tokens_test = np.reshape(tokens_test, (tokens_test.shape[0], tokens_test.shape[2]))"
   ]
  },
  {
   "cell_type": "code",
   "execution_count": 22,
   "metadata": {
    "executionInfo": {
     "elapsed": 119,
     "status": "ok",
     "timestamp": 1668973215038,
     "user": {
      "displayName": "Moyi Tian",
      "userId": "16731155409516969374"
     },
     "user_tz": 300
    },
    "id": "dPFYkoCzjb1h"
   },
   "outputs": [],
   "source": [
    "# save Bert Tokens for test\n",
    "np.save(\"./data/test_BertToken.npy\",tokens_test)"
   ]
  },
  {
   "cell_type": "markdown",
   "metadata": {
    "id": "AzjntZjgh-uE"
   },
   "source": [
    "# XGBRegressor"
   ]
  },
  {
   "cell_type": "markdown",
   "metadata": {
    "id": "hS-CdphQjs_a"
   },
   "source": [
    "## Load Preprocessed Data"
   ]
  },
  {
   "cell_type": "code",
   "execution_count": 23,
   "metadata": {
    "executionInfo": {
     "elapsed": 118,
     "status": "ok",
     "timestamp": 1668974159663,
     "user": {
      "displayName": "Moyi Tian",
      "userId": "16731155409516969374"
     },
     "user_tz": 300
    },
    "id": "aNp5blOim7YZ"
   },
   "outputs": [],
   "source": [
    "train_token = np.load(\"./data/train_BertToken.npy\")"
   ]
  },
  {
   "cell_type": "code",
   "execution_count": 24,
   "metadata": {
    "executionInfo": {
     "elapsed": 1,
     "status": "ok",
     "timestamp": 1668974161277,
     "user": {
      "displayName": "Moyi Tian",
      "userId": "16731155409516969374"
     },
     "user_tz": 300
    },
    "id": "EhHIfyUnnFFY"
   },
   "outputs": [],
   "source": [
    "test_token = np.load(\"./data/test_BertToken.npy\")"
   ]
  },
  {
   "cell_type": "markdown",
   "metadata": {
    "id": "rtQCGPYonRym"
   },
   "source": [
    "## Analyze XGB model using kfold"
   ]
  },
  {
   "cell_type": "code",
   "execution_count": 25,
   "metadata": {
    "executionInfo": {
     "elapsed": 175,
     "status": "ok",
     "timestamp": 1668978061894,
     "user": {
      "displayName": "Moyi Tian",
      "userId": "16731155409516969374"
     },
     "user_tz": 300
    },
    "id": "EvsN1d_SkF5z"
   },
   "outputs": [],
   "source": [
    "from sklearn.metrics import mean_squared_error as MSE\n",
    "from sklearn.multioutput import MultiOutputRegressor\n",
    "from sklearn.model_selection import KFold"
   ]
  },
  {
   "cell_type": "code",
   "execution_count": 26,
   "metadata": {
    "executionInfo": {
     "elapsed": 1,
     "status": "ok",
     "timestamp": 1668978062415,
     "user": {
      "displayName": "Moyi Tian",
      "userId": "16731155409516969374"
     },
     "user_tz": 300
    },
    "id": "isZBqQGfjr4s"
   },
   "outputs": [],
   "source": [
    "import xgboost as xgb"
   ]
  },
  {
   "cell_type": "code",
   "execution_count": 27,
   "metadata": {
    "executionInfo": {
     "elapsed": 2,
     "status": "ok",
     "timestamp": 1668978062885,
     "user": {
      "displayName": "Moyi Tian",
      "userId": "16731155409516969374"
     },
     "user_tz": 300
    },
    "id": "FIG1W95LvRlW"
   },
   "outputs": [],
   "source": [
    "kfold = KFold(n_splits = 10,\n",
    "              shuffle = True,\n",
    "              random_state = 404)"
   ]
  },
  {
   "cell_type": "code",
   "execution_count": 28,
   "metadata": {
    "executionInfo": {
     "elapsed": 128,
     "status": "ok",
     "timestamp": 1668978069184,
     "user": {
      "displayName": "Moyi Tian",
      "userId": "16731155409516969374"
     },
     "user_tz": 300
    },
    "id": "EXplRVBytmPx"
   },
   "outputs": [],
   "source": [
    "y_train = np.transpose(np.asarray([cohesion, syntax, vocabulary, phraseology, grammar, conventions]))"
   ]
  },
  {
   "cell_type": "code",
   "execution_count": 29,
   "metadata": {
    "executionInfo": {
     "elapsed": 1102106,
     "status": "ok",
     "timestamp": 1668981453420,
     "user": {
      "displayName": "Moyi Tian",
      "userId": "16731155409516969374"
     },
     "user_tz": 300
    },
    "id": "AAuy_BPXlsvO"
   },
   "outputs": [
    {
     "name": "stdout",
     "output_type": "stream",
     "text": [
      "huggingface/tokenizers: The current process just got forked, after parallelism has already been used. Disabling parallelism to avoid deadlocks...\n",
      "To disable this warning, you can either:\n",
      "\t- Avoid using `tokenizers` before the fork if possible\n",
      "\t- Explicitly set the environment variable TOKENIZERS_PARALLELISM=(true | false)\n",
      "huggingface/tokenizers: The current process just got forked, after parallelism has already been used. Disabling parallelism to avoid deadlocks...\n",
      "To disable this warning, you can either:\n",
      "\t- Avoid using `tokenizers` before the fork if possible\n",
      "\t- Explicitly set the environment variable TOKENIZERS_PARALLELISM=(true | false)\n",
      "huggingface/tokenizers: The current process just got forked, after parallelism has already been used. Disabling parallelism to avoid deadlocks...\n",
      "To disable this warning, you can either:\n",
      "\t- Avoid using `tokenizers` before the fork if possible\n",
      "\t- Explicitly set the environment variable TOKENIZERS_PARALLELISM=(true | false)\n",
      "huggingface/tokenizers: The current process just got forked, after parallelism has already been used. Disabling parallelism to avoid deadlocks...\n",
      "To disable this warning, you can either:\n",
      "\t- Avoid using `tokenizers` before the fork if possible\n",
      "\t- Explicitly set the environment variable TOKENIZERS_PARALLELISM=(true | false)\n",
      "huggingface/tokenizers: The current process just got forked, after parallelism has already been used. Disabling parallelism to avoid deadlocks...\n",
      "To disable this warning, you can either:\n",
      "\t- Avoid using `tokenizers` before the fork if possible\n",
      "\t- Explicitly set the environment variable TOKENIZERS_PARALLELISM=(true | false)\n"
     ]
    }
   ],
   "source": [
    "cv_rmses = np.zeros((10,6))\n",
    "\n",
    "# Use mean of rating as baseline to compare\n",
    "cv_rmses_baseline = np.zeros((10,6))\n",
    "\n",
    "i = 0\n",
    "for train_ind, val_ind in kfold.split(train_token, y_train):\n",
    "    x_t = train_token[train_ind]\n",
    "    y_t = y_train[train_ind]\n",
    "    \n",
    "    x_val = train_token[val_ind]\n",
    "    y_val = y_train[val_ind]\n",
    "    \n",
    "    xgb_estimator = xgb.XGBRegressor(n_estimators=100,\n",
    "                                    max_depth = 2,\n",
    "                                    objective='reg:squarederror')\n",
    "    model = MultiOutputRegressor(xgb_estimator, n_jobs=3)\n",
    "\n",
    "    model.fit(x_t, y_t)\n",
    "    predicted = model.predict(x_val)\n",
    "    \n",
    "    bsl = np.ones((len(y_val),1))*np.mean(y_t, axis=0)\n",
    "    \n",
    "    cv_rmses[i,:] = MSE(y_val, predicted, squared=False, multioutput='raw_values')\n",
    "    \n",
    "    cv_rmses_baseline[i,:] = MSE(y_val, bsl, squared=False, multioutput='raw_values')\n",
    "    \n",
    "    i += 1"
   ]
  },
  {
   "cell_type": "code",
   "execution_count": 30,
   "metadata": {
    "colab": {
     "base_uri": "https://localhost:8080/"
    },
    "executionInfo": {
     "elapsed": 137,
     "status": "ok",
     "timestamp": 1668981595740,
     "user": {
      "displayName": "Moyi Tian",
      "userId": "16731155409516969374"
     },
     "user_tz": 300
    },
    "id": "zHH1AZGF2FWv",
    "outputId": "256e9fe1-3f44-46a8-8856-0fb92015a8ba"
   },
   "outputs": [
    {
     "name": "stdout",
     "output_type": "stream",
     "text": [
      "Cross Validation kfold = 10\n",
      "\n",
      "XGB with BertToken RMSEs are  [[0.68194054 0.66222212 0.60158511 0.67433854 0.75249932 0.69748852]\n",
      " [0.61159763 0.59340691 0.52737135 0.60747617 0.67972943 0.63601927]\n",
      " [0.65713529 0.68148128 0.57473173 0.69874337 0.76565445 0.66907981]\n",
      " [0.61361823 0.60655712 0.55307014 0.63978854 0.69836479 0.645607  ]\n",
      " [0.61945975 0.60084456 0.57281994 0.60643868 0.68397119 0.67134628]\n",
      " [0.61684826 0.64580077 0.53292729 0.63312332 0.69314278 0.64500876]\n",
      " [0.68442303 0.67234164 0.60938975 0.66135406 0.72866428 0.67887467]\n",
      " [0.63204652 0.62789102 0.55780711 0.62221483 0.70837358 0.64218752]\n",
      " [0.65158238 0.66283686 0.55515387 0.62242364 0.66782353 0.67280602]\n",
      " [0.64020877 0.61919952 0.56999871 0.64183528 0.69146781 0.63974273]]\n"
     ]
    }
   ],
   "source": [
    "print('Cross Validation kfold = 10')\n",
    "print()\n",
    "print('XGB with BertToken RMSEs are ', cv_rmses)"
   ]
  },
  {
   "cell_type": "code",
   "execution_count": 31,
   "metadata": {
    "colab": {
     "base_uri": "https://localhost:8080/"
    },
    "executionInfo": {
     "elapsed": 3,
     "status": "ok",
     "timestamp": 1668982207498,
     "user": {
      "displayName": "Moyi Tian",
      "userId": "16731155409516969374"
     },
     "user_tz": 300
    },
    "id": "GFUpHhb87n9x",
    "outputId": "2c896724-f9b6-4120-87ef-9e170839fe14"
   },
   "outputs": [
    {
     "name": "stdout",
     "output_type": "stream",
     "text": [
      "XGB with BertToken - Means of RMSEs is  [0.64088604 0.63725818 0.5654855  0.64077364 0.70696912 0.65981606]\n"
     ]
    }
   ],
   "source": [
    "print('XGB with BertToken - Means of RMSEs is ', cv_rmses.mean(axis=0))"
   ]
  },
  {
   "cell_type": "code",
   "execution_count": 32,
   "metadata": {
    "colab": {
     "base_uri": "https://localhost:8080/"
    },
    "executionInfo": {
     "elapsed": 141,
     "status": "ok",
     "timestamp": 1668982218415,
     "user": {
      "displayName": "Moyi Tian",
      "userId": "16731155409516969374"
     },
     "user_tz": 300
    },
    "id": "_smTdN51Ft-j",
    "outputId": "dda269c8-fba4-4d8d-9fd0-f22267c1e263"
   },
   "outputs": [
    {
     "name": "stdout",
     "output_type": "stream",
     "text": [
      "Baseline RMSEs are  [[0.69568593 0.64787439 0.63808185 0.69686659 0.73035137 0.70328208]\n",
      " [0.64322234 0.60728348 0.54911423 0.61526963 0.67561772 0.65348626]\n",
      " [0.67428231 0.69644252 0.58695287 0.7066039  0.76458038 0.6817024 ]\n",
      " [0.64793735 0.62359828 0.58512538 0.65243892 0.70343065 0.6611266 ]\n",
      " [0.62855902 0.60532544 0.5812479  0.62313141 0.6707249  0.68189064]\n",
      " [0.6446385  0.65186646 0.54160883 0.64868831 0.68126657 0.64580614]\n",
      " [0.68945441 0.67149882 0.60124415 0.65528339 0.71128164 0.68051182]\n",
      " [0.66031746 0.62666967 0.56718907 0.64389572 0.69653214 0.65951751]\n",
      " [0.6634431  0.65881244 0.57835211 0.64516936 0.67171097 0.68013836]\n",
      " [0.6749082  0.64881978 0.59685031 0.66681634 0.68756408 0.66496181]]\n"
     ]
    }
   ],
   "source": [
    "print('Baseline RMSEs are ', cv_rmses_baseline)"
   ]
  },
  {
   "cell_type": "code",
   "execution_count": 33,
   "metadata": {
    "colab": {
     "base_uri": "https://localhost:8080/"
    },
    "executionInfo": {
     "elapsed": 138,
     "status": "ok",
     "timestamp": 1668982220345,
     "user": {
      "displayName": "Moyi Tian",
      "userId": "16731155409516969374"
     },
     "user_tz": 300
    },
    "id": "uoVs-Nhx7opd",
    "outputId": "64c207b7-bf62-4704-e9b6-39f7aecd934b"
   },
   "outputs": [
    {
     "name": "stdout",
     "output_type": "stream",
     "text": [
      "Means of baseline RMSEs is  [0.66224486 0.64381913 0.58257667 0.65541636 0.69930604 0.67124236]\n"
     ]
    }
   ],
   "source": [
    "print('Means of baseline RMSEs is ', cv_rmses_baseline.mean(axis=0))"
   ]
  },
  {
   "cell_type": "code",
   "execution_count": 34,
   "metadata": {
    "executionInfo": {
     "elapsed": 328,
     "status": "ok",
     "timestamp": 1668982022863,
     "user": {
      "displayName": "Moyi Tian",
      "userId": "16731155409516969374"
     },
     "user_tz": 300
    },
    "id": "UdP7UA_aFGm9"
   },
   "outputs": [],
   "source": [
    "import seaborn as sns\n",
    "sns.set_style(\"whitegrid\")"
   ]
  },
  {
   "cell_type": "code",
   "execution_count": 35,
   "metadata": {
    "colab": {
     "base_uri": "https://localhost:8080/",
     "height": 390
    },
    "executionInfo": {
     "elapsed": 546,
     "status": "ok",
     "timestamp": 1668982283723,
     "user": {
      "displayName": "Moyi Tian",
      "userId": "16731155409516969374"
     },
     "user_tz": 300
    },
    "id": "Chj1mTB07okK",
    "outputId": "a676b2a5-17ff-4d82-9c91-70cdc2f2a8b5"
   },
   "outputs": [
    {
     "data": {
      "image/png": "[encoded data removed]",
      "text/plain": [
       "<Figure size 800x600 with 1 Axes>"
      ]
     },
     "metadata": {},
     "output_type": "display_data"
    }
   ],
   "source": [
    "plt.figure(figsize=(8,6))\n",
    "\n",
    "plt.plot(cv_rmses[:,0])\n",
    "plt.plot(cv_rmses_baseline[:,0], 'r-', label=\"Baseline RMSEs\")\n",
    "plt.legend()\n",
    "plt.ylim(.5, .8)\n",
    "plt.title('Cohesion RMSE for XGB with BertToken')\n",
    "\n",
    "plt.show()"
   ]
  },
  {
   "cell_type": "code",
   "execution_count": 36,
   "metadata": {
    "colab": {
     "base_uri": "https://localhost:8080/",
     "height": 390
    },
    "executionInfo": {
     "elapsed": 440,
     "status": "ok",
     "timestamp": 1668982296353,
     "user": {
      "displayName": "Moyi Tian",
      "userId": "16731155409516969374"
     },
     "user_tz": 300
    },
    "id": "zhXindBe7odc",
    "outputId": "b4e0391f-307c-4dc0-ac50-87caf1803e25"
   },
   "outputs": [
    {
     "data": {
      "image/png": "[encoded data removed]",
      "text/plain": [
       "<Figure size 800x600 with 1 Axes>"
      ]
     },
     "metadata": {},
     "output_type": "display_data"
    }
   ],
   "source": [
    "plt.figure(figsize=(8,6))\n",
    "\n",
    "plt.plot(cv_rmses[:,1])\n",
    "plt.plot(cv_rmses_baseline[:,1], 'r-', label=\"Baseline RMSEs\")\n",
    "plt.legend()\n",
    "plt.ylim(.5, .8)\n",
    "plt.title('Syntax RMSE for XGB with BertToken')\n",
    "\n",
    "plt.show()"
   ]
  },
  {
   "cell_type": "code",
   "execution_count": 37,
   "metadata": {
    "colab": {
     "base_uri": "https://localhost:8080/",
     "height": 390
    },
    "executionInfo": {
     "elapsed": 526,
     "status": "ok",
     "timestamp": 1668982311360,
     "user": {
      "displayName": "Moyi Tian",
      "userId": "16731155409516969374"
     },
     "user_tz": 300
    },
    "id": "IcaKNEVGEVNB",
    "outputId": "a188ef7a-5bee-4464-d028-c8791e5d47ab"
   },
   "outputs": [
    {
     "data": {
      "image/png": "[encoded data removed]",
      "text/plain": [
       "<Figure size 800x600 with 1 Axes>"
      ]
     },
     "metadata": {},
     "output_type": "display_data"
    }
   ],
   "source": [
    "plt.figure(figsize=(8,6))\n",
    "\n",
    "plt.plot(cv_rmses[:,2])\n",
    "plt.plot(cv_rmses_baseline[:,2], 'r-', label=\"Baseline RMSEs\")\n",
    "plt.legend()\n",
    "plt.ylim(.5, .8)\n",
    "plt.title('Vocabulary RMSE for XGB with BertToken')\n",
    "\n",
    "plt.show()"
   ]
  },
  {
   "cell_type": "code",
   "execution_count": 38,
   "metadata": {
    "colab": {
     "base_uri": "https://localhost:8080/",
     "height": 390
    },
    "executionInfo": {
     "elapsed": 1275,
     "status": "ok",
     "timestamp": 1668982325655,
     "user": {
      "displayName": "Moyi Tian",
      "userId": "16731155409516969374"
     },
     "user_tz": 300
    },
    "id": "KS_puP--EVEs",
    "outputId": "8ccec64f-5abc-4675-c165-d5021a5502f0"
   },
   "outputs": [
    {
     "data": {
      "image/png": "[encoded data removed]",
      "text/plain": [
       "<Figure size 800x600 with 1 Axes>"
      ]
     },
     "metadata": {},
     "output_type": "display_data"
    }
   ],
   "source": [
    "plt.figure(figsize=(8,6))\n",
    "\n",
    "plt.plot(cv_rmses[:,3])\n",
    "plt.plot(cv_rmses_baseline[:,3], 'r-', label=\"Baseline RMSEs\")\n",
    "plt.legend()\n",
    "plt.ylim(.5, .8)\n",
    "plt.title('Phraseology RMSE for XGB with BertToken')\n",
    "\n",
    "plt.show()"
   ]
  },
  {
   "cell_type": "code",
   "execution_count": 39,
   "metadata": {
    "colab": {
     "base_uri": "https://localhost:8080/",
     "height": 390
    },
    "executionInfo": {
     "elapsed": 450,
     "status": "ok",
     "timestamp": 1668982337645,
     "user": {
      "displayName": "Moyi Tian",
      "userId": "16731155409516969374"
     },
     "user_tz": 300
    },
    "id": "_RuBnXr5EU_P",
    "outputId": "f0b851e6-b8cf-407d-88d6-e9a6fabc0148"
   },
   "outputs": [
    {
     "data": {
      "image/png": "[encoded data removed]",
      "text/plain": [
       "<Figure size 800x600 with 1 Axes>"
      ]
     },
     "metadata": {},
     "output_type": "display_data"
    }
   ],
   "source": [
    "plt.figure(figsize=(8,6))\n",
    "\n",
    "plt.plot(cv_rmses[:,4])\n",
    "plt.plot(cv_rmses_baseline[:,4], 'r-', label=\"Baseline RMSEs\")\n",
    "plt.legend()\n",
    "plt.ylim(.5, .8)\n",
    "plt.title('Grammar RMSE for XGB with BertToken')\n",
    "\n",
    "plt.show()"
   ]
  },
  {
   "cell_type": "code",
   "execution_count": 40,
   "metadata": {
    "colab": {
     "base_uri": "https://localhost:8080/",
     "height": 390
    },
    "executionInfo": {
     "elapsed": 534,
     "status": "ok",
     "timestamp": 1668982356839,
     "user": {
      "displayName": "Moyi Tian",
      "userId": "16731155409516969374"
     },
     "user_tz": 300
    },
    "id": "zeiYrpsaEU3K",
    "outputId": "5c7baf4f-a4ac-4d7d-cd29-5559f0d287dd"
   },
   "outputs": [
    {
     "data": {
      "image/png": "[encoded data removed]",
      "text/plain": [
       "<Figure size 800x600 with 1 Axes>"
      ]
     },
     "metadata": {},
     "output_type": "display_data"
    }
   ],
   "source": [
    "plt.figure(figsize=(8,6))\n",
    "\n",
    "plt.plot(cv_rmses[:,5])\n",
    "plt.plot(cv_rmses_baseline[:,5], 'r-', label=\"Baseline RMSEs\")\n",
    "plt.legend()\n",
    "plt.ylim(.5, .8)\n",
    "plt.title('Conventions RMSE for XGB with BertToken')\n",
    "\n",
    "plt.show()"
   ]
  },
  {
   "cell_type": "markdown",
   "metadata": {
    "id": "oPdcDWUyEyDY"
   },
   "source": [
    "## MCRMSE of the Model"
   ]
  },
  {
   "cell_type": "code",
   "execution_count": 41,
   "metadata": {},
   "outputs": [],
   "source": [
    "from sklearn.model_selection import train_test_split"
   ]
  },
  {
   "cell_type": "code",
   "execution_count": 42,
   "metadata": {},
   "outputs": [],
   "source": [
    "train_train, train_test, y_train, y_test = train_test_split(train_token, y_train,\n",
    "                                                       shuffle = True,\n",
    "                                                       random_state = 440,\n",
    "                                                       test_size = .2)"
   ]
  },
  {
   "cell_type": "code",
   "execution_count": 43,
   "metadata": {},
   "outputs": [],
   "source": [
    "xgb_estimator = xgb.XGBRegressor(n_estimators=100,\n",
    "                                max_depth = 2,\n",
    "                                objective='reg:squarederror')\n",
    "model = MultiOutputRegressor(xgb_estimator, n_jobs=3)\n",
    "\n",
    "model.fit(train_train, y_train)\n",
    "predicted = model.predict(train_test)\n",
    "\n",
    "bsl = np.ones((len(y_test),1))*np.mean(y_train, axis=0)\n",
    "\n",
    "rmses = MSE(y_test, predicted, squared=False, multioutput='raw_values')\n",
    "\n",
    "baseline = MSE(y_test, bsl, squared=False, multioutput='raw_values')"
   ]
  },
  {
   "cell_type": "code",
   "execution_count": 44,
   "metadata": {
    "scrolled": true
   },
   "outputs": [
    {
     "data": {
      "text/plain": [
       "array([0.67010338, 0.64001961, 0.56756924, 0.64991656, 0.71517857,\n",
       "       0.67036347])"
      ]
     },
     "execution_count": 44,
     "metadata": {},
     "output_type": "execute_result"
    }
   ],
   "source": [
    "rmses"
   ]
  },
  {
   "cell_type": "code",
   "execution_count": 45,
   "metadata": {},
   "outputs": [
    {
     "data": {
      "text/plain": [
       "array([0.68460606, 0.65301102, 0.57901074, 0.66458238, 0.69383323,\n",
       "       0.67631762])"
      ]
     },
     "execution_count": 45,
     "metadata": {},
     "output_type": "execute_result"
    }
   ],
   "source": [
    "baseline"
   ]
  },
  {
   "cell_type": "code",
   "execution_count": 46,
   "metadata": {},
   "outputs": [
    {
     "name": "stdout",
     "output_type": "stream",
     "text": [
      "MCRMSE for XGBoost is 0.6521918044427301\n"
     ]
    }
   ],
   "source": [
    "print('MCRMSE for XGBoost is', rmses.mean())"
   ]
  },
  {
   "cell_type": "code",
   "execution_count": 47,
   "metadata": {},
   "outputs": [
    {
     "name": "stdout",
     "output_type": "stream",
     "text": [
      "MCRMSE for Baseline is 0.6585601735707021\n"
     ]
    }
   ],
   "source": [
    "print('MCRMSE for Baseline is', baseline.mean())"
   ]
  },
  {
   "cell_type": "code",
   "execution_count": null,
   "metadata": {},
   "outputs": [],
   "source": []
  }
 ],
 "metadata": {
  "colab": {
   "authorship_tag": "ABX9TyMUkYX49clONcKryI0+2VPe",
   "provenance": []
  },
  "kernelspec": {
   "display_name": "Python 3 (ipykernel)",
   "language": "python",
   "name": "python3"
  },
  "language_info": {
   "codemirror_mode": {
    "name": "ipython",
    "version": 3
   },
   "file_extension": ".py",
   "mimetype": "text/x-python",
   "name": "python",
   "nbconvert_exporter": "python",
   "pygments_lexer": "ipython3",
   "version": "3.8.5"
  },
  "widgets": {
   "application/vnd.jupyter.widget-state+json": {
    "0bc91884e2e94c5ca15329be8c869c3d": {
     "model_module": "@jupyter-widgets/base",
     "model_module_version": "1.2.0",
     "model_name": "LayoutModel",
     "state": {
      "_model_module": "@jupyter-widgets/base",
      "_model_module_version": "1.2.0",
      "_model_name": "LayoutModel",
      "_view_count": null,
      "_view_module": "@jupyter-widgets/base",
      "_view_module_version": "1.2.0",
      "_view_name": "LayoutView",
      "align_content": null,
      "align_items": null,
      "align_self": null,
      "border": null,
      "bottom": null,
      "display": null,
      "flex": null,
      "flex_flow": null,
      "grid_area": null,
      "grid_auto_columns": null,
      "grid_auto_flow": null,
      "grid_auto_rows": null,
      "grid_column": null,
      "grid_gap": null,
      "grid_row": null,
      "grid_template_areas": null,
      "grid_template_columns": null,
      "grid_template_rows": null,
      "height": null,
      "justify_content": null,
      "justify_items": null,
      "left": null,
      "margin": null,
      "max_height": null,
      "max_width": null,
      "min_height": null,
      "min_width": null,
      "object_fit": null,
      "object_position": null,
      "order": null,
      "overflow": null,
      "overflow_x": null,
      "overflow_y": null,
      "padding": null,
      "right": null,
      "top": null,
      "visibility": null,
      "width": null
     }
    },
    "10b7d438b29c4ba5b744f1e7ba2417db": {
     "model_module": "@jupyter-widgets/controls",
     "model_module_version": "1.5.0",
     "model_name": "HTMLModel",
     "state": {
      "_dom_classes": [],
      "_model_module": "@jupyter-widgets/controls",
      "_model_module_version": "1.5.0",
      "_model_name": "HTMLModel",
      "_view_count": null,
      "_view_module": "@jupyter-widgets/controls",
      "_view_module_version": "1.5.0",
      "_view_name": "HTMLView",
      "description": "",
      "description_tooltip": null,
      "layout": "IPY_MODEL_96c4ebbb5c164c48b5a212539ec2a55c",
      "placeholder": "​",
      "style": "IPY_MODEL_7980a6c21d0842f087e792c100d2349f",
      "value": "Downloading: 100%"
     }
    },
    "15d36bb7ed0b4623992afcc3a5400b40": {
     "model_module": "@jupyter-widgets/controls",
     "model_module_version": "1.5.0",
     "model_name": "DescriptionStyleModel",
     "state": {
      "_model_module": "@jupyter-widgets/controls",
      "_model_module_version": "1.5.0",
      "_model_name": "DescriptionStyleModel",
      "_view_count": null,
      "_view_module": "@jupyter-widgets/base",
      "_view_module_version": "1.2.0",
      "_view_name": "StyleView",
      "description_width": ""
     }
    },
    "25f96c57070b403498ace18bdd8b69dd": {
     "model_module": "@jupyter-widgets/controls",
     "model_module_version": "1.5.0",
     "model_name": "HTMLModel",
     "state": {
      "_dom_classes": [],
      "_model_module": "@jupyter-widgets/controls",
      "_model_module_version": "1.5.0",
      "_model_name": "HTMLModel",
      "_view_count": null,
      "_view_module": "@jupyter-widgets/controls",
      "_view_module_version": "1.5.0",
      "_view_name": "HTMLView",
      "description": "",
      "description_tooltip": null,
      "layout": "IPY_MODEL_b5ff79e19b0d4de6b983eebc70b63aed",
      "placeholder": "​",
      "style": "IPY_MODEL_15d36bb7ed0b4623992afcc3a5400b40",
      "value": " 570/570 [00:00&lt;00:00, 7.93kB/s]"
     }
    },
    "2efa1eeca21b497ead997f9fe8e2851c": {
     "model_module": "@jupyter-widgets/controls",
     "model_module_version": "1.5.0",
     "model_name": "HTMLModel",
     "state": {
      "_dom_classes": [],
      "_model_module": "@jupyter-widgets/controls",
      "_model_module_version": "1.5.0",
      "_model_name": "HTMLModel",
      "_view_count": null,
      "_view_module": "@jupyter-widgets/controls",
      "_view_module_version": "1.5.0",
      "_view_name": "HTMLView",
      "description": "",
      "description_tooltip": null,
      "layout": "IPY_MODEL_b91fa17531514ea3952c97c19850f23e",
      "placeholder": "​",
      "style": "IPY_MODEL_b0626a67b74c4582a0a36025a3b78850",
      "value": "Downloading: 100%"
     }
    },
    "31274bf1edcd46f083730d1f89fb1963": {
     "model_module": "@jupyter-widgets/base",
     "model_module_version": "1.2.0",
     "model_name": "LayoutModel",
     "state": {
      "_model_module": "@jupyter-widgets/base",
      "_model_module_version": "1.2.0",
      "_model_name": "LayoutModel",
      "_view_count": null,
      "_view_module": "@jupyter-widgets/base",
      "_view_module_version": "1.2.0",
      "_view_name": "LayoutView",
      "align_content": null,
      "align_items": null,
      "align_self": null,
      "border": null,
      "bottom": null,
      "display": null,
      "flex": null,
      "flex_flow": null,
      "grid_area": null,
      "grid_auto_columns": null,
      "grid_auto_flow": null,
      "grid_auto_rows": null,
      "grid_column": null,
      "grid_gap": null,
      "grid_row": null,
      "grid_template_areas": null,
      "grid_template_columns": null,
      "grid_template_rows": null,
      "height": null,
      "justify_content": null,
      "justify_items": null,
      "left": null,
      "margin": null,
      "max_height": null,
      "max_width": null,
      "min_height": null,
      "min_width": null,
      "object_fit": null,
      "object_position": null,
      "order": null,
      "overflow": null,
      "overflow_x": null,
      "overflow_y": null,
      "padding": null,
      "right": null,
      "top": null,
      "visibility": null,
      "width": null
     }
    },
    "312aeb805b004087a4f166da7ba7c50a": {
     "model_module": "@jupyter-widgets/controls",
     "model_module_version": "1.5.0",
     "model_name": "DescriptionStyleModel",
     "state": {
      "_model_module": "@jupyter-widgets/controls",
      "_model_module_version": "1.5.0",
      "_model_name": "DescriptionStyleModel",
      "_view_count": null,
      "_view_module": "@jupyter-widgets/base",
      "_view_module_version": "1.2.0",
      "_view_name": "StyleView",
      "description_width": ""
     }
    },
    "49b7e65ccab946518506721ff773b121": {
     "model_module": "@jupyter-widgets/controls",
     "model_module_version": "1.5.0",
     "model_name": "ProgressStyleModel",
     "state": {
      "_model_module": "@jupyter-widgets/controls",
      "_model_module_version": "1.5.0",
      "_model_name": "ProgressStyleModel",
      "_view_count": null,
      "_view_module": "@jupyter-widgets/base",
      "_view_module_version": "1.2.0",
      "_view_name": "StyleView",
      "bar_color": null,
      "description_width": ""
     }
    },
    "4c21203dfb8545029d653c1e3f699bcc": {
     "model_module": "@jupyter-widgets/controls",
     "model_module_version": "1.5.0",
     "model_name": "FloatProgressModel",
     "state": {
      "_dom_classes": [],
      "_model_module": "@jupyter-widgets/controls",
      "_model_module_version": "1.5.0",
      "_model_name": "FloatProgressModel",
      "_view_count": null,
      "_view_module": "@jupyter-widgets/controls",
      "_view_module_version": "1.5.0",
      "_view_name": "ProgressView",
      "bar_style": "success",
      "description": "",
      "description_tooltip": null,
      "layout": "IPY_MODEL_0bc91884e2e94c5ca15329be8c869c3d",
      "max": 231508,
      "min": 0,
      "orientation": "horizontal",
      "style": "IPY_MODEL_49b7e65ccab946518506721ff773b121",
      "value": 231508
     }
    },
    "53f3885982184511bdec342b99cf9aff": {
     "model_module": "@jupyter-widgets/controls",
     "model_module_version": "1.5.0",
     "model_name": "DescriptionStyleModel",
     "state": {
      "_model_module": "@jupyter-widgets/controls",
      "_model_module_version": "1.5.0",
      "_model_name": "DescriptionStyleModel",
      "_view_count": null,
      "_view_module": "@jupyter-widgets/base",
      "_view_module_version": "1.2.0",
      "_view_name": "StyleView",
      "description_width": ""
     }
    },
    "5653b192b5c94e449eae0d5b09f279b2": {
     "model_module": "@jupyter-widgets/controls",
     "model_module_version": "1.5.0",
     "model_name": "DescriptionStyleModel",
     "state": {
      "_model_module": "@jupyter-widgets/controls",
      "_model_module_version": "1.5.0",
      "_model_name": "DescriptionStyleModel",
      "_view_count": null,
      "_view_module": "@jupyter-widgets/base",
      "_view_module_version": "1.2.0",
      "_view_name": "StyleView",
      "description_width": ""
     }
    },
    "5a94a2782e654c9e9f4dc5fb784df74f": {
     "model_module": "@jupyter-widgets/base",
     "model_module_version": "1.2.0",
     "model_name": "LayoutModel",
     "state": {
      "_model_module": "@jupyter-widgets/base",
      "_model_module_version": "1.2.0",
      "_model_name": "LayoutModel",
      "_view_count": null,
      "_view_module": "@jupyter-widgets/base",
      "_view_module_version": "1.2.0",
      "_view_name": "LayoutView",
      "align_content": null,
      "align_items": null,
      "align_self": null,
      "border": null,
      "bottom": null,
      "display": null,
      "flex": null,
      "flex_flow": null,
      "grid_area": null,
      "grid_auto_columns": null,
      "grid_auto_flow": null,
      "grid_auto_rows": null,
      "grid_column": null,
      "grid_gap": null,
      "grid_row": null,
      "grid_template_areas": null,
      "grid_template_columns": null,
      "grid_template_rows": null,
      "height": null,
      "justify_content": null,
      "justify_items": null,
      "left": null,
      "margin": null,
      "max_height": null,
      "max_width": null,
      "min_height": null,
      "min_width": null,
      "object_fit": null,
      "object_position": null,
      "order": null,
      "overflow": null,
      "overflow_x": null,
      "overflow_y": null,
      "padding": null,
      "right": null,
      "top": null,
      "visibility": null,
      "width": null
     }
    },
    "5edc632981a348fd891d824ba06158e5": {
     "model_module": "@jupyter-widgets/base",
     "model_module_version": "1.2.0",
     "model_name": "LayoutModel",
     "state": {
      "_model_module": "@jupyter-widgets/base",
      "_model_module_version": "1.2.0",
      "_model_name": "LayoutModel",
      "_view_count": null,
      "_view_module": "@jupyter-widgets/base",
      "_view_module_version": "1.2.0",
      "_view_name": "LayoutView",
      "align_content": null,
      "align_items": null,
      "align_self": null,
      "border": null,
      "bottom": null,
      "display": null,
      "flex": null,
      "flex_flow": null,
      "grid_area": null,
      "grid_auto_columns": null,
      "grid_auto_flow": null,
      "grid_auto_rows": null,
      "grid_column": null,
      "grid_gap": null,
      "grid_row": null,
      "grid_template_areas": null,
      "grid_template_columns": null,
      "grid_template_rows": null,
      "height": null,
      "justify_content": null,
      "justify_items": null,
      "left": null,
      "margin": null,
      "max_height": null,
      "max_width": null,
      "min_height": null,
      "min_width": null,
      "object_fit": null,
      "object_position": null,
      "order": null,
      "overflow": null,
      "overflow_x": null,
      "overflow_y": null,
      "padding": null,
      "right": null,
      "top": null,
      "visibility": null,
      "width": null
     }
    },
    "6d212cb55bb1427fa86c92fc22538a24": {
     "model_module": "@jupyter-widgets/controls",
     "model_module_version": "1.5.0",
     "model_name": "HTMLModel",
     "state": {
      "_dom_classes": [],
      "_model_module": "@jupyter-widgets/controls",
      "_model_module_version": "1.5.0",
      "_model_name": "HTMLModel",
      "_view_count": null,
      "_view_module": "@jupyter-widgets/controls",
      "_view_module_version": "1.5.0",
      "_view_name": "HTMLView",
      "description": "",
      "description_tooltip": null,
      "layout": "IPY_MODEL_5a94a2782e654c9e9f4dc5fb784df74f",
      "placeholder": "​",
      "style": "IPY_MODEL_f3a1bbb5b9e6411882284920a45a2ee3",
      "value": " 28.0/28.0 [00:00&lt;00:00, 595B/s]"
     }
    },
    "722112b6c6cb4e1b8b1d4e707162c927": {
     "model_module": "@jupyter-widgets/controls",
     "model_module_version": "1.5.0",
     "model_name": "ProgressStyleModel",
     "state": {
      "_model_module": "@jupyter-widgets/controls",
      "_model_module_version": "1.5.0",
      "_model_name": "ProgressStyleModel",
      "_view_count": null,
      "_view_module": "@jupyter-widgets/base",
      "_view_module_version": "1.2.0",
      "_view_name": "StyleView",
      "bar_color": null,
      "description_width": ""
     }
    },
    "728f23a711964e388a8c5f1e1d984067": {
     "model_module": "@jupyter-widgets/base",
     "model_module_version": "1.2.0",
     "model_name": "LayoutModel",
     "state": {
      "_model_module": "@jupyter-widgets/base",
      "_model_module_version": "1.2.0",
      "_model_name": "LayoutModel",
      "_view_count": null,
      "_view_module": "@jupyter-widgets/base",
      "_view_module_version": "1.2.0",
      "_view_name": "LayoutView",
      "align_content": null,
      "align_items": null,
      "align_self": null,
      "border": null,
      "bottom": null,
      "display": null,
      "flex": null,
      "flex_flow": null,
      "grid_area": null,
      "grid_auto_columns": null,
      "grid_auto_flow": null,
      "grid_auto_rows": null,
      "grid_column": null,
      "grid_gap": null,
      "grid_row": null,
      "grid_template_areas": null,
      "grid_template_columns": null,
      "grid_template_rows": null,
      "height": null,
      "justify_content": null,
      "justify_items": null,
      "left": null,
      "margin": null,
      "max_height": null,
      "max_width": null,
      "min_height": null,
      "min_width": null,
      "object_fit": null,
      "object_position": null,
      "order": null,
      "overflow": null,
      "overflow_x": null,
      "overflow_y": null,
      "padding": null,
      "right": null,
      "top": null,
      "visibility": null,
      "width": null
     }
    },
    "7980a6c21d0842f087e792c100d2349f": {
     "model_module": "@jupyter-widgets/controls",
     "model_module_version": "1.5.0",
     "model_name": "DescriptionStyleModel",
     "state": {
      "_model_module": "@jupyter-widgets/controls",
      "_model_module_version": "1.5.0",
      "_model_name": "DescriptionStyleModel",
      "_view_count": null,
      "_view_module": "@jupyter-widgets/base",
      "_view_module_version": "1.2.0",
      "_view_name": "StyleView",
      "description_width": ""
     }
    },
    "842c28fe1ea5434eb0a8174654c9a8a5": {
     "model_module": "@jupyter-widgets/base",
     "model_module_version": "1.2.0",
     "model_name": "LayoutModel",
     "state": {
      "_model_module": "@jupyter-widgets/base",
      "_model_module_version": "1.2.0",
      "_model_name": "LayoutModel",
      "_view_count": null,
      "_view_module": "@jupyter-widgets/base",
      "_view_module_version": "1.2.0",
      "_view_name": "LayoutView",
      "align_content": null,
      "align_items": null,
      "align_self": null,
      "border": null,
      "bottom": null,
      "display": null,
      "flex": null,
      "flex_flow": null,
      "grid_area": null,
      "grid_auto_columns": null,
      "grid_auto_flow": null,
      "grid_auto_rows": null,
      "grid_column": null,
      "grid_gap": null,
      "grid_row": null,
      "grid_template_areas": null,
      "grid_template_columns": null,
      "grid_template_rows": null,
      "height": null,
      "justify_content": null,
      "justify_items": null,
      "left": null,
      "margin": null,
      "max_height": null,
      "max_width": null,
      "min_height": null,
      "min_width": null,
      "object_fit": null,
      "object_position": null,
      "order": null,
      "overflow": null,
      "overflow_x": null,
      "overflow_y": null,
      "padding": null,
      "right": null,
      "top": null,
      "visibility": null,
      "width": null
     }
    },
    "86c0b616489346d68f8e994cca93e2f0": {
     "model_module": "@jupyter-widgets/controls",
     "model_module_version": "1.5.0",
     "model_name": "HBoxModel",
     "state": {
      "_dom_classes": [],
      "_model_module": "@jupyter-widgets/controls",
      "_model_module_version": "1.5.0",
      "_model_name": "HBoxModel",
      "_view_count": null,
      "_view_module": "@jupyter-widgets/controls",
      "_view_module_version": "1.5.0",
      "_view_name": "HBoxView",
      "box_style": "",
      "children": [
       "IPY_MODEL_10b7d438b29c4ba5b744f1e7ba2417db",
       "IPY_MODEL_c50630a533094c619b215aef7655fb6c",
       "IPY_MODEL_25f96c57070b403498ace18bdd8b69dd"
      ],
      "layout": "IPY_MODEL_c3cc4b8d053b4bb4bd0f494b72a97f79"
     }
    },
    "8c8d255e12c24b2f916bb2f1d7cdbd81": {
     "model_module": "@jupyter-widgets/controls",
     "model_module_version": "1.5.0",
     "model_name": "ProgressStyleModel",
     "state": {
      "_model_module": "@jupyter-widgets/controls",
      "_model_module_version": "1.5.0",
      "_model_name": "ProgressStyleModel",
      "_view_count": null,
      "_view_module": "@jupyter-widgets/base",
      "_view_module_version": "1.2.0",
      "_view_name": "StyleView",
      "bar_color": null,
      "description_width": ""
     }
    },
    "8e1b22a02d76419da85597ebd8786caa": {
     "model_module": "@jupyter-widgets/controls",
     "model_module_version": "1.5.0",
     "model_name": "FloatProgressModel",
     "state": {
      "_dom_classes": [],
      "_model_module": "@jupyter-widgets/controls",
      "_model_module_version": "1.5.0",
      "_model_name": "FloatProgressModel",
      "_view_count": null,
      "_view_module": "@jupyter-widgets/controls",
      "_view_module_version": "1.5.0",
      "_view_name": "ProgressView",
      "bar_style": "success",
      "description": "",
      "description_tooltip": null,
      "layout": "IPY_MODEL_93410d1a8466486a8df3f91f38233d30",
      "max": 28,
      "min": 0,
      "orientation": "horizontal",
      "style": "IPY_MODEL_9b58561a330a40a0b007dd39f2ea4edc",
      "value": 28
     }
    },
    "93410d1a8466486a8df3f91f38233d30": {
     "model_module": "@jupyter-widgets/base",
     "model_module_version": "1.2.0",
     "model_name": "LayoutModel",
     "state": {
      "_model_module": "@jupyter-widgets/base",
      "_model_module_version": "1.2.0",
      "_model_name": "LayoutModel",
      "_view_count": null,
      "_view_module": "@jupyter-widgets/base",
      "_view_module_version": "1.2.0",
      "_view_name": "LayoutView",
      "align_content": null,
      "align_items": null,
      "align_self": null,
      "border": null,
      "bottom": null,
      "display": null,
      "flex": null,
      "flex_flow": null,
      "grid_area": null,
      "grid_auto_columns": null,
      "grid_auto_flow": null,
      "grid_auto_rows": null,
      "grid_column": null,
      "grid_gap": null,
      "grid_row": null,
      "grid_template_areas": null,
      "grid_template_columns": null,
      "grid_template_rows": null,
      "height": null,
      "justify_content": null,
      "justify_items": null,
      "left": null,
      "margin": null,
      "max_height": null,
      "max_width": null,
      "min_height": null,
      "min_width": null,
      "object_fit": null,
      "object_position": null,
      "order": null,
      "overflow": null,
      "overflow_x": null,
      "overflow_y": null,
      "padding": null,
      "right": null,
      "top": null,
      "visibility": null,
      "width": null
     }
    },
    "96c4ebbb5c164c48b5a212539ec2a55c": {
     "model_module": "@jupyter-widgets/base",
     "model_module_version": "1.2.0",
     "model_name": "LayoutModel",
     "state": {
      "_model_module": "@jupyter-widgets/base",
      "_model_module_version": "1.2.0",
      "_model_name": "LayoutModel",
      "_view_count": null,
      "_view_module": "@jupyter-widgets/base",
      "_view_module_version": "1.2.0",
      "_view_name": "LayoutView",
      "align_content": null,
      "align_items": null,
      "align_self": null,
      "border": null,
      "bottom": null,
      "display": null,
      "flex": null,
      "flex_flow": null,
      "grid_area": null,
      "grid_auto_columns": null,
      "grid_auto_flow": null,
      "grid_auto_rows": null,
      "grid_column": null,
      "grid_gap": null,
      "grid_row": null,
      "grid_template_areas": null,
      "grid_template_columns": null,
      "grid_template_rows": null,
      "height": null,
      "justify_content": null,
      "justify_items": null,
      "left": null,
      "margin": null,
      "max_height": null,
      "max_width": null,
      "min_height": null,
      "min_width": null,
      "object_fit": null,
      "object_position": null,
      "order": null,
      "overflow": null,
      "overflow_x": null,
      "overflow_y": null,
      "padding": null,
      "right": null,
      "top": null,
      "visibility": null,
      "width": null
     }
    },
    "9b58561a330a40a0b007dd39f2ea4edc": {
     "model_module": "@jupyter-widgets/controls",
     "model_module_version": "1.5.0",
     "model_name": "ProgressStyleModel",
     "state": {
      "_model_module": "@jupyter-widgets/controls",
      "_model_module_version": "1.5.0",
      "_model_name": "ProgressStyleModel",
      "_view_count": null,
      "_view_module": "@jupyter-widgets/base",
      "_view_module_version": "1.2.0",
      "_view_name": "StyleView",
      "bar_color": null,
      "description_width": ""
     }
    },
    "b0626a67b74c4582a0a36025a3b78850": {
     "model_module": "@jupyter-widgets/controls",
     "model_module_version": "1.5.0",
     "model_name": "DescriptionStyleModel",
     "state": {
      "_model_module": "@jupyter-widgets/controls",
      "_model_module_version": "1.5.0",
      "_model_name": "DescriptionStyleModel",
      "_view_count": null,
      "_view_module": "@jupyter-widgets/base",
      "_view_module_version": "1.2.0",
      "_view_name": "StyleView",
      "description_width": ""
     }
    },
    "b5ff79e19b0d4de6b983eebc70b63aed": {
     "model_module": "@jupyter-widgets/base",
     "model_module_version": "1.2.0",
     "model_name": "LayoutModel",
     "state": {
      "_model_module": "@jupyter-widgets/base",
      "_model_module_version": "1.2.0",
      "_model_name": "LayoutModel",
      "_view_count": null,
      "_view_module": "@jupyter-widgets/base",
      "_view_module_version": "1.2.0",
      "_view_name": "LayoutView",
      "align_content": null,
      "align_items": null,
      "align_self": null,
      "border": null,
      "bottom": null,
      "display": null,
      "flex": null,
      "flex_flow": null,
      "grid_area": null,
      "grid_auto_columns": null,
      "grid_auto_flow": null,
      "grid_auto_rows": null,
      "grid_column": null,
      "grid_gap": null,
      "grid_row": null,
      "grid_template_areas": null,
      "grid_template_columns": null,
      "grid_template_rows": null,
      "height": null,
      "justify_content": null,
      "justify_items": null,
      "left": null,
      "margin": null,
      "max_height": null,
      "max_width": null,
      "min_height": null,
      "min_width": null,
      "object_fit": null,
      "object_position": null,
      "order": null,
      "overflow": null,
      "overflow_x": null,
      "overflow_y": null,
      "padding": null,
      "right": null,
      "top": null,
      "visibility": null,
      "width": null
     }
    },
    "b695ad4fef884e7fa89c8196b35496ef": {
     "model_module": "@jupyter-widgets/controls",
     "model_module_version": "1.5.0",
     "model_name": "HBoxModel",
     "state": {
      "_dom_classes": [],
      "_model_module": "@jupyter-widgets/controls",
      "_model_module_version": "1.5.0",
      "_model_name": "HBoxModel",
      "_view_count": null,
      "_view_module": "@jupyter-widgets/controls",
      "_view_module_version": "1.5.0",
      "_view_name": "HBoxView",
      "box_style": "",
      "children": [
       "IPY_MODEL_dd92f4996b5e4823955ceafe63c6a612",
       "IPY_MODEL_4c21203dfb8545029d653c1e3f699bcc",
       "IPY_MODEL_df2991fb799f480b8869c070faf97a3e"
      ],
      "layout": "IPY_MODEL_5edc632981a348fd891d824ba06158e5"
     }
    },
    "b91fa17531514ea3952c97c19850f23e": {
     "model_module": "@jupyter-widgets/base",
     "model_module_version": "1.2.0",
     "model_name": "LayoutModel",
     "state": {
      "_model_module": "@jupyter-widgets/base",
      "_model_module_version": "1.2.0",
      "_model_name": "LayoutModel",
      "_view_count": null,
      "_view_module": "@jupyter-widgets/base",
      "_view_module_version": "1.2.0",
      "_view_name": "LayoutView",
      "align_content": null,
      "align_items": null,
      "align_self": null,
      "border": null,
      "bottom": null,
      "display": null,
      "flex": null,
      "flex_flow": null,
      "grid_area": null,
      "grid_auto_columns": null,
      "grid_auto_flow": null,
      "grid_auto_rows": null,
      "grid_column": null,
      "grid_gap": null,
      "grid_row": null,
      "grid_template_areas": null,
      "grid_template_columns": null,
      "grid_template_rows": null,
      "height": null,
      "justify_content": null,
      "justify_items": null,
      "left": null,
      "margin": null,
      "max_height": null,
      "max_width": null,
      "min_height": null,
      "min_width": null,
      "object_fit": null,
      "object_position": null,
      "order": null,
      "overflow": null,
      "overflow_x": null,
      "overflow_y": null,
      "padding": null,
      "right": null,
      "top": null,
      "visibility": null,
      "width": null
     }
    },
    "bc98d236a7b546dabd0626e8a3e6427d": {
     "model_module": "@jupyter-widgets/controls",
     "model_module_version": "1.5.0",
     "model_name": "DescriptionStyleModel",
     "state": {
      "_model_module": "@jupyter-widgets/controls",
      "_model_module_version": "1.5.0",
      "_model_name": "DescriptionStyleModel",
      "_view_count": null,
      "_view_module": "@jupyter-widgets/base",
      "_view_module_version": "1.2.0",
      "_view_name": "StyleView",
      "description_width": ""
     }
    },
    "be6dff1a41d54902b0926b32d4fc20fa": {
     "model_module": "@jupyter-widgets/controls",
     "model_module_version": "1.5.0",
     "model_name": "HBoxModel",
     "state": {
      "_dom_classes": [],
      "_model_module": "@jupyter-widgets/controls",
      "_model_module_version": "1.5.0",
      "_model_name": "HBoxModel",
      "_view_count": null,
      "_view_module": "@jupyter-widgets/controls",
      "_view_module_version": "1.5.0",
      "_view_name": "HBoxView",
      "box_style": "",
      "children": [
       "IPY_MODEL_2efa1eeca21b497ead997f9fe8e2851c",
       "IPY_MODEL_8e1b22a02d76419da85597ebd8786caa",
       "IPY_MODEL_6d212cb55bb1427fa86c92fc22538a24"
      ],
      "layout": "IPY_MODEL_ce8718172ccf4273b35d68ff4d060c19"
     }
    },
    "c04b45cef2044745bd54049790959d7d": {
     "model_module": "@jupyter-widgets/base",
     "model_module_version": "1.2.0",
     "model_name": "LayoutModel",
     "state": {
      "_model_module": "@jupyter-widgets/base",
      "_model_module_version": "1.2.0",
      "_model_name": "LayoutModel",
      "_view_count": null,
      "_view_module": "@jupyter-widgets/base",
      "_view_module_version": "1.2.0",
      "_view_name": "LayoutView",
      "align_content": null,
      "align_items": null,
      "align_self": null,
      "border": null,
      "bottom": null,
      "display": null,
      "flex": null,
      "flex_flow": null,
      "grid_area": null,
      "grid_auto_columns": null,
      "grid_auto_flow": null,
      "grid_auto_rows": null,
      "grid_column": null,
      "grid_gap": null,
      "grid_row": null,
      "grid_template_areas": null,
      "grid_template_columns": null,
      "grid_template_rows": null,
      "height": null,
      "justify_content": null,
      "justify_items": null,
      "left": null,
      "margin": null,
      "max_height": null,
      "max_width": null,
      "min_height": null,
      "min_width": null,
      "object_fit": null,
      "object_position": null,
      "order": null,
      "overflow": null,
      "overflow_x": null,
      "overflow_y": null,
      "padding": null,
      "right": null,
      "top": null,
      "visibility": null,
      "width": null
     }
    },
    "c3cc4b8d053b4bb4bd0f494b72a97f79": {
     "model_module": "@jupyter-widgets/base",
     "model_module_version": "1.2.0",
     "model_name": "LayoutModel",
     "state": {
      "_model_module": "@jupyter-widgets/base",
      "_model_module_version": "1.2.0",
      "_model_name": "LayoutModel",
      "_view_count": null,
      "_view_module": "@jupyter-widgets/base",
      "_view_module_version": "1.2.0",
      "_view_name": "LayoutView",
      "align_content": null,
      "align_items": null,
      "align_self": null,
      "border": null,
      "bottom": null,
      "display": null,
      "flex": null,
      "flex_flow": null,
      "grid_area": null,
      "grid_auto_columns": null,
      "grid_auto_flow": null,
      "grid_auto_rows": null,
      "grid_column": null,
      "grid_gap": null,
      "grid_row": null,
      "grid_template_areas": null,
      "grid_template_columns": null,
      "grid_template_rows": null,
      "height": null,
      "justify_content": null,
      "justify_items": null,
      "left": null,
      "margin": null,
      "max_height": null,
      "max_width": null,
      "min_height": null,
      "min_width": null,
      "object_fit": null,
      "object_position": null,
      "order": null,
      "overflow": null,
      "overflow_x": null,
      "overflow_y": null,
      "padding": null,
      "right": null,
      "top": null,
      "visibility": null,
      "width": null
     }
    },
    "c50630a533094c619b215aef7655fb6c": {
     "model_module": "@jupyter-widgets/controls",
     "model_module_version": "1.5.0",
     "model_name": "FloatProgressModel",
     "state": {
      "_dom_classes": [],
      "_model_module": "@jupyter-widgets/controls",
      "_model_module_version": "1.5.0",
      "_model_name": "FloatProgressModel",
      "_view_count": null,
      "_view_module": "@jupyter-widgets/controls",
      "_view_module_version": "1.5.0",
      "_view_name": "ProgressView",
      "bar_style": "success",
      "description": "",
      "description_tooltip": null,
      "layout": "IPY_MODEL_31274bf1edcd46f083730d1f89fb1963",
      "max": 570,
      "min": 0,
      "orientation": "horizontal",
      "style": "IPY_MODEL_722112b6c6cb4e1b8b1d4e707162c927",
      "value": 570
     }
    },
    "ce8718172ccf4273b35d68ff4d060c19": {
     "model_module": "@jupyter-widgets/base",
     "model_module_version": "1.2.0",
     "model_name": "LayoutModel",
     "state": {
      "_model_module": "@jupyter-widgets/base",
      "_model_module_version": "1.2.0",
      "_model_name": "LayoutModel",
      "_view_count": null,
      "_view_module": "@jupyter-widgets/base",
      "_view_module_version": "1.2.0",
      "_view_name": "LayoutView",
      "align_content": null,
      "align_items": null,
      "align_self": null,
      "border": null,
      "bottom": null,
      "display": null,
      "flex": null,
      "flex_flow": null,
      "grid_area": null,
      "grid_auto_columns": null,
      "grid_auto_flow": null,
      "grid_auto_rows": null,
      "grid_column": null,
      "grid_gap": null,
      "grid_row": null,
      "grid_template_areas": null,
      "grid_template_columns": null,
      "grid_template_rows": null,
      "height": null,
      "justify_content": null,
      "justify_items": null,
      "left": null,
      "margin": null,
      "max_height": null,
      "max_width": null,
      "min_height": null,
      "min_width": null,
      "object_fit": null,
      "object_position": null,
      "order": null,
      "overflow": null,
      "overflow_x": null,
      "overflow_y": null,
      "padding": null,
      "right": null,
      "top": null,
      "visibility": null,
      "width": null
     }
    },
    "d6d56a7a90294c93ba9f20fbb8b0e0b0": {
     "model_module": "@jupyter-widgets/controls",
     "model_module_version": "1.5.0",
     "model_name": "FloatProgressModel",
     "state": {
      "_dom_classes": [],
      "_model_module": "@jupyter-widgets/controls",
      "_model_module_version": "1.5.0",
      "_model_name": "FloatProgressModel",
      "_view_count": null,
      "_view_module": "@jupyter-widgets/controls",
      "_view_module_version": "1.5.0",
      "_view_name": "ProgressView",
      "bar_style": "success",
      "description": "",
      "description_tooltip": null,
      "layout": "IPY_MODEL_eb4d35c70a8445a3af97b3a89aafc7dd",
      "max": 466062,
      "min": 0,
      "orientation": "horizontal",
      "style": "IPY_MODEL_8c8d255e12c24b2f916bb2f1d7cdbd81",
      "value": 466062
     }
    },
    "dd92f4996b5e4823955ceafe63c6a612": {
     "model_module": "@jupyter-widgets/controls",
     "model_module_version": "1.5.0",
     "model_name": "HTMLModel",
     "state": {
      "_dom_classes": [],
      "_model_module": "@jupyter-widgets/controls",
      "_model_module_version": "1.5.0",
      "_model_name": "HTMLModel",
      "_view_count": null,
      "_view_module": "@jupyter-widgets/controls",
      "_view_module_version": "1.5.0",
      "_view_name": "HTMLView",
      "description": "",
      "description_tooltip": null,
      "layout": "IPY_MODEL_728f23a711964e388a8c5f1e1d984067",
      "placeholder": "​",
      "style": "IPY_MODEL_bc98d236a7b546dabd0626e8a3e6427d",
      "value": "Downloading: 100%"
     }
    },
    "df2991fb799f480b8869c070faf97a3e": {
     "model_module": "@jupyter-widgets/controls",
     "model_module_version": "1.5.0",
     "model_name": "HTMLModel",
     "state": {
      "_dom_classes": [],
      "_model_module": "@jupyter-widgets/controls",
      "_model_module_version": "1.5.0",
      "_model_name": "HTMLModel",
      "_view_count": null,
      "_view_module": "@jupyter-widgets/controls",
      "_view_module_version": "1.5.0",
      "_view_name": "HTMLView",
      "description": "",
      "description_tooltip": null,
      "layout": "IPY_MODEL_c04b45cef2044745bd54049790959d7d",
      "placeholder": "​",
      "style": "IPY_MODEL_312aeb805b004087a4f166da7ba7c50a",
      "value": " 232k/232k [00:00&lt;00:00, 3.19MB/s]"
     }
    },
    "e5318e317c5c432bb2d6705aab550a2d": {
     "model_module": "@jupyter-widgets/base",
     "model_module_version": "1.2.0",
     "model_name": "LayoutModel",
     "state": {
      "_model_module": "@jupyter-widgets/base",
      "_model_module_version": "1.2.0",
      "_model_name": "LayoutModel",
      "_view_count": null,
      "_view_module": "@jupyter-widgets/base",
      "_view_module_version": "1.2.0",
      "_view_name": "LayoutView",
      "align_content": null,
      "align_items": null,
      "align_self": null,
      "border": null,
      "bottom": null,
      "display": null,
      "flex": null,
      "flex_flow": null,
      "grid_area": null,
      "grid_auto_columns": null,
      "grid_auto_flow": null,
      "grid_auto_rows": null,
      "grid_column": null,
      "grid_gap": null,
      "grid_row": null,
      "grid_template_areas": null,
      "grid_template_columns": null,
      "grid_template_rows": null,
      "height": null,
      "justify_content": null,
      "justify_items": null,
      "left": null,
      "margin": null,
      "max_height": null,
      "max_width": null,
      "min_height": null,
      "min_width": null,
      "object_fit": null,
      "object_position": null,
      "order": null,
      "overflow": null,
      "overflow_x": null,
      "overflow_y": null,
      "padding": null,
      "right": null,
      "top": null,
      "visibility": null,
      "width": null
     }
    },
    "e63dc59664be488ea1f9ed0870dedf6f": {
     "model_module": "@jupyter-widgets/base",
     "model_module_version": "1.2.0",
     "model_name": "LayoutModel",
     "state": {
      "_model_module": "@jupyter-widgets/base",
      "_model_module_version": "1.2.0",
      "_model_name": "LayoutModel",
      "_view_count": null,
      "_view_module": "@jupyter-widgets/base",
      "_view_module_version": "1.2.0",
      "_view_name": "LayoutView",
      "align_content": null,
      "align_items": null,
      "align_self": null,
      "border": null,
      "bottom": null,
      "display": null,
      "flex": null,
      "flex_flow": null,
      "grid_area": null,
      "grid_auto_columns": null,
      "grid_auto_flow": null,
      "grid_auto_rows": null,
      "grid_column": null,
      "grid_gap": null,
      "grid_row": null,
      "grid_template_areas": null,
      "grid_template_columns": null,
      "grid_template_rows": null,
      "height": null,
      "justify_content": null,
      "justify_items": null,
      "left": null,
      "margin": null,
      "max_height": null,
      "max_width": null,
      "min_height": null,
      "min_width": null,
      "object_fit": null,
      "object_position": null,
      "order": null,
      "overflow": null,
      "overflow_x": null,
      "overflow_y": null,
      "padding": null,
      "right": null,
      "top": null,
      "visibility": null,
      "width": null
     }
    },
    "e7d2388b69dc465cbc3adf3c6ecdb4b4": {
     "model_module": "@jupyter-widgets/controls",
     "model_module_version": "1.5.0",
     "model_name": "HTMLModel",
     "state": {
      "_dom_classes": [],
      "_model_module": "@jupyter-widgets/controls",
      "_model_module_version": "1.5.0",
      "_model_name": "HTMLModel",
      "_view_count": null,
      "_view_module": "@jupyter-widgets/controls",
      "_view_module_version": "1.5.0",
      "_view_name": "HTMLView",
      "description": "",
      "description_tooltip": null,
      "layout": "IPY_MODEL_e5318e317c5c432bb2d6705aab550a2d",
      "placeholder": "​",
      "style": "IPY_MODEL_53f3885982184511bdec342b99cf9aff",
      "value": " 466k/466k [00:00&lt;00:00, 6.27MB/s]"
     }
    },
    "e8f2b301d5a840b58c40a2d0796803f9": {
     "model_module": "@jupyter-widgets/controls",
     "model_module_version": "1.5.0",
     "model_name": "HTMLModel",
     "state": {
      "_dom_classes": [],
      "_model_module": "@jupyter-widgets/controls",
      "_model_module_version": "1.5.0",
      "_model_name": "HTMLModel",
      "_view_count": null,
      "_view_module": "@jupyter-widgets/controls",
      "_view_module_version": "1.5.0",
      "_view_name": "HTMLView",
      "description": "",
      "description_tooltip": null,
      "layout": "IPY_MODEL_842c28fe1ea5434eb0a8174654c9a8a5",
      "placeholder": "​",
      "style": "IPY_MODEL_5653b192b5c94e449eae0d5b09f279b2",
      "value": "Downloading: 100%"
     }
    },
    "e9fe94bacbcc4c8c8e02c24d452e8dc1": {
     "model_module": "@jupyter-widgets/controls",
     "model_module_version": "1.5.0",
     "model_name": "HBoxModel",
     "state": {
      "_dom_classes": [],
      "_model_module": "@jupyter-widgets/controls",
      "_model_module_version": "1.5.0",
      "_model_name": "HBoxModel",
      "_view_count": null,
      "_view_module": "@jupyter-widgets/controls",
      "_view_module_version": "1.5.0",
      "_view_name": "HBoxView",
      "box_style": "",
      "children": [
       "IPY_MODEL_e8f2b301d5a840b58c40a2d0796803f9",
       "IPY_MODEL_d6d56a7a90294c93ba9f20fbb8b0e0b0",
       "IPY_MODEL_e7d2388b69dc465cbc3adf3c6ecdb4b4"
      ],
      "layout": "IPY_MODEL_e63dc59664be488ea1f9ed0870dedf6f"
     }
    },
    "eb4d35c70a8445a3af97b3a89aafc7dd": {
     "model_module": "@jupyter-widgets/base",
     "model_module_version": "1.2.0",
     "model_name": "LayoutModel",
     "state": {
      "_model_module": "@jupyter-widgets/base",
      "_model_module_version": "1.2.0",
      "_model_name": "LayoutModel",
      "_view_count": null,
      "_view_module": "@jupyter-widgets/base",
      "_view_module_version": "1.2.0",
      "_view_name": "LayoutView",
      "align_content": null,
      "align_items": null,
      "align_self": null,
      "border": null,
      "bottom": null,
      "display": null,
      "flex": null,
      "flex_flow": null,
      "grid_area": null,
      "grid_auto_columns": null,
      "grid_auto_flow": null,
      "grid_auto_rows": null,
      "grid_column": null,
      "grid_gap": null,
      "grid_row": null,
      "grid_template_areas": null,
      "grid_template_columns": null,
      "grid_template_rows": null,
      "height": null,
      "justify_content": null,
      "justify_items": null,
      "left": null,
      "margin": null,
      "max_height": null,
      "max_width": null,
      "min_height": null,
      "min_width": null,
      "object_fit": null,
      "object_position": null,
      "order": null,
      "overflow": null,
      "overflow_x": null,
      "overflow_y": null,
      "padding": null,
      "right": null,
      "top": null,
      "visibility": null,
      "width": null
     }
    },
    "f3a1bbb5b9e6411882284920a45a2ee3": {
     "model_module": "@jupyter-widgets/controls",
     "model_module_version": "1.5.0",
     "model_name": "DescriptionStyleModel",
     "state": {
      "_model_module": "@jupyter-widgets/controls",
      "_model_module_version": "1.5.0",
      "_model_name": "DescriptionStyleModel",
      "_view_count": null,
      "_view_module": "@jupyter-widgets/base",
      "_view_module_version": "1.2.0",
      "_view_name": "StyleView",
      "description_width": ""
     }
    }
   }
  }
 },
 "nbformat": 4,
 "nbformat_minor": 1
}
